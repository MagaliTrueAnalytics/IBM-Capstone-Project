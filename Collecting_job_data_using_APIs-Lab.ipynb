{
 "cells": [
  {
   "cell_type": "markdown",
   "metadata": {},
   "source": [
    "<p style=\"text-align:center\">\n",
    "    <a href=\"https://skills.network\" target=\"_blank\">\n",
    "    <img src=\"https://cf-courses-data.s3.us.cloud-object-storage.appdomain.cloud/assets/logos/SN_web_lightmode.png\" width=\"200\" alt=\"Skills Network Logo\">\n",
    "    </a>\n",
    "</p>\n"
   ]
  },
  {
   "cell_type": "markdown",
   "metadata": {},
   "source": [
    "# **Collecting Job Data Using APIs**\n"
   ]
  },
  {
   "cell_type": "markdown",
   "metadata": {},
   "source": [
    "Estimated time needed: **30** minutes\n"
   ]
  },
  {
   "cell_type": "markdown",
   "metadata": {
    "jp-MarkdownHeadingCollapsed": true,
    "tags": []
   },
   "source": [
    "## Objectives\n"
   ]
  },
  {
   "cell_type": "markdown",
   "metadata": {},
   "source": [
    "After completing this lab, you will be able to:\n"
   ]
  },
  {
   "cell_type": "markdown",
   "metadata": {},
   "source": [
    "*   Collect job data using Jobs API\n",
    "*   Store the collected data into an excel spreadsheet.\n"
   ]
  },
  {
   "cell_type": "markdown",
   "metadata": {},
   "source": [
    "><strong>Note: Before starting with the assignment make sure to read all the instructions and then move ahead with the coding part.</strong>\n"
   ]
  },
  {
   "cell_type": "markdown",
   "metadata": {},
   "source": [
    "#### Instructions\n"
   ]
  },
  {
   "cell_type": "markdown",
   "metadata": {},
   "source": [
    "To run the actual lab, firstly you need to click on the [Jobs_API](https://cf-courses-data.s3.us.cloud-object-storage.appdomain.cloud/IBM-DA0321EN-SkillsNetwork/labs/module%201/Accessing%20Data%20Using%20APIs/Jobs_API.ipynb) notebook link. The file contains flask code which is required to run the Jobs API data.\n",
    "\n",
    "Now, to run the code in the file that opens up follow the below steps.\n",
    "\n",
    "Step1: Download the file. \n",
    "\n",
    "Step2: Upload the file into your current Jupyter environment using the upload button in your Jupyter interface. Ensure that the file is in the same folder as your working .ipynb file.\n",
    "\n",
    "Step 2: If working in a local Jupyter environment, use the \"Upload\" button in your Jupyter interface to upload the Jobs_API notebook into the same folder as your current .ipynb file.\n",
    "\n",
    "<img src=\"https://cf-courses-data.s3.us.cloud-object-storage.appdomain.cloud/IBM-DA0321EN-SkillsNetwork/labs/module%201/Accessing%20Data%20Using%20APIs/Upload.PNG\">\n",
    "\n",
    "Step3:  Open the Jobs_API notebook, and run all the cells to start the Flask application. Once the server is running, you can access the API from the URL provided in the notebook.\n",
    "\n",
    "If you want to learn more about flask, which is optional, you can click on this link [here](https://cf-courses-data.s3.us.cloud-object-storage.appdomain.cloud/IBM-DA0321EN-SkillsNetwork/labs/module%201/Accessing%20Data%20Using%20APIs/FLASK_API.md.html).\n",
    "\n",
    "Once you run the flask code, you can start with your assignment.\n"
   ]
  },
  {
   "cell_type": "markdown",
   "metadata": {
    "jp-MarkdownHeadingCollapsed": true,
    "tags": []
   },
   "source": [
    "## Dataset Used in this Assignment\n",
    "\n",
    "The dataset used in this lab comes from the following source: https://www.kaggle.com/promptcloud/jobs-on-naukricom under the under a **Public Domain license**.\n",
    "\n",
    "> Note: We are using a modified subset of that dataset for the lab, so to follow the lab instructions successfully please use the dataset provided with the lab, rather than the dataset from the original source.\n",
    "\n",
    "The original dataset is a csv. We have converted the csv to json as per the requirement of the lab.\n"
   ]
  },
  {
   "cell_type": "markdown",
   "metadata": {},
   "source": [
    "<h2> 🎯 Objective: Determine the number of jobs currently open for :</h2>\n",
    "    \n",
    "    \n",
    "**Various Programming Languages** \n",
    "    \n",
    "**Various Locations**\n",
    "    \n",
    "**Various IDE**\n",
    "    \n",
    "**Various Technologies & Tools (Softwares, AI etc...)**\n"
   ]
  },
  {
   "cell_type": "markdown",
   "metadata": {
    "tags": []
   },
   "source": [
    "<h3>🛠️Import all required Libraries</h3>"
   ]
  },
  {
   "cell_type": "code",
   "execution_count": 2,
   "metadata": {
    "tags": []
   },
   "outputs": [
    {
     "name": "stdout",
     "output_type": "stream",
     "text": [
      "Collecting openpyxl\n",
      "  Downloading openpyxl-3.1.3-py2.py3-none-any.whl (251 kB)\n",
      "\u001b[2K     \u001b[90m━━━━━━━━━━━━━━━━━━━━━━━━━━━━━━━━━━━━━━\u001b[0m \u001b[32m251.3/251.3 kB\u001b[0m \u001b[31m18.9 MB/s\u001b[0m eta \u001b[36m0:00:00\u001b[0m\n",
      "\u001b[?25hCollecting et-xmlfile (from openpyxl)\n",
      "  Downloading et_xmlfile-1.1.0-py3-none-any.whl (4.7 kB)\n",
      "Installing collected packages: et-xmlfile, openpyxl\n",
      "Successfully installed et-xmlfile-1.1.0 openpyxl-3.1.3\n",
      "Note: you may need to restart the kernel to use updated packages.\n"
     ]
    }
   ],
   "source": [
    "pip install openpyxl"
   ]
  },
  {
   "cell_type": "code",
   "execution_count": 3,
   "metadata": {
    "tags": []
   },
   "outputs": [],
   "source": [
    "import pandas as pd\n",
    "import json\n",
    "import requests\n",
    "import re  #pour eviter les erreurs de caracteres speciaux comme C++, C#\n",
    "from openpyxl import Workbook  #pour creer des fichiers Excel"
   ]
  },
  {
   "cell_type": "markdown",
   "metadata": {
    "tags": []
   },
   "source": [
    "https://cf-courses-data.s3.us.cloud-object-storage.appdomain.cloud/IBM-DA0321EN-SkillsNetwork/labs/module%201/Accessing%20Data%20Using%20APIs/jobs.json#### Write a function to get the number of jobs for the Python technology.<br>\n",
    "> Note: While using the lab you need to pass the **payload** information for the **params** attribute in the form of **key** **value** pairs.\n",
    "  Refer the ungraded **rest api lab** in the course **Python for Data Science, AI & Development**  <a href=\"https://www.coursera.org/learn/python-for-applied-data-science-ai/ungradedLti/P6sW8/hands-on-lab-access-rest-apis-request-http?utm_medium=Exinfluencer&utm_source=Exinfluencer&utm_content=000026UJ&utm_term=10006555&utm_id=NA-SkillsNetwork-Channel-SkillsNetworkCoursesIBMDA0321ENSkillsNetwork928-2022-01-01\">link</a>\n",
    "  \n",
    " ##### The keys in the json are \n",
    " * Job Title\n",
    " \n",
    " * Job Experience Required\n",
    " \n",
    " * Key Skills\n",
    " \n",
    " * Role Category\n",
    " \n",
    " * Location\n",
    " \n",
    " * Functional Area\n",
    " \n",
    " * Industry\n",
    " \n",
    " * Role \n",
    " \n",
    "You can also view  the json file contents  from the following <a href = \"https://cf-courses-data.s3.us.cloud-object-storage.appdomain.cloud/IBM-DA0321EN-SkillsNetwork/labs/module%201/Accessing%20Data%20Using%20APIs/jobs.json\">json</a> URL.\n",
    "\n"
   ]
  },
  {
   "cell_type": "markdown",
   "metadata": {},
   "source": [
    "<h3>📥 Get Request</h3>"
   ]
  },
  {
   "cell_type": "code",
   "execution_count": 4,
   "metadata": {
    "tags": []
   },
   "outputs": [],
   "source": [
    "api_url=\"https://cf-courses-data.s3.us.cloud-object-storage.appdomain.cloud/IBM-DA0321EN-SkillsNetwork/labs/module%201/Accessing%20Data%20Using%20APIs/jobs.json\""
   ]
  },
  {
   "cell_type": "code",
   "execution_count": 5,
   "metadata": {
    "tags": []
   },
   "outputs": [
    {
     "data": {
      "text/plain": [
       "200"
      ]
     },
     "execution_count": 5,
     "metadata": {},
     "output_type": "execute_result"
    }
   ],
   "source": [
    "#get the json file from the url and check the status code (expected 200)\n",
    "response = requests.get(api_url)\n",
    "response.status_code"
   ]
  },
  {
   "cell_type": "code",
   "execution_count": 6,
   "metadata": {
    "tags": []
   },
   "outputs": [],
   "source": [
    "data = response.json()"
   ]
  },
  {
   "cell_type": "code",
   "execution_count": 28,
   "metadata": {
    "tags": []
   },
   "outputs": [
    {
     "name": "stdout",
     "output_type": "stream",
     "text": [
      "<class 'list'>\n"
     ]
    }
   ],
   "source": [
    "print(type(data))"
   ]
  },
  {
   "cell_type": "markdown",
   "metadata": {},
   "source": [
    "<h3>📤Post Request</h3>"
   ]
  },
  {
   "cell_type": "markdown",
   "metadata": {},
   "source": [
    "Since the json file contains 30000 entries, the Post request was done using a limited payload with the first entry "
   ]
  },
  {
   "cell_type": "code",
   "execution_count": 47,
   "metadata": {
    "tags": []
   },
   "outputs": [
    {
     "name": "stdout",
     "output_type": "stream",
     "text": [
      "Limited Data: [{'Id': 0, 'Job Title': 'Digital Media Planner', 'Job Experience Required': '5 - 10 yrs', 'Key Skills': 'Media Planning| Digital Media', 'Role Category': 'Advertising', 'Location': 'Los Angeles', 'Functional Area': 'Marketing , Advertising , MR , PR , Media Planning', 'Industry': 'Advertising, PR, MR, Event Management', 'Role': 'Media Planning Executive/Manager'}]\n"
     ]
    }
   ],
   "source": [
    "# Limiter à 3 entrées\n",
    "limited_data = data[:1]\n",
    "print(\"Limited Data:\", limited_data)"
   ]
  },
  {
   "cell_type": "code",
   "execution_count": 48,
   "metadata": {
    "tags": []
   },
   "outputs": [],
   "source": [
    "# Transformer les entrées en un dictionnaire simple\n",
    "payload = {f\"entry_{i}\": str(entry) for i, entry in enumerate(limited_data)}"
   ]
  },
  {
   "cell_type": "code",
   "execution_count": 49,
   "metadata": {
    "tags": []
   },
   "outputs": [
    {
     "name": "stdout",
     "output_type": "stream",
     "text": [
      "{'entry_0': \"{'Id': 0, 'Job Title': 'Digital Media Planner', 'Job Experience Required': '5 - 10 yrs', 'Key Skills': 'Media Planning| Digital Media', 'Role Category': 'Advertising', 'Location': 'Los Angeles', 'Functional Area': 'Marketing , Advertising , MR , PR , Media Planning', 'Industry': 'Advertising, PR, MR, Event Management', 'Role': 'Media Planning Executive/Manager'}\"}\n"
     ]
    }
   ],
   "source": [
    "print(payload)"
   ]
  },
  {
   "cell_type": "code",
   "execution_count": 50,
   "metadata": {
    "tags": []
   },
   "outputs": [
    {
     "name": "stdout",
     "output_type": "stream",
     "text": [
      "Response JSON: {'args': {}, 'data': '', 'files': {}, 'form': {'entry_0': \"{'Id': 0, 'Job Title': 'Digital Media Planner', 'Job Experience Required': '5 - 10 yrs', 'Key Skills': 'Media Planning| Digital Media', 'Role Category': 'Advertising', 'Location': 'Los Angeles', 'Functional Area': 'Marketing , Advertising , MR , PR , Media Planning', 'Industry': 'Advertising, PR, MR, Event Management', 'Role': 'Media Planning Executive/Manager'}\"}, 'headers': {'Accept': '*/*', 'Accept-Encoding': 'gzip, deflate, br', 'Content-Length': '496', 'Content-Type': 'application/x-www-form-urlencoded', 'Host': 'httpbin.org', 'User-Agent': 'python-requests/2.29.0', 'X-Amzn-Trace-Id': 'Root=1-67ded5c1-2fb1f4064147c0454d13ae62'}, 'json': None, 'origin': '150.239.85.244', 'url': 'http://httpbin.org/post'}\n"
     ]
    }
   ],
   "source": [
    "#make a POST request to the specified endpoint (http://httpbin.org/post) using Python\n",
    "url_post = 'http://httpbin.org/post'\n",
    "\n",
    "try:\n",
    "    response = requests.post(url_post, data=payload)  # Envoi au format JSON\n",
    "    if response.status_code == 200:\n",
    "        print(\"Response JSON:\", response.json()) \n",
    "    else:\n",
    "        print(f\"HTTP Error: {response.status_code} - {response.reason}\")\n",
    "except requests.exceptions.RequestException as e:\n",
    "    print(f\"An error occurred: {e}\")"
   ]
  },
  {
   "cell_type": "code",
   "execution_count": 43,
   "metadata": {
    "tags": []
   },
   "outputs": [
    {
     "name": "stdout",
     "output_type": "stream",
     "text": [
      "POST request URL: http://httpbin.org/post\n",
      "GET request URL: https://cf-courses-data.s3.us.cloud-object-storage.appdomain.cloud/IBM-DA0321EN-SkillsNetwork/labs/module%201/Accessing%20Data%20Using%20APIs/jobs.json\n"
     ]
    }
   ],
   "source": [
    "#compare the URLs of both the GET and POST requests\n",
    "r=requests.get(api_url)\n",
    "print(\"POST request URL:\",response.url )\n",
    "print(\"GET request URL:\",r.url)"
   ]
  },
  {
   "cell_type": "code",
   "execution_count": 44,
   "metadata": {
    "tags": []
   },
   "outputs": [
    {
     "name": "stdout",
     "output_type": "stream",
     "text": [
      "POST request body: entry_0=%7B%27Id%27%3A+0%2C+%27Job+Title%27%3A+%27Digital+Media+Planner%27%2C+%27Job+Experience+Required%27%3A+%275+-+10+yrs%27%2C+%27Key+Skills%27%3A+%27Media+Planning%7C+Digital+Media%27%2C+%27Role+Category%27%3A+%27Advertising%27%2C+%27Location%27%3A+%27Los+Angeles%27%2C+%27Functional+Area%27%3A+%27Marketing+%2C+Advertising+%2C+MR+%2C+PR+%2C+Media+Planning%27%2C+%27Industry%27%3A+%27Advertising%2C+PR%2C+MR%2C+Event+Management%27%2C+%27Role%27%3A+%27Media+Planning+Executive%2FManager%27%7D&entry_1=%7B%27Id%27%3A+1%2C+%27Job+Title%27%3A+%27Online+Bidding+Executive%27%2C+%27Job+Experience+Required%27%3A+%272+-+5+yrs%27%2C+%27Key+Skills%27%3A+%27pre+sales%7C+closing%7C+software+knowledge%7C+clients%7C+requirements%7C+negotiating%7C+client%7C+online+bidding%7C+good+communication%7C+technology%27%2C+%27Role+Category%27%3A+%27Retail+Sales%27%2C+%27Location%27%3A+%27New+York%27%2C+%27Functional+Area%27%3A+%27Sales+%2C+Retail+%2C+Business+Development%27%2C+%27Industry%27%3A+%27IT-Software%2C+Software+Services%27%2C+%27Role%27%3A+%27Sales+Executive%2FOfficer%27%7D&entry_2=%7B%27Id%27%3A+2%2C+%27Job+Title%27%3A+%27Trainee+Research%2F+Research+Executive-+Hi-+Tech+Operations%27%2C+%27Job+Experience+Required%27%3A+%270+-+1+yrs%27%2C+%27Key+Skills%27%3A+%27Computer+science%7C+Fabrication%7C+Quality+check%7C+Intellectual+property%7C+Electronics%7C+Support+services%7C+Research%7C+Management%7C+Human+resource+management%7C+Research+Executive%27%2C+%27Role+Category%27%3A+%27R%26D%27%2C+%27Location%27%3A+%27San+Francisco%27%2C+%27Functional+Area%27%3A+%27Engineering+Design+%2C+R%26D%27%2C+%27Industry%27%3A+%27Recruitment%2C+Staffing%27%2C+%27Role%27%3A+%27R%26D+Executive%27%7D\n",
      "GET request body: None\n"
     ]
    }
   ],
   "source": [
    "#print and analyzed the request bodies of both the GET and POST requests\n",
    "print(\"POST request body:\",response.request.body)\n",
    "print(\"GET request body:\",r.request.body)"
   ]
  },
  {
   "cell_type": "code",
   "execution_count": 51,
   "metadata": {
    "tags": []
   },
   "outputs": [
    {
     "data": {
      "text/plain": [
       "{'entry_0': \"{'Id': 0, 'Job Title': 'Digital Media Planner', 'Job Experience Required': '5 - 10 yrs', 'Key Skills': 'Media Planning| Digital Media', 'Role Category': 'Advertising', 'Location': 'Los Angeles', 'Functional Area': 'Marketing , Advertising , MR , PR , Media Planning', 'Industry': 'Advertising, PR, MR, Event Management', 'Role': 'Media Planning Executive/Manager'}\"}"
      ]
     },
     "execution_count": 51,
     "metadata": {},
     "output_type": "execute_result"
    }
   ],
   "source": [
    "#view the form data returned by the POST request using the r_post.json()['form'] method\n",
    "response.json()['form']"
   ]
  },
  {
   "cell_type": "markdown",
   "metadata": {},
   "source": [
    "<h3>🐼Converting JSON data into a df </h3>"
   ]
  },
  {
   "cell_type": "code",
   "execution_count": 7,
   "metadata": {
    "tags": []
   },
   "outputs": [
    {
     "data": {
      "text/html": [
       "<div>\n",
       "<style scoped>\n",
       "    .dataframe tbody tr th:only-of-type {\n",
       "        vertical-align: middle;\n",
       "    }\n",
       "\n",
       "    .dataframe tbody tr th {\n",
       "        vertical-align: top;\n",
       "    }\n",
       "\n",
       "    .dataframe thead th {\n",
       "        text-align: right;\n",
       "    }\n",
       "</style>\n",
       "<table border=\"1\" class=\"dataframe\">\n",
       "  <thead>\n",
       "    <tr style=\"text-align: right;\">\n",
       "      <th></th>\n",
       "      <th>Id</th>\n",
       "      <th>Job Title</th>\n",
       "      <th>Job Experience Required</th>\n",
       "      <th>Key Skills</th>\n",
       "      <th>Role Category</th>\n",
       "      <th>Location</th>\n",
       "      <th>Functional Area</th>\n",
       "      <th>Industry</th>\n",
       "      <th>Role</th>\n",
       "    </tr>\n",
       "  </thead>\n",
       "  <tbody>\n",
       "    <tr>\n",
       "      <th>0</th>\n",
       "      <td>0</td>\n",
       "      <td>Digital Media Planner</td>\n",
       "      <td>5 - 10 yrs</td>\n",
       "      <td>Media Planning| Digital Media</td>\n",
       "      <td>Advertising</td>\n",
       "      <td>Los Angeles</td>\n",
       "      <td>Marketing , Advertising , MR , PR , Media Plan...</td>\n",
       "      <td>Advertising, PR, MR, Event Management</td>\n",
       "      <td>Media Planning Executive/Manager</td>\n",
       "    </tr>\n",
       "    <tr>\n",
       "      <th>1</th>\n",
       "      <td>1</td>\n",
       "      <td>Online Bidding Executive</td>\n",
       "      <td>2 - 5 yrs</td>\n",
       "      <td>pre sales| closing| software knowledge| client...</td>\n",
       "      <td>Retail Sales</td>\n",
       "      <td>New York</td>\n",
       "      <td>Sales , Retail , Business Development</td>\n",
       "      <td>IT-Software, Software Services</td>\n",
       "      <td>Sales Executive/Officer</td>\n",
       "    </tr>\n",
       "    <tr>\n",
       "      <th>2</th>\n",
       "      <td>2</td>\n",
       "      <td>Trainee Research/ Research Executive- Hi- Tech...</td>\n",
       "      <td>0 - 1 yrs</td>\n",
       "      <td>Computer science| Fabrication| Quality check| ...</td>\n",
       "      <td>R&amp;D</td>\n",
       "      <td>San Francisco</td>\n",
       "      <td>Engineering Design , R&amp;D</td>\n",
       "      <td>Recruitment, Staffing</td>\n",
       "      <td>R&amp;D Executive</td>\n",
       "    </tr>\n",
       "    <tr>\n",
       "      <th>3</th>\n",
       "      <td>3</td>\n",
       "      <td>Technical Support</td>\n",
       "      <td>0 - 5 yrs</td>\n",
       "      <td>Technical Support</td>\n",
       "      <td>Admin/Maintenance/Security/Datawarehousing</td>\n",
       "      <td>Washington DC</td>\n",
       "      <td>IT Software - Application Programming , Mainte...</td>\n",
       "      <td>IT-Software, Software Services</td>\n",
       "      <td>Technical Support Engineer</td>\n",
       "    </tr>\n",
       "    <tr>\n",
       "      <th>4</th>\n",
       "      <td>4</td>\n",
       "      <td>Software Test Engineer -hyderabad</td>\n",
       "      <td>2 - 5 yrs</td>\n",
       "      <td>manual testing| test engineering| test cases| ...</td>\n",
       "      <td>Programming &amp; Design</td>\n",
       "      <td>Boston</td>\n",
       "      <td>IT Software - QA &amp; Testing</td>\n",
       "      <td>IT-Software, Software Services</td>\n",
       "      <td>Testing Engineer</td>\n",
       "    </tr>\n",
       "  </tbody>\n",
       "</table>\n",
       "</div>"
      ],
      "text/plain": [
       "   Id                                          Job Title  \\\n",
       "0   0                              Digital Media Planner   \n",
       "1   1                           Online Bidding Executive   \n",
       "2   2  Trainee Research/ Research Executive- Hi- Tech...   \n",
       "3   3                                  Technical Support   \n",
       "4   4                  Software Test Engineer -hyderabad   \n",
       "\n",
       "  Job Experience Required                                         Key Skills  \\\n",
       "0              5 - 10 yrs                      Media Planning| Digital Media   \n",
       "1               2 - 5 yrs  pre sales| closing| software knowledge| client...   \n",
       "2               0 - 1 yrs  Computer science| Fabrication| Quality check| ...   \n",
       "3               0 - 5 yrs                                  Technical Support   \n",
       "4               2 - 5 yrs  manual testing| test engineering| test cases| ...   \n",
       "\n",
       "                                Role Category       Location  \\\n",
       "0                                 Advertising    Los Angeles   \n",
       "1                                Retail Sales       New York   \n",
       "2                                         R&D  San Francisco   \n",
       "3  Admin/Maintenance/Security/Datawarehousing  Washington DC   \n",
       "4                        Programming & Design         Boston   \n",
       "\n",
       "                                     Functional Area  \\\n",
       "0  Marketing , Advertising , MR , PR , Media Plan...   \n",
       "1              Sales , Retail , Business Development   \n",
       "2                           Engineering Design , R&D   \n",
       "3  IT Software - Application Programming , Mainte...   \n",
       "4                         IT Software - QA & Testing   \n",
       "\n",
       "                                Industry                              Role  \n",
       "0  Advertising, PR, MR, Event Management  Media Planning Executive/Manager  \n",
       "1         IT-Software, Software Services           Sales Executive/Officer  \n",
       "2                  Recruitment, Staffing                     R&D Executive  \n",
       "3         IT-Software, Software Services        Technical Support Engineer  \n",
       "4         IT-Software, Software Services                  Testing Engineer  "
      ]
     },
     "execution_count": 7,
     "metadata": {},
     "output_type": "execute_result"
    }
   ],
   "source": [
    "df = pd.DataFrame(data)\n",
    "df.head()"
   ]
  },
  {
   "cell_type": "markdown",
   "metadata": {},
   "source": [
    "<h3>🧪Create functions to fetch data and test them</h3>"
   ]
  },
  {
   "cell_type": "markdown",
   "metadata": {},
   "source": [
    "➡️Write a function to find number of jobs in US for a given programming language"
   ]
  },
  {
   "cell_type": "code",
   "execution_count": 201,
   "metadata": {
    "tags": []
   },
   "outputs": [],
   "source": [
    "def get_number_of_jobs_T(technology, df):\n",
    "    # Vérifier si la technologie contient des caractères spéciaux\n",
    "    if any(char in technology for char in ['+', '#', '.']):\n",
    "        # Si oui, échapper la technologie sans ajouter de \\b comme C++ et C#\n",
    "        escaped_tech = re.escape(technology)\n",
    "    else:\n",
    "        # Sinon, ajouter les limites de mot \\b pour extraire des tech comme 'R'\n",
    "        escaped_tech = rf'\\b{re.escape(technology)}\\b'\n",
    "\n",
    "    # Compter les occurrences dans la colonne 'Key Skills' avec la regex ajustée\n",
    "    number_of_jobs = df['Key Skills'].str.contains(escaped_tech, na=False, regex=True).sum()\n",
    "\n",
    "    # Retourner la technologie et le nombre d'occurrences\n",
    "    return technology, number_of_jobs\n",
    "\n",
    "# Regex (Regular Expression) is a powerful tool used to search, match, and manipulate text\n",
    "# by defining patterns. It is useful for finding specific words, isolating patterns\n",
    "# (e.g., words, numbers, emails), or cleaning data efficiently in strings.\n",
    "# Example: r'\\bPython\\b' ensures only \"Python\" as a whole word is matched."
   ]
  },
  {
   "cell_type": "markdown",
   "metadata": {},
   "source": [
    ">✅Calling the function for 'Python' and checking if it works\n"
   ]
  },
  {
   "cell_type": "code",
   "execution_count": 30,
   "metadata": {
    "tags": []
   },
   "outputs": [
    {
     "name": "stdout",
     "output_type": "stream",
     "text": [
      "The number of jobs requiring Go is : 25 jobs\n"
     ]
    }
   ],
   "source": [
    "technology, number_of_jobs = get_number_of_jobs_T(\"Python\", df)\n",
    "print(f\"The number of jobs requiring {technology} is : {number_of_jobs} jobs\")"
   ]
  },
  {
   "cell_type": "markdown",
   "metadata": {},
   "source": [
    "➡️Write a function to find number of jobs in US for a given location\n"
   ]
  },
  {
   "cell_type": "code",
   "execution_count": 10,
   "metadata": {
    "tags": []
   },
   "outputs": [],
   "source": [
    " def get_number_of_jobs_L(location, df):\n",
    "    # Compter les occurrences de la technologie dans la colonne 'Location'\n",
    "    number_of_jobs = df['Location'].str.contains(location, na=False).sum()\n",
    "    #fetch data\n",
    "    return location, number_of_jobs"
   ]
  },
  {
   "cell_type": "markdown",
   "metadata": {},
   "source": [
    ">✅Call the function for 'Los Angeles' and check if it works\n"
   ]
  },
  {
   "cell_type": "code",
   "execution_count": 11,
   "metadata": {
    "tags": []
   },
   "outputs": [
    {
     "name": "stdout",
     "output_type": "stream",
     "text": [
      "The number of jobs in Los Angeles is : 640 jobs\n"
     ]
    }
   ],
   "source": [
    "location, number_of_jobs = get_number_of_jobs_L('Los Angeles', df)\n",
    "print(f\"The number of jobs in {location} is : {number_of_jobs} jobs\")"
   ]
  },
  {
   "cell_type": "markdown",
   "metadata": {
    "tags": []
   },
   "source": [
    "➡️Write a function to find number of jobs for a given IDE"
   ]
  },
  {
   "cell_type": "code",
   "execution_count": 12,
   "metadata": {
    "tags": []
   },
   "outputs": [],
   "source": [
    "def get_number_of_jobs_I(ide, df):\n",
    "    # Compter les occurrences de la technologie dans la colonne 'Location'\n",
    "    number_of_jobs = df['Key Skills'].str.contains(ide, na=False).sum()\n",
    "    #fetch data\n",
    "    return ide, number_of_jobs"
   ]
  },
  {
   "cell_type": "markdown",
   "metadata": {},
   "source": [
    ">✅Call the function for 'Visual Studio' and check if it works"
   ]
  },
  {
   "cell_type": "code",
   "execution_count": 20,
   "metadata": {
    "tags": []
   },
   "outputs": [
    {
     "name": "stdout",
     "output_type": "stream",
     "text": [
      "The number of jobs requiring Visual Studio skills is : 88 jobs\n"
     ]
    }
   ],
   "source": [
    "ide, number_of_jobs = get_number_of_jobs_I('Visual Studio', df)\n",
    "print(f\"The number of jobs requiring {ide} skills is : {number_of_jobs} jobs\")"
   ]
  },
  {
   "cell_type": "markdown",
   "metadata": {},
   "source": [
    "➡️Write a function to find number of jobs for other technologies (such BI softwares, AI)"
   ]
  },
  {
   "cell_type": "code",
   "execution_count": 21,
   "metadata": {
    "tags": []
   },
   "outputs": [],
   "source": [
    "def get_number_of_jobs_Tools(tools, df):\n",
    "    # Compter les occurrences de la technologie dans la colonne 'Location'\n",
    "    number_of_jobs = df['Key Skills'].str.contains(tools, na=False).sum()\n",
    "    #fetch data\n",
    "    return tools, number_of_jobs"
   ]
  },
  {
   "cell_type": "markdown",
   "metadata": {},
   "source": [
    ">✅Call the function for 'IBM' and check if it works"
   ]
  },
  {
   "cell_type": "code",
   "execution_count": 23,
   "metadata": {
    "tags": []
   },
   "outputs": [
    {
     "name": "stdout",
     "output_type": "stream",
     "text": [
      "The number of jobs requiring IBM skills is : 12 jobs\n"
     ]
    }
   ],
   "source": [
    "tools, number_of_jobs = get_number_of_jobs_Tools('IBM', df)\n",
    "print(f\"The number of jobs requiring {tools} skills is : {number_of_jobs} jobs\")"
   ]
  },
  {
   "cell_type": "markdown",
   "metadata": {
    "tags": []
   },
   "source": [
    "<h3>🔍Collect data from Technologies /Programming Languages and store in a xls worksheet</h3>"
   ]
  },
  {
   "cell_type": "markdown",
   "metadata": {},
   "source": [
    "➡️Create a python list of all technologies for which we need to find the number of jobs postings\n"
   ]
  },
  {
   "cell_type": "markdown",
   "metadata": {
    "tags": []
   },
   "source": [
    "*In the similar way, you can try for below given technologies and results  can be stored in an excel sheet.*"
   ]
  },
  {
   "cell_type": "markdown",
   "metadata": {},
   "source": [
    "*Collect the number of job postings for the following languages using the API:*\n",
    "\n",
    "*   C\n",
    "*   C#\n",
    "*   C++\n",
    "*   Java\n",
    "*   JavaScript\n",
    "*   Python\n",
    "*   Scala\n",
    "*   Oracle\n",
    "*   SQL Server\n",
    "*   MySQL Server\n",
    "*   PostgreSQL\n",
    "*   MongoDB\n"
   ]
  },
  {
   "cell_type": "code",
   "execution_count": 24,
   "metadata": {
    "tags": []
   },
   "outputs": [
    {
     "data": {
      "text/html": [
       "<div>\n",
       "<style scoped>\n",
       "    .dataframe tbody tr th:only-of-type {\n",
       "        vertical-align: middle;\n",
       "    }\n",
       "\n",
       "    .dataframe tbody tr th {\n",
       "        vertical-align: top;\n",
       "    }\n",
       "\n",
       "    .dataframe thead th {\n",
       "        text-align: right;\n",
       "    }\n",
       "</style>\n",
       "<table border=\"1\" class=\"dataframe\">\n",
       "  <thead>\n",
       "    <tr style=\"text-align: right;\">\n",
       "      <th></th>\n",
       "      <th>Id</th>\n",
       "      <th>Job Title</th>\n",
       "      <th>Job Experience Required</th>\n",
       "      <th>Key Skills</th>\n",
       "      <th>Role Category</th>\n",
       "      <th>Location</th>\n",
       "      <th>Functional Area</th>\n",
       "      <th>Industry</th>\n",
       "      <th>Role</th>\n",
       "    </tr>\n",
       "  </thead>\n",
       "  <tbody>\n",
       "    <tr>\n",
       "      <th>52</th>\n",
       "      <td>60</td>\n",
       "      <td>Oracle DBA Consultant - Data Guard/rac Modules</td>\n",
       "      <td>2 - 5 yrs</td>\n",
       "      <td>WebLogic| configuration| MySQL| installation| ...</td>\n",
       "      <td>Admin/Maintenance/Security/Datawarehousing</td>\n",
       "      <td>Washington DC</td>\n",
       "      <td>IT Software - DBA , Datawarehousing</td>\n",
       "      <td>IT-Software, Software Services</td>\n",
       "      <td>DBA</td>\n",
       "    </tr>\n",
       "    <tr>\n",
       "      <th>76</th>\n",
       "      <td>87</td>\n",
       "      <td>PHP Developer</td>\n",
       "      <td>1 - 5 yrs</td>\n",
       "      <td>XML| Javascript| PHP| development| css| techni...</td>\n",
       "      <td>Programming &amp; Design</td>\n",
       "      <td>Washington DC</td>\n",
       "      <td>IT Software - Application Programming , Mainte...</td>\n",
       "      <td>IT-Software, Software Services</td>\n",
       "      <td>Software Developer</td>\n",
       "    </tr>\n",
       "    <tr>\n",
       "      <th>81</th>\n",
       "      <td>92</td>\n",
       "      <td>PHP Developer (wordpress &amp; Woo Commerce/shopif...</td>\n",
       "      <td>2 - 5 yrs</td>\n",
       "      <td>C| Woocommerce| Magento| Wordpress| MySQL| PHP...</td>\n",
       "      <td>Programming &amp; Design</td>\n",
       "      <td>Los Angeles</td>\n",
       "      <td>IT Software - Application Programming , Mainte...</td>\n",
       "      <td>IT-Software, Software Services</td>\n",
       "      <td>Software Developer</td>\n",
       "    </tr>\n",
       "    <tr>\n",
       "      <th>95</th>\n",
       "      <td>107</td>\n",
       "      <td>PHP Developer Jobs In Florida - Team Lead - PHP</td>\n",
       "      <td>8 - 13 yrs</td>\n",
       "      <td>Drupal| Application programming| MySQL| Wordpr...</td>\n",
       "      <td>Programming &amp; Design</td>\n",
       "      <td>Los Angeles</td>\n",
       "      <td>IT Software - Application Programming , Mainte...</td>\n",
       "      <td>Recruitment, Staffing</td>\n",
       "      <td>Software Developer</td>\n",
       "    </tr>\n",
       "    <tr>\n",
       "      <th>156</th>\n",
       "      <td>174</td>\n",
       "      <td>Magento Developer</td>\n",
       "      <td>2 - 7 yrs</td>\n",
       "      <td>Unix| Version control| Prototype| XML| MySQL| ...</td>\n",
       "      <td>Programming &amp; Design</td>\n",
       "      <td>Los Angeles</td>\n",
       "      <td>IT Software - System Programming</td>\n",
       "      <td>BPO, Call Centre, ITeS</td>\n",
       "      <td>Software Developer</td>\n",
       "    </tr>\n",
       "  </tbody>\n",
       "</table>\n",
       "</div>"
      ],
      "text/plain": [
       "      Id                                          Job Title  \\\n",
       "52    60     Oracle DBA Consultant - Data Guard/rac Modules   \n",
       "76    87                                      PHP Developer   \n",
       "81    92  PHP Developer (wordpress & Woo Commerce/shopif...   \n",
       "95   107    PHP Developer Jobs In Florida - Team Lead - PHP   \n",
       "156  174                                  Magento Developer   \n",
       "\n",
       "    Job Experience Required  \\\n",
       "52                2 - 5 yrs   \n",
       "76                1 - 5 yrs   \n",
       "81                2 - 5 yrs   \n",
       "95               8 - 13 yrs   \n",
       "156               2 - 7 yrs   \n",
       "\n",
       "                                            Key Skills  \\\n",
       "52   WebLogic| configuration| MySQL| installation| ...   \n",
       "76   XML| Javascript| PHP| development| css| techni...   \n",
       "81   C| Woocommerce| Magento| Wordpress| MySQL| PHP...   \n",
       "95   Drupal| Application programming| MySQL| Wordpr...   \n",
       "156  Unix| Version control| Prototype| XML| MySQL| ...   \n",
       "\n",
       "                                  Role Category       Location  \\\n",
       "52   Admin/Maintenance/Security/Datawarehousing  Washington DC   \n",
       "76                         Programming & Design  Washington DC   \n",
       "81                         Programming & Design    Los Angeles   \n",
       "95                         Programming & Design    Los Angeles   \n",
       "156                        Programming & Design    Los Angeles   \n",
       "\n",
       "                                       Functional Area  \\\n",
       "52                 IT Software - DBA , Datawarehousing   \n",
       "76   IT Software - Application Programming , Mainte...   \n",
       "81   IT Software - Application Programming , Mainte...   \n",
       "95   IT Software - Application Programming , Mainte...   \n",
       "156                   IT Software - System Programming   \n",
       "\n",
       "                           Industry                Role  \n",
       "52   IT-Software, Software Services                 DBA  \n",
       "76   IT-Software, Software Services  Software Developer  \n",
       "81   IT-Software, Software Services  Software Developer  \n",
       "95            Recruitment, Staffing  Software Developer  \n",
       "156          BPO, Call Centre, ITeS  Software Developer  "
      ]
     },
     "execution_count": 24,
     "metadata": {},
     "output_type": "execute_result"
    }
   ],
   "source": [
    "#verifier si Key Skills contient des variations de MySQL Server car la boucle ne retourne aucune donnee pour MySQL Server ce qui est tres surprenant\n",
    "df_mysql = df[df['Key Skills'].str.contains('MySQL', na=False, regex=False)]\n",
    "#update de la liste des technologies pour remplacer MySQL Server par MySQL\n",
    "df_mysql.head()"
   ]
  },
  {
   "cell_type": "code",
   "execution_count": 31,
   "metadata": {
    "tags": []
   },
   "outputs": [],
   "source": [
    "technologies = ['C','C#','C++','Python', 'Java', 'Scala', 'JavaScript','Oracle','MySQL',\n",
    "                'SQL Server','PostgreSQL','MongoDB','PHP','R','Go','Swift']   #PHP is an open-source scripting/programming language \n",
    "              #since PHP returns lots of results when testing for IDE (I firstly tested 'PhpStorm' and finally tried 'PHP'), \n",
    "#I decided to include 'PHP' in the 'technologies'\n",
    "#R added\n",
    "#added Go and Swift after checking webscraping data"
   ]
  },
  {
   "cell_type": "markdown",
   "metadata": {},
   "source": [
    "➡️Store the results in an excel spreadsheet"
   ]
  },
  {
   "cell_type": "markdown",
   "metadata": {},
   "source": [
    "*Call the API for all the given technologies above and write the results in an excel spreadsheet.*"
   ]
  },
  {
   "cell_type": "markdown",
   "metadata": {},
   "source": [
    "*Find the number of jobs postings for each of the technology in the above list.*\n",
    "*Write the technology name and the number of jobs postings into the excel spreadsheet.*"
   ]
  },
  {
   "cell_type": "code",
   "execution_count": 32,
   "metadata": {
    "tags": []
   },
   "outputs": [],
   "source": [
    "wb=Workbook()\n",
    "ws_tech=wb.active\n",
    "ws_tech.title = 'Technologies'\n",
    "#add a row with two columns Technology and Number of Jobs\n",
    "ws_tech.append(['Technology', 'Number of Jobs'])"
   ]
  },
  {
   "cell_type": "code",
   "execution_count": 33,
   "metadata": {
    "tags": []
   },
   "outputs": [
    {
     "name": "stdout",
     "output_type": "stream",
     "text": [
      "Ajout de : C, 1237\n",
      "Ajout de : C#, 333\n",
      "Ajout de : C++, 305\n",
      "Ajout de : Python, 1171\n",
      "Ajout de : Java, 1108\n",
      "Ajout de : Scala, 9\n",
      "Ajout de : JavaScript, 355\n",
      "Ajout de : Oracle, 784\n",
      "Ajout de : MySQL, 750\n",
      "Ajout de : SQL Server, 249\n",
      "Ajout de : PostgreSQL, 10\n",
      "Ajout de : MongoDB, 174\n",
      "Ajout de : PHP, 636\n",
      "Ajout de : R, 82\n",
      "Ajout de : Go, 25\n",
      "Ajout de : Swift, 59\n",
      "Technologies worksheet created into the workbook. \n"
     ]
    }
   ],
   "source": [
    "# Boucle pour obtenir le nombre de jobs pour chaque technologie de la liste\n",
    "for technology in technologies:\n",
    "    language, number_of_jobs = get_number_of_jobs_T(technology, df)\n",
    "    #print pour verifier la boucle\n",
    "    print(f\"Ajout de : {language}, {number_of_jobs}\")\n",
    "    #ajouter chaque tech/number of job distinct dans la ws\n",
    "    ws_tech.append([language, number_of_jobs])\n",
    "print(\"Technologies worksheet created into the workbook. \")"
   ]
  },
  {
   "cell_type": "markdown",
   "metadata": {},
   "source": [
    "<h3>🔍Collect data from Location and store in a xlsx worksheet</h3>"
   ]
  },
  {
   "cell_type": "markdown",
   "metadata": {},
   "source": [
    "➡️Create a python list for all Location for which you need to find the number of jobs postings"
   ]
  },
  {
   "cell_type": "markdown",
   "metadata": {},
   "source": [
    "*Collect the number of job postings for the following locations using the API:*\n",
    "\n",
    "* Los Angeles\n",
    "* New York\n",
    "* San Francisco\n",
    "* Washington DC\n",
    "* Seattle\n",
    "* Austin\n",
    "* Detroit\n"
   ]
  },
  {
   "cell_type": "code",
   "execution_count": 34,
   "metadata": {
    "tags": []
   },
   "outputs": [],
   "source": [
    "locations = ['Los Angeles', 'New York', 'San Francisco','Washington DC','Seattle','Austin','Detroit',\n",
    "            'Boston']  #test with some cities from Silicon Valley but returns no results (surprising...maybe related to San Francisco?)\n",
    "#added Boston after some testing (in the top 4 !!!)"
   ]
  },
  {
   "cell_type": "markdown",
   "metadata": {},
   "source": [
    "➡️Store the results in an excel spreadsheet"
   ]
  },
  {
   "cell_type": "code",
   "execution_count": 35,
   "metadata": {
    "tags": []
   },
   "outputs": [],
   "source": [
    "# Créer une nouvelle feuille pour les \"Locations\"\n",
    "ws_loc = wb.create_sheet(title='Locations')\n",
    "#add a row with two columns Location and Number of Jobs\n",
    "ws_loc.append(['Location','Number of Jobs'])"
   ]
  },
  {
   "cell_type": "code",
   "execution_count": 36,
   "metadata": {
    "tags": []
   },
   "outputs": [
    {
     "name": "stdout",
     "output_type": "stream",
     "text": [
      "Ajout de : Los Angeles, 640\n",
      "Ajout de : New York, 3226\n",
      "Ajout de : San Francisco, 435\n",
      "Ajout de : Washington DC, 5316\n",
      "Ajout de : Seattle, 3375\n",
      "Ajout de : Austin, 434\n",
      "Ajout de : Detroit, 3945\n",
      "Ajout de : Boston, 2966\n",
      "Locations worksheet created into the workbook. \n"
     ]
    }
   ],
   "source": [
    "# Boucle pour obtenir le nombre de jobs pour chaque location de la liste\n",
    "for location in locations:\n",
    "    city, number_of_jobs = get_number_of_jobs_L(location, df)\n",
    "    #print pour verifier la boucle\n",
    "    print(f\"Ajout de : {city}, {number_of_jobs}\")\n",
    "    #ajouter chaque loc/job distincte en tant que ligne dans la ws\n",
    "    ws_loc.append([city, number_of_jobs])\n",
    "print(\"Locations worksheet created into the workbook. \")"
   ]
  },
  {
   "cell_type": "markdown",
   "metadata": {},
   "source": [
    "<h3>🔍Collect data from IDE and store in a xlsx worksheet</h3>"
   ]
  },
  {
   "cell_type": "markdown",
   "metadata": {},
   "source": [
    "➡️Create a python list for all IDE for which you need to find the number of jobs postings"
   ]
  },
  {
   "cell_type": "markdown",
   "metadata": {},
   "source": [
    "References : \n",
    "\n",
    "https://www.placementpreparation.io/blog/data-science-ides-and-code-editors/\n",
    "\n",
    "https://www.techrepublic.com/article/best-ide-software/"
   ]
  },
  {
   "cell_type": "code",
   "execution_count": 37,
   "metadata": {
    "tags": []
   },
   "outputs": [],
   "source": [
    "in_dev_env = ['Visual Studio','Eclipse','IntelliJ','Xcode','Android Studio',\n",
    "              'NetBeans','Docker']  \n",
    "#removed Jupyter since returned 0, kept IDE that return results (surprising there are no entries for Jupyter!!!)"
   ]
  },
  {
   "cell_type": "markdown",
   "metadata": {},
   "source": [
    "➡️Store the results in an excel spreadsheet"
   ]
  },
  {
   "cell_type": "code",
   "execution_count": 38,
   "metadata": {
    "tags": []
   },
   "outputs": [],
   "source": [
    "# Créer une nouvelle feuille pour les \"Locations\"\n",
    "ws_loc = wb.create_sheet(title='IDEs')\n",
    "#add a row with two columns Location and Number of Jobs\n",
    "ws_loc.append(['IDE','Number of Jobs'])"
   ]
  },
  {
   "cell_type": "code",
   "execution_count": 39,
   "metadata": {
    "tags": []
   },
   "outputs": [
    {
     "name": "stdout",
     "output_type": "stream",
     "text": [
      "Ajout de : Visual Studio, 88\n",
      "Ajout de : Eclipse, 76\n",
      "Ajout de : IntelliJ, 6\n",
      "Ajout de : Xcode, 7\n",
      "Ajout de : Android Studio, 23\n",
      "Ajout de : NetBeans, 7\n",
      "Ajout de : Docker, 83\n",
      "IDEs worksheet created into the workbook. \n"
     ]
    }
   ],
   "source": [
    "# Boucle pour obtenir le nombre de jobs pour chaque location de la liste\n",
    "for ide in in_dev_env:\n",
    "    tech, number_of_jobs = get_number_of_jobs_I(ide, df)\n",
    "    #print pour verifier la boucle\n",
    "    print(f\"Ajout de : {tech}, {number_of_jobs}\")\n",
    "    #ajouter chaque loc/job distincte en tant que ligne dans la ws\n",
    "    ws_loc.append([tech, number_of_jobs])\n",
    "print(\"IDEs worksheet created into the workbook. \")"
   ]
  },
  {
   "cell_type": "markdown",
   "metadata": {},
   "source": [
    "<h3>🔍Collect data from other technologies/tools and store in a xlsx worksheet</h3>"
   ]
  },
  {
   "cell_type": "markdown",
   "metadata": {},
   "source": [
    "➡️Create a python list for all tools for which you need to find the number of jobs postings"
   ]
  },
  {
   "cell_type": "markdown",
   "metadata": {},
   "source": [
    "References:\n",
    "\n",
    "https://www.geeksforgeeks.org/business-intelligence-tools/\n",
    "\n",
    "https://www.geeksforgeeks.org/data-visualization-tools/\n",
    "\n",
    "*Also tested futher technologies using for loop and adjusted list in consequence*"
   ]
  },
  {
   "cell_type": "code",
   "execution_count": 40,
   "metadata": {
    "tags": []
   },
   "outputs": [],
   "source": [
    "Tools = ['IBM','Power BI','Tableau','Qlik Sense','SAP','WebLogic',\n",
    "         'Apache','Azure','SPSS','Google','AWS','Git','GitHub','Unix','Linux','Windows','Excel','Access','Hadoop',\n",
    "        'AI','Machine Learning','Deep Learning','Natural Language Processing']  #AI tools"
   ]
  },
  {
   "cell_type": "markdown",
   "metadata": {},
   "source": [
    "➡️Store the results in an excel spreadsheet"
   ]
  },
  {
   "cell_type": "code",
   "execution_count": 41,
   "metadata": {
    "tags": []
   },
   "outputs": [],
   "source": [
    "# Créer une nouvelle feuille pour les \"Other Tools\"\n",
    "ws_loc = wb.create_sheet(title='Other Tools')\n",
    "#add a row with two columns Other tools and Number of Jobs\n",
    "ws_loc.append(['Other Tools','Number of Jobs'])"
   ]
  },
  {
   "cell_type": "code",
   "execution_count": 42,
   "metadata": {
    "tags": []
   },
   "outputs": [
    {
     "name": "stdout",
     "output_type": "stream",
     "text": [
      "Ajout de : IBM, 12\n",
      "Ajout de : Power BI, 5\n",
      "Ajout de : Tableau, 48\n",
      "Ajout de : Qlik Sense, 3\n",
      "Ajout de : SAP, 571\n",
      "Ajout de : WebLogic, 6\n",
      "Ajout de : Apache, 139\n",
      "Ajout de : Azure, 125\n",
      "Ajout de : SPSS, 14\n",
      "Ajout de : Google, 139\n",
      "Ajout de : AWS, 223\n",
      "Ajout de : Git, 46\n",
      "Ajout de : GitHub, 3\n",
      "Ajout de : Unix, 405\n",
      "Ajout de : Linux, 718\n",
      "Ajout de : Windows, 499\n",
      "Ajout de : Excel, 472\n",
      "Ajout de : Access, 118\n",
      "Ajout de : Hadoop, 99\n",
      "Ajout de : AI, 42\n",
      "Ajout de : Machine Learning, 98\n",
      "Ajout de : Deep Learning, 28\n",
      "Ajout de : Natural Language Processing, 9\n",
      "Other tools worksheet created into the workbook. \n"
     ]
    }
   ],
   "source": [
    "# Boucle pour obtenir le nombre de jobs pour chaque tool de la liste\n",
    "for tools in Tools:\n",
    "    other_tool, number_of_jobs = get_number_of_jobs_Tools(tools, df)\n",
    "    #print pour verifier la boucle\n",
    "    print(f\"Ajout de : {other_tool}, {number_of_jobs}\")\n",
    "    #ajouter chaque toolc/job distincte en tant que ligne dans la ws\n",
    "    ws_loc.append([other_tool, number_of_jobs])\n",
    "print(\"Other tools worksheet created into the workbook. \")"
   ]
  },
  {
   "cell_type": "markdown",
   "metadata": {},
   "source": [
    "🚀📁Save all worksheets into an excel spreadsheet named job-postings.xlsx</h3>\n"
   ]
  },
  {
   "cell_type": "code",
   "execution_count": 43,
   "metadata": {
    "tags": []
   },
   "outputs": [
    {
     "name": "stdout",
     "output_type": "stream",
     "text": [
      "Excel sheet file created. \n"
     ]
    }
   ],
   "source": [
    "# Sauvegarder le fichier Excel\n",
    "wb.save('job-postings.xlsx')\n",
    "print(\"Excel sheet file created. \")"
   ]
  },
  {
   "cell_type": "markdown",
   "metadata": {},
   "source": [
    "## Authors\n"
   ]
  },
  {
   "cell_type": "markdown",
   "metadata": {},
   "source": [
    "Ayushi Jain\n"
   ]
  },
  {
   "cell_type": "markdown",
   "metadata": {},
   "source": [
    "### Other Contributors\n"
   ]
  },
  {
   "cell_type": "markdown",
   "metadata": {},
   "source": [
    "Rav Ahuja\n",
    "\n",
    "Lakshmi Holla\n",
    "\n",
    "Malika\n"
   ]
  },
  {
   "cell_type": "markdown",
   "metadata": {},
   "source": [
    "Copyright © IBM Corporation.\n"
   ]
  },
  {
   "cell_type": "markdown",
   "metadata": {},
   "source": [
    "<!--## Change Log\n"
   ]
  },
  {
   "cell_type": "markdown",
   "metadata": {},
   "source": [
    "<!--| Date (YYYY-MM-DD) | Version | Changed By        | Change Description                 |\n",
    "| ----------------- | ------- | ----------------- | ---------------------------------- | \n",
    "| 2022-01-19        | 0.3     | Lakshmi Holla        | Added changes in the markdown      |\n",
    "| 2021-06-25        | 0.2     | Malika            | Updated GitHub job json link       |\n",
    "| 2020-10-17        | 0.1     | Ramesh Sannareddy | Created initial version of the lab |--!>\n"
   ]
  }
 ],
 "metadata": {
  "kernelspec": {
   "display_name": "Python",
   "language": "python",
   "name": "conda-env-python-py"
  },
  "language_info": {
   "codemirror_mode": {
    "name": "ipython",
    "version": 3
   },
   "file_extension": ".py",
   "mimetype": "text/x-python",
   "name": "python",
   "nbconvert_exporter": "python",
   "pygments_lexer": "ipython3",
   "version": "3.7.12"
  },
  "prev_pub_hash": "61a35a07ad98492b710274ae0e52a0fdce2221e88e366133dd4a20370680fa8f"
 },
 "nbformat": 4,
 "nbformat_minor": 4
}
