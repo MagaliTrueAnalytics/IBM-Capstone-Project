{
 "cells": [
  {
   "cell_type": "markdown",
   "metadata": {},
   "source": [
    "<p style=\"text-align:center\">\n",
    "    <a href=\"https://skills.network\" target=\"_blank\">\n",
    "    <img src=\"https://cf-courses-data.s3.us.cloud-object-storage.appdomain.cloud/assets/logos/SN_web_lightmode.png\" width=\"200\" alt=\"Skills Network Logo\"  />\n",
    "    </a>\n",
    "</p>\n"
   ]
  },
  {
   "cell_type": "markdown",
   "metadata": {},
   "source": [
    "# **Data Wrangling Lab**\n"
   ]
  },
  {
   "cell_type": "markdown",
   "metadata": {},
   "source": [
    "Estimated time needed: **45** minutes\n"
   ]
  },
  {
   "cell_type": "markdown",
   "metadata": {},
   "source": [
    "In this lab, you will perform data wrangling tasks to prepare raw data for analysis. Data wrangling involves cleaning, transforming, and organizing data into a structured format suitable for analysis. This lab focuses on tasks like identifying inconsistencies, encoding categorical variables, and feature transformation.\n"
   ]
  },
  {
   "cell_type": "markdown",
   "metadata": {},
   "source": [
    "## Objectives\n"
   ]
  },
  {
   "cell_type": "markdown",
   "metadata": {},
   "source": [
    "After completing this lab, you will be able to:\n"
   ]
  },
  {
   "cell_type": "markdown",
   "metadata": {},
   "source": [
    "- Identify and remove inconsistent data entries.\n",
    "\n",
    "- Encode categorical variables for analysis.\n",
    "\n",
    "- Handle missing values using multiple imputation strategies.\n",
    "\n",
    "- Apply feature scaling and transformation techniques.\n"
   ]
  },
  {
   "cell_type": "markdown",
   "metadata": {},
   "source": [
    "#### Intsall the required libraries\n"
   ]
  },
  {
   "cell_type": "code",
   "execution_count": 1,
   "metadata": {},
   "outputs": [
    {
     "name": "stdout",
     "output_type": "stream",
     "text": [
      "Requirement already satisfied: pandas in /opt/conda/lib/python3.12/site-packages (2.2.3)\n",
      "Requirement already satisfied: numpy>=1.26.0 in /opt/conda/lib/python3.12/site-packages (from pandas) (2.2.4)\n",
      "Requirement already satisfied: python-dateutil>=2.8.2 in /opt/conda/lib/python3.12/site-packages (from pandas) (2.9.0.post0)\n",
      "Requirement already satisfied: pytz>=2020.1 in /opt/conda/lib/python3.12/site-packages (from pandas) (2024.2)\n",
      "Requirement already satisfied: tzdata>=2022.7 in /opt/conda/lib/python3.12/site-packages (from pandas) (2025.2)\n",
      "Requirement already satisfied: six>=1.5 in /opt/conda/lib/python3.12/site-packages (from python-dateutil>=2.8.2->pandas) (1.17.0)\n",
      "Requirement already satisfied: matplotlib in /opt/conda/lib/python3.12/site-packages (3.10.1)\n",
      "Requirement already satisfied: contourpy>=1.0.1 in /opt/conda/lib/python3.12/site-packages (from matplotlib) (1.3.1)\n",
      "Requirement already satisfied: cycler>=0.10 in /opt/conda/lib/python3.12/site-packages (from matplotlib) (0.12.1)\n",
      "Requirement already satisfied: fonttools>=4.22.0 in /opt/conda/lib/python3.12/site-packages (from matplotlib) (4.56.0)\n",
      "Requirement already satisfied: kiwisolver>=1.3.1 in /opt/conda/lib/python3.12/site-packages (from matplotlib) (1.4.8)\n",
      "Requirement already satisfied: numpy>=1.23 in /opt/conda/lib/python3.12/site-packages (from matplotlib) (2.2.4)\n",
      "Requirement already satisfied: packaging>=20.0 in /opt/conda/lib/python3.12/site-packages (from matplotlib) (24.2)\n",
      "Requirement already satisfied: pillow>=8 in /opt/conda/lib/python3.12/site-packages (from matplotlib) (11.1.0)\n",
      "Requirement already satisfied: pyparsing>=2.3.1 in /opt/conda/lib/python3.12/site-packages (from matplotlib) (3.2.3)\n",
      "Requirement already satisfied: python-dateutil>=2.7 in /opt/conda/lib/python3.12/site-packages (from matplotlib) (2.9.0.post0)\n",
      "Requirement already satisfied: six>=1.5 in /opt/conda/lib/python3.12/site-packages (from python-dateutil>=2.7->matplotlib) (1.17.0)\n"
     ]
    }
   ],
   "source": [
    "!pip install pandas\n",
    "!pip install matplotlib"
   ]
  },
  {
   "cell_type": "markdown",
   "metadata": {},
   "source": [
    "## Tasks\n"
   ]
  },
  {
   "cell_type": "markdown",
   "metadata": {},
   "source": [
    "#### Step 1: Import the necessary module.\n"
   ]
  },
  {
   "cell_type": "markdown",
   "metadata": {},
   "source": [
    "### 1. Load the Dataset\n"
   ]
  },
  {
   "cell_type": "markdown",
   "metadata": {},
   "source": [
    "<h5>1.1 Import necessary libraries and load the dataset.</h5>\n"
   ]
  },
  {
   "cell_type": "markdown",
   "metadata": {},
   "source": [
    "Ensure the dataset is loaded correctly by displaying the first few rows.\n"
   ]
  },
  {
   "cell_type": "code",
   "execution_count": 19,
   "metadata": {},
   "outputs": [
    {
     "name": "stdout",
     "output_type": "stream",
     "text": [
      "   ResponseId                      MainBranch                 Age  \\\n",
      "0           1  I am a developer by profession  Under 18 years old   \n",
      "1           2  I am a developer by profession     35-44 years old   \n",
      "2           3  I am a developer by profession     45-54 years old   \n",
      "3           4           I am learning to code     18-24 years old   \n",
      "4           5  I am a developer by profession     18-24 years old   \n",
      "\n",
      "            Employment RemoteWork   Check  \\\n",
      "0  Employed, full-time     Remote  Apples   \n",
      "1  Employed, full-time     Remote  Apples   \n",
      "2  Employed, full-time     Remote  Apples   \n",
      "3   Student, full-time        NaN  Apples   \n",
      "4   Student, full-time        NaN  Apples   \n",
      "\n",
      "                                    CodingActivities  \\\n",
      "0                                              Hobby   \n",
      "1  Hobby;Contribute to open-source projects;Other...   \n",
      "2  Hobby;Contribute to open-source projects;Other...   \n",
      "3                                                NaN   \n",
      "4                                                NaN   \n",
      "\n",
      "                                             EdLevel  \\\n",
      "0                          Primary/elementary school   \n",
      "1       Bachelor’s degree (B.A., B.S., B.Eng., etc.)   \n",
      "2    Master’s degree (M.A., M.S., M.Eng., MBA, etc.)   \n",
      "3  Some college/university study without earning ...   \n",
      "4  Secondary school (e.g. American high school, G...   \n",
      "\n",
      "                                           LearnCode  \\\n",
      "0                             Books / Physical media   \n",
      "1  Books / Physical media;Colleague;On the job tr...   \n",
      "2  Books / Physical media;Colleague;On the job tr...   \n",
      "3  Other online resources (e.g., videos, blogs, f...   \n",
      "4  Other online resources (e.g., videos, blogs, f...   \n",
      "\n",
      "                                     LearnCodeOnline  ... JobSatPoints_6  \\\n",
      "0                                                NaN  ...            NaN   \n",
      "1  Technical documentation;Blogs;Books;Written Tu...  ...            0.0   \n",
      "2  Technical documentation;Blogs;Books;Written Tu...  ...            NaN   \n",
      "3  Stack Overflow;How-to videos;Interactive tutorial  ...            NaN   \n",
      "4  Technical documentation;Blogs;Written Tutorial...  ...            NaN   \n",
      "\n",
      "  JobSatPoints_7 JobSatPoints_8 JobSatPoints_9 JobSatPoints_10  \\\n",
      "0            NaN            NaN            NaN             NaN   \n",
      "1            0.0            0.0            0.0             0.0   \n",
      "2            NaN            NaN            NaN             NaN   \n",
      "3            NaN            NaN            NaN             NaN   \n",
      "4            NaN            NaN            NaN             NaN   \n",
      "\n",
      "  JobSatPoints_11           SurveyLength SurveyEase ConvertedCompYearly JobSat  \n",
      "0             NaN                    NaN        NaN                 NaN    NaN  \n",
      "1             0.0                    NaN        NaN                 NaN    NaN  \n",
      "2             NaN  Appropriate in length       Easy                 NaN    NaN  \n",
      "3             NaN               Too long       Easy                 NaN    NaN  \n",
      "4             NaN              Too short       Easy                 NaN    NaN  \n",
      "\n",
      "[5 rows x 114 columns]\n"
     ]
    }
   ],
   "source": [
    "# Import necessary libraries\n",
    "import pandas as pd\n",
    "import numpy as np\n",
    "\n",
    "# Load the Stack Overflow survey data\n",
    "dataset_url = \"https://cf-courses-data.s3.us.cloud-object-storage.appdomain.cloud/n01PQ9pSmiRX6520flujwQ/survey-data.csv\"\n",
    "df = pd.read_csv(dataset_url)\n",
    "\n",
    "# Display the first few rows\n",
    "print(df.head())\n"
   ]
  },
  {
   "cell_type": "markdown",
   "metadata": {
    "jp-MarkdownHeadingCollapsed": true
   },
   "source": [
    "#### 2. Explore the Dataset\n"
   ]
  },
  {
   "cell_type": "markdown",
   "metadata": {},
   "source": [
    "<h5>2.1 Summarize the dataset by displaying the column data types, counts, and missing values.</h5>\n"
   ]
  },
  {
   "cell_type": "code",
   "execution_count": 41,
   "metadata": {},
   "outputs": [
    {
     "data": {
      "text/plain": [
       "ResponseId               int64\n",
       "MainBranch              object\n",
       "Age                     object\n",
       "Employment              object\n",
       "RemoteWork              object\n",
       "                        ...   \n",
       "JobSatPoints_11        float64\n",
       "SurveyLength            object\n",
       "SurveyEase              object\n",
       "ConvertedCompYearly    float64\n",
       "JobSat                 float64\n",
       "Length: 114, dtype: object"
      ]
     },
     "execution_count": 41,
     "metadata": {},
     "output_type": "execute_result"
    }
   ],
   "source": [
    "df.dtypes"
   ]
  },
  {
   "cell_type": "code",
   "execution_count": 60,
   "metadata": {},
   "outputs": [
    {
     "data": {
      "text/plain": [
       "ResponseId                 0\n",
       "MainBranch                 0\n",
       "Age                        0\n",
       "Employment                 0\n",
       "RemoteWork             10631\n",
       "                       ...  \n",
       "JobSatPoints_11        35992\n",
       "SurveyLength            9255\n",
       "SurveyEase              9199\n",
       "ConvertedCompYearly    42002\n",
       "JobSat                 36311\n",
       "Length: 114, dtype: int64"
      ]
     },
     "execution_count": 60,
     "metadata": {},
     "output_type": "execute_result"
    }
   ],
   "source": [
    "missing_value = df.isnull().sum()\n",
    "missing_value"
   ]
  },
  {
   "cell_type": "markdown",
   "metadata": {},
   "source": [
    "<h5>2.2 Generate basic statistics for numerical columns.</h5>\n"
   ]
  },
  {
   "cell_type": "code",
   "execution_count": 5,
   "metadata": {},
   "outputs": [
    {
     "data": {
      "text/html": [
       "<div>\n",
       "<style scoped>\n",
       "    .dataframe tbody tr th:only-of-type {\n",
       "        vertical-align: middle;\n",
       "    }\n",
       "\n",
       "    .dataframe tbody tr th {\n",
       "        vertical-align: top;\n",
       "    }\n",
       "\n",
       "    .dataframe thead th {\n",
       "        text-align: right;\n",
       "    }\n",
       "</style>\n",
       "<table border=\"1\" class=\"dataframe\">\n",
       "  <thead>\n",
       "    <tr style=\"text-align: right;\">\n",
       "      <th></th>\n",
       "      <th>ResponseId</th>\n",
       "      <th>CompTotal</th>\n",
       "      <th>WorkExp</th>\n",
       "      <th>JobSatPoints_1</th>\n",
       "      <th>JobSatPoints_4</th>\n",
       "      <th>JobSatPoints_5</th>\n",
       "      <th>JobSatPoints_6</th>\n",
       "      <th>JobSatPoints_7</th>\n",
       "      <th>JobSatPoints_8</th>\n",
       "      <th>JobSatPoints_9</th>\n",
       "      <th>JobSatPoints_10</th>\n",
       "      <th>JobSatPoints_11</th>\n",
       "      <th>ConvertedCompYearly</th>\n",
       "      <th>JobSat</th>\n",
       "    </tr>\n",
       "  </thead>\n",
       "  <tbody>\n",
       "    <tr>\n",
       "      <th>count</th>\n",
       "      <td>65437.000000</td>\n",
       "      <td>3.374000e+04</td>\n",
       "      <td>29658.000000</td>\n",
       "      <td>29324.000000</td>\n",
       "      <td>29393.000000</td>\n",
       "      <td>29411.000000</td>\n",
       "      <td>29450.000000</td>\n",
       "      <td>29448.00000</td>\n",
       "      <td>29456.000000</td>\n",
       "      <td>29456.000000</td>\n",
       "      <td>29450.000000</td>\n",
       "      <td>29445.000000</td>\n",
       "      <td>2.343500e+04</td>\n",
       "      <td>29126.000000</td>\n",
       "    </tr>\n",
       "    <tr>\n",
       "      <th>mean</th>\n",
       "      <td>32719.000000</td>\n",
       "      <td>2.963841e+145</td>\n",
       "      <td>11.466957</td>\n",
       "      <td>18.581094</td>\n",
       "      <td>7.522140</td>\n",
       "      <td>10.060857</td>\n",
       "      <td>24.343232</td>\n",
       "      <td>22.96522</td>\n",
       "      <td>20.278165</td>\n",
       "      <td>16.169432</td>\n",
       "      <td>10.955713</td>\n",
       "      <td>9.953948</td>\n",
       "      <td>8.615529e+04</td>\n",
       "      <td>6.935041</td>\n",
       "    </tr>\n",
       "    <tr>\n",
       "      <th>std</th>\n",
       "      <td>18890.179119</td>\n",
       "      <td>5.444117e+147</td>\n",
       "      <td>9.168709</td>\n",
       "      <td>25.966221</td>\n",
       "      <td>18.422661</td>\n",
       "      <td>21.833836</td>\n",
       "      <td>27.089360</td>\n",
       "      <td>27.01774</td>\n",
       "      <td>26.108110</td>\n",
       "      <td>24.845032</td>\n",
       "      <td>22.906263</td>\n",
       "      <td>21.775652</td>\n",
       "      <td>1.867570e+05</td>\n",
       "      <td>2.088259</td>\n",
       "    </tr>\n",
       "    <tr>\n",
       "      <th>min</th>\n",
       "      <td>1.000000</td>\n",
       "      <td>0.000000e+00</td>\n",
       "      <td>0.000000</td>\n",
       "      <td>0.000000</td>\n",
       "      <td>0.000000</td>\n",
       "      <td>0.000000</td>\n",
       "      <td>0.000000</td>\n",
       "      <td>0.00000</td>\n",
       "      <td>0.000000</td>\n",
       "      <td>0.000000</td>\n",
       "      <td>0.000000</td>\n",
       "      <td>0.000000</td>\n",
       "      <td>1.000000e+00</td>\n",
       "      <td>0.000000</td>\n",
       "    </tr>\n",
       "    <tr>\n",
       "      <th>25%</th>\n",
       "      <td>16360.000000</td>\n",
       "      <td>6.000000e+04</td>\n",
       "      <td>4.000000</td>\n",
       "      <td>0.000000</td>\n",
       "      <td>0.000000</td>\n",
       "      <td>0.000000</td>\n",
       "      <td>0.000000</td>\n",
       "      <td>0.00000</td>\n",
       "      <td>0.000000</td>\n",
       "      <td>0.000000</td>\n",
       "      <td>0.000000</td>\n",
       "      <td>0.000000</td>\n",
       "      <td>3.271200e+04</td>\n",
       "      <td>6.000000</td>\n",
       "    </tr>\n",
       "    <tr>\n",
       "      <th>50%</th>\n",
       "      <td>32719.000000</td>\n",
       "      <td>1.100000e+05</td>\n",
       "      <td>9.000000</td>\n",
       "      <td>10.000000</td>\n",
       "      <td>0.000000</td>\n",
       "      <td>0.000000</td>\n",
       "      <td>20.000000</td>\n",
       "      <td>15.00000</td>\n",
       "      <td>10.000000</td>\n",
       "      <td>5.000000</td>\n",
       "      <td>0.000000</td>\n",
       "      <td>0.000000</td>\n",
       "      <td>6.500000e+04</td>\n",
       "      <td>7.000000</td>\n",
       "    </tr>\n",
       "    <tr>\n",
       "      <th>75%</th>\n",
       "      <td>49078.000000</td>\n",
       "      <td>2.500000e+05</td>\n",
       "      <td>16.000000</td>\n",
       "      <td>22.000000</td>\n",
       "      <td>5.000000</td>\n",
       "      <td>10.000000</td>\n",
       "      <td>30.000000</td>\n",
       "      <td>30.00000</td>\n",
       "      <td>25.000000</td>\n",
       "      <td>20.000000</td>\n",
       "      <td>10.000000</td>\n",
       "      <td>10.000000</td>\n",
       "      <td>1.079715e+05</td>\n",
       "      <td>8.000000</td>\n",
       "    </tr>\n",
       "    <tr>\n",
       "      <th>max</th>\n",
       "      <td>65437.000000</td>\n",
       "      <td>1.000000e+150</td>\n",
       "      <td>50.000000</td>\n",
       "      <td>100.000000</td>\n",
       "      <td>100.000000</td>\n",
       "      <td>100.000000</td>\n",
       "      <td>100.000000</td>\n",
       "      <td>100.00000</td>\n",
       "      <td>100.000000</td>\n",
       "      <td>100.000000</td>\n",
       "      <td>100.000000</td>\n",
       "      <td>100.000000</td>\n",
       "      <td>1.625660e+07</td>\n",
       "      <td>10.000000</td>\n",
       "    </tr>\n",
       "  </tbody>\n",
       "</table>\n",
       "</div>"
      ],
      "text/plain": [
       "         ResponseId      CompTotal       WorkExp  JobSatPoints_1  \\\n",
       "count  65437.000000   3.374000e+04  29658.000000    29324.000000   \n",
       "mean   32719.000000  2.963841e+145     11.466957       18.581094   \n",
       "std    18890.179119  5.444117e+147      9.168709       25.966221   \n",
       "min        1.000000   0.000000e+00      0.000000        0.000000   \n",
       "25%    16360.000000   6.000000e+04      4.000000        0.000000   \n",
       "50%    32719.000000   1.100000e+05      9.000000       10.000000   \n",
       "75%    49078.000000   2.500000e+05     16.000000       22.000000   \n",
       "max    65437.000000  1.000000e+150     50.000000      100.000000   \n",
       "\n",
       "       JobSatPoints_4  JobSatPoints_5  JobSatPoints_6  JobSatPoints_7  \\\n",
       "count    29393.000000    29411.000000    29450.000000     29448.00000   \n",
       "mean         7.522140       10.060857       24.343232        22.96522   \n",
       "std         18.422661       21.833836       27.089360        27.01774   \n",
       "min          0.000000        0.000000        0.000000         0.00000   \n",
       "25%          0.000000        0.000000        0.000000         0.00000   \n",
       "50%          0.000000        0.000000       20.000000        15.00000   \n",
       "75%          5.000000       10.000000       30.000000        30.00000   \n",
       "max        100.000000      100.000000      100.000000       100.00000   \n",
       "\n",
       "       JobSatPoints_8  JobSatPoints_9  JobSatPoints_10  JobSatPoints_11  \\\n",
       "count    29456.000000    29456.000000     29450.000000     29445.000000   \n",
       "mean        20.278165       16.169432        10.955713         9.953948   \n",
       "std         26.108110       24.845032        22.906263        21.775652   \n",
       "min          0.000000        0.000000         0.000000         0.000000   \n",
       "25%          0.000000        0.000000         0.000000         0.000000   \n",
       "50%         10.000000        5.000000         0.000000         0.000000   \n",
       "75%         25.000000       20.000000        10.000000        10.000000   \n",
       "max        100.000000      100.000000       100.000000       100.000000   \n",
       "\n",
       "       ConvertedCompYearly        JobSat  \n",
       "count         2.343500e+04  29126.000000  \n",
       "mean          8.615529e+04      6.935041  \n",
       "std           1.867570e+05      2.088259  \n",
       "min           1.000000e+00      0.000000  \n",
       "25%           3.271200e+04      6.000000  \n",
       "50%           6.500000e+04      7.000000  \n",
       "75%           1.079715e+05      8.000000  \n",
       "max           1.625660e+07     10.000000  "
      ]
     },
     "execution_count": 5,
     "metadata": {},
     "output_type": "execute_result"
    }
   ],
   "source": [
    "df.describe()"
   ]
  },
  {
   "cell_type": "markdown",
   "metadata": {},
   "source": [
    "### 3. Identifying and Removing Inconsistencies\n"
   ]
  },
  {
   "cell_type": "markdown",
   "metadata": {},
   "source": [
    "<h5>3.1 Identify inconsistent or irrelevant entries in specific columns (e.g., Country).</h5>\n"
   ]
  },
  {
   "cell_type": "markdown",
   "metadata": {},
   "source": [
    "💡Il n'y a pas de donnees inconsistantes dans la colonne 'Country' notamment car il s'agit d'un sondage et les reponses sont pre-etablies. Par contre, il y a 185 pays participants, et tous ces pays n'ont pas le meme poids dans le sondage.\n",
    "L'obejctif est de definir les pays qui contribuent le plus au sondage (ex. 80% des repondants) et classer les autres pays sous-representes par la categorie 'Other'"
   ]
  },
  {
   "cell_type": "markdown",
   "metadata": {},
   "source": [
    ">☑️**Explorer les donnees**"
   ]
  },
  {
   "cell_type": "code",
   "execution_count": 43,
   "metadata": {},
   "outputs": [
    {
     "name": "stdout",
     "output_type": "stream",
     "text": [
      "['United States of America'\n",
      " 'United Kingdom of Great Britain and Northern Ireland' 'Canada' 'Norway'\n",
      " 'Uzbekistan' 'Serbia' 'Poland' 'Philippines' 'Bulgaria' 'Switzerland'\n",
      " 'India' 'Germany' 'Ireland' 'Italy' 'Ukraine' 'Australia' 'Brazil'\n",
      " 'Japan' 'Austria' 'Iran, Islamic Republic of...' 'France' 'Saudi Arabia'\n",
      " 'Romania' 'Turkey' 'Nepal' 'Algeria' 'Sweden' 'Netherlands' 'Croatia'\n",
      " 'Pakistan' 'Czech Republic' 'Republic of North Macedonia' 'Finland'\n",
      " 'Slovakia' 'Russian Federation' 'Greece' 'Israel' 'Belgium' 'Mexico'\n",
      " 'United Republic of Tanzania' 'Hungary' 'Argentina' 'Portugal'\n",
      " 'Sri Lanka' 'Latvia' 'China' 'Singapore' 'Lebanon' 'Spain' 'South Africa'\n",
      " 'Lithuania' 'Viet Nam' 'Dominican Republic' 'Indonesia' 'Kosovo'\n",
      " 'Morocco' 'Taiwan' 'Georgia' 'San Marino' 'Tunisia' 'Bangladesh'\n",
      " 'Nigeria' 'Liechtenstein' 'Denmark' 'Ecuador' 'Malaysia' 'Albania'\n",
      " 'Azerbaijan' 'Chile' 'Ghana' 'Peru' 'Bolivia' 'Egypt' 'Luxembourg'\n",
      " 'Montenegro' 'Cyprus' 'Paraguay' 'Kazakhstan' 'Slovenia' 'Jordan'\n",
      " 'Venezuela, Bolivarian Republic of...' 'Costa Rica' 'Jamaica' 'Thailand'\n",
      " 'Nicaragua' 'Myanmar' 'Republic of Korea' 'Rwanda'\n",
      " 'Bosnia and Herzegovina' 'Benin' 'El Salvador' 'Zimbabwe' 'Afghanistan'\n",
      " 'Estonia' 'Malta' 'Uruguay' 'Belarus' 'Colombia' 'Republic of Moldova'\n",
      " 'Isle of Man' 'Nomadic' 'New Zealand' 'Palestine' 'Armenia'\n",
      " 'United Arab Emirates' 'Maldives' 'Ethiopia' 'Fiji' 'Guatemala' 'Uganda'\n",
      " 'Turkmenistan' 'Mauritius' 'Kenya' 'Cuba' 'Gabon' 'Bahamas' 'South Korea'\n",
      " 'Iceland' 'Honduras' 'Hong Kong (S.A.R.)'\n",
      " \"Lao People's Democratic Republic\" 'Mongolia' 'Cambodia' 'Madagascar'\n",
      " 'Angola' 'Democratic Republic of the Congo' 'Syrian Arab Republic' 'Iraq'\n",
      " 'Namibia' 'Senegal' 'Kyrgyzstan' 'Zambia' 'Swaziland' \"Côte d'Ivoire\"\n",
      " 'Kuwait' 'Tajikistan' 'Burundi' 'Trinidad and Tobago' 'Mauritania'\n",
      " 'Sierra Leone' 'Panama' 'Somalia' 'North Korea' 'Dominica' 'Guyana'\n",
      " 'Togo' 'Oman' 'Barbados' 'Andorra'\n",
      " \"Democratic People's Republic of Korea\" 'Qatar' 'Sudan' 'Cameroon'\n",
      " 'Papua New Guinea' 'Bahrain' 'Yemen' 'Malawi' 'Burkina Faso'\n",
      " 'Congo, Republic of the...' 'Botswana' 'Guinea-Bissau' 'Mozambique'\n",
      " 'Central African Republic' 'Equatorial Guinea' 'Suriname' 'Belize'\n",
      " 'Libyan Arab Jamahiriya' 'Cape Verde' 'Brunei Darussalam' 'Bhutan'\n",
      " 'Guinea' 'Niger' 'Antigua and Barbuda' 'Mali' 'Samoa' 'Lesotho'\n",
      " 'Saint Kitts and Nevis' 'Monaco' 'Micronesia, Federated States of...'\n",
      " 'Haiti' nan 'Nauru' 'Liberia' 'Chad' 'Djibouti' 'Solomon Islands']\n"
     ]
    }
   ],
   "source": [
    "#Display the content of each columns\n",
    "#since it is a survey, it should not have too many inconsistency\n",
    "print(df['Country'].unique())"
   ]
  },
  {
   "cell_type": "code",
   "execution_count": 67,
   "metadata": {},
   "outputs": [
    {
     "name": "stdout",
     "output_type": "stream",
     "text": [
      "Number of missing values: 6507\n"
     ]
    }
   ],
   "source": [
    "#check for NaN\n",
    "country_nan = df['Country'].isnull().sum()\n",
    "print(\"Number of missing values:\",country_nan)"
   ]
  },
  {
   "cell_type": "code",
   "execution_count": 45,
   "metadata": {},
   "outputs": [
    {
     "name": "stdout",
     "output_type": "stream",
     "text": [
      "Country\n",
      "United States of America                                11095\n",
      "Germany                                                  4947\n",
      "India                                                    4231\n",
      "United Kingdom of Great Britain and Northern Ireland     3224\n",
      "Ukraine                                                  2672\n",
      "                                                        ...  \n",
      "Micronesia, Federated States of...                          1\n",
      "Nauru                                                       1\n",
      "Chad                                                        1\n",
      "Djibouti                                                    1\n",
      "Solomon Islands                                             1\n",
      "Name: count, Length: 185, dtype: int64\n"
     ]
    }
   ],
   "source": [
    "# Comptage des occurrences dans une colonne donnée\n",
    "occurrences = df['Country'].value_counts()\n",
    "print(occurrences)"
   ]
  },
  {
   "cell_type": "code",
   "execution_count": 46,
   "metadata": {},
   "outputs": [
    {
     "name": "stdout",
     "output_type": "stream",
     "text": [
      "Nombre de valeurs uniques : 185\n"
     ]
    }
   ],
   "source": [
    "# Comptage des valeurs uniques dans une colonne spécifique\n",
    "unique_count = df['Country'].nunique()\n",
    "print(f\"Nombre de valeurs uniques : {unique_count}\")"
   ]
  },
  {
   "cell_type": "code",
   "execution_count": 47,
   "metadata": {},
   "outputs": [
    {
     "name": "stdout",
     "output_type": "stream",
     "text": [
      "Country\n",
      "United States of America                                0.188274\n",
      "Germany                                                 0.083947\n",
      "India                                                   0.071797\n",
      "United Kingdom of Great Britain and Northern Ireland    0.054709\n",
      "Ukraine                                                 0.045342\n",
      "                                                          ...   \n",
      "Micronesia, Federated States of...                      0.000017\n",
      "Nauru                                                   0.000017\n",
      "Chad                                                    0.000017\n",
      "Djibouti                                                0.000017\n",
      "Solomon Islands                                         0.000017\n",
      "Name: proportion, Length: 185, dtype: float64\n"
     ]
    }
   ],
   "source": [
    "country_counts = df['Country'].value_counts(normalize=True)  # Proportions pour chaque pays\n",
    "print(country_counts)"
   ]
  },
  {
   "cell_type": "code",
   "execution_count": 48,
   "metadata": {},
   "outputs": [
    {
     "name": "stdout",
     "output_type": "stream",
     "text": [
      "Index(['United States of America', 'Germany', 'India',\n",
      "       'United Kingdom of Great Britain and Northern Ireland', 'Ukraine',\n",
      "       'France', 'Canada', 'Poland', 'Netherlands', 'Brazil', 'Italy',\n",
      "       'Australia', 'Spain', 'Sweden', 'Russian Federation', 'Switzerland',\n",
      "       'Austria', 'Czech Republic', 'Israel', 'Turkey'],\n",
      "      dtype='object', name='Country')\n"
     ]
    }
   ],
   "source": [
    "threshold = 0.75  # Par exemple, 75 % des réponses\n",
    "cumulative_contribution = country_counts.cumsum()  # Somme cumulative\n",
    "top_countries = cumulative_contribution[cumulative_contribution <= threshold].index\n",
    "print(top_countries)"
   ]
  },
  {
   "cell_type": "code",
   "execution_count": 49,
   "metadata": {},
   "outputs": [
    {
     "name": "stdout",
     "output_type": "stream",
     "text": [
      "Index(['United States of America', 'Germany', 'India',\n",
      "       'United Kingdom of Great Britain and Northern Ireland', 'Ukraine',\n",
      "       'France', 'Canada', 'Poland', 'Netherlands', 'Brazil', 'Italy',\n",
      "       'Australia', 'Spain', 'Sweden', 'Russian Federation', 'Switzerland',\n",
      "       'Austria', 'Czech Republic', 'Israel', 'Turkey', 'Belgium', 'Denmark',\n",
      "       'Portugal', 'Norway', 'Romania', 'Pakistan'],\n",
      "      dtype='object', name='Country')\n"
     ]
    }
   ],
   "source": [
    "threshold = 0.80  \n",
    "cumulative_contribution = country_counts.cumsum()  # Somme cumulative\n",
    "top_countries = cumulative_contribution[cumulative_contribution <= threshold].index\n",
    "print(top_countries)"
   ]
  },
  {
   "cell_type": "markdown",
   "metadata": {},
   "source": [
    ">**☑️Exploration de la Colonne EdLevel**"
   ]
  },
  {
   "cell_type": "code",
   "execution_count": 62,
   "metadata": {},
   "outputs": [
    {
     "name": "stdout",
     "output_type": "stream",
     "text": [
      "['Primary/elementary school'\n",
      " 'Bachelor’s degree (B.A., B.S., B.Eng., etc.)'\n",
      " 'Master’s degree (M.A., M.S., M.Eng., MBA, etc.)'\n",
      " 'Some college/university study without earning a degree'\n",
      " 'Secondary school (e.g. American high school, German Realschule or Gymnasium, etc.)'\n",
      " 'Professional degree (JD, MD, Ph.D, Ed.D, etc.)'\n",
      " 'Associate degree (A.A., A.S., etc.)' 'Something else' nan]\n"
     ]
    }
   ],
   "source": [
    "print(df['EdLevel'].unique())"
   ]
  },
  {
   "cell_type": "code",
   "execution_count": 63,
   "metadata": {},
   "outputs": [
    {
     "name": "stdout",
     "output_type": "stream",
     "text": [
      "4653\n"
     ]
    }
   ],
   "source": [
    "print(df['EdLevel'].isnull().sum())"
   ]
  },
  {
   "cell_type": "code",
   "execution_count": 68,
   "metadata": {},
   "outputs": [
    {
     "name": "stdout",
     "output_type": "stream",
     "text": [
      "EdLevel\n",
      "Bachelor’s degree (B.A., B.S., B.Eng., etc.)                                          24942\n",
      "Master’s degree (M.A., M.S., M.Eng., MBA, etc.)                                       15557\n",
      "Some college/university study without earning a degree                                 7651\n",
      "Secondary school (e.g. American high school, German Realschule or Gymnasium, etc.)     5793\n",
      "Unknown                                                                                4653\n",
      "Professional degree (JD, MD, Ph.D, Ed.D, etc.)                                         2970\n",
      "Associate degree (A.A., A.S., etc.)                                                    1793\n",
      "Primary/elementary school                                                              1146\n",
      "Something else                                                                          932\n",
      "Name: count, dtype: int64\n"
     ]
    }
   ],
   "source": [
    "# Comptage des occurrences dans une colonne donnée\n",
    "occurrences = df['EdLevel'].value_counts()\n",
    "print(occurrences)"
   ]
  },
  {
   "cell_type": "markdown",
   "metadata": {},
   "source": [
    "👍Since it is a survey, response are pre-defined, so few chances of inconsistency within dataset"
   ]
  },
  {
   "cell_type": "markdown",
   "metadata": {},
   "source": [
    "<h5>3.2 Standardize entries in columns like Country or EdLevel by mapping inconsistent values to a consistent format.</h5>\n"
   ]
  },
  {
   "cell_type": "markdown",
   "metadata": {},
   "source": [
    ">**☑️Standardisation de la colonne EdLevel**"
   ]
  },
  {
   "cell_type": "code",
   "execution_count": 69,
   "metadata": {},
   "outputs": [],
   "source": [
    "# Remplacement des NaN par 'Unknown' \n",
    "df['EdLevel'] = df['EdLevel'].fillna('Unknown').astype(str) #convert to string pour etre reconnu dans la fonction\n",
    "\n",
    "edlevel = ['Primary/elementary school'\n",
    " 'Bachelor’s degree (B.A., B.S., B.Eng., etc.)'\n",
    " 'Master’s degree (M.A., M.S., M.Eng., MBA, etc.)'\n",
    " 'Some college/university study without earning a degree'\n",
    " 'Secondary school (e.g. American high school, German Realschule or Gymnasium, etc.)'\n",
    " 'Professional degree (JD, MD, Ph.D, Ed.D, etc.)'\n",
    " 'Associate degree (A.A., A.S., etc.)' 'Something else','Unknown']\n",
    "\n",
    "def simplify_edlevel(edlevel):\n",
    "    if 'Professional degree' in edlevel:\n",
    "        return 'Professional degree'\n",
    "    elif 'Bachelor' in edlevel:  # Utilisez une sous-chaîne\n",
    "        return 'Bachelor\\'s degree'\n",
    "    elif 'Master' in edlevel:  # Simplifiez avec une sous-chaîne\n",
    "        return 'Master\\'s degree'\n",
    "    elif 'Secondary school' in edlevel:\n",
    "        return 'Secondary school'\n",
    "    elif 'Associate degree' in edlevel:\n",
    "        return 'Associate degree'\n",
    "    elif 'Primary' in edlevel:\n",
    "        return 'Primary school'\n",
    "    elif 'Unknown' in edlevel:\n",
    "        return 'Unknown'\n",
    "    else:\n",
    "        return 'Other'\n",
    "\n",
    "# Appliquer la simplification\n",
    "df['EdLevel_standardized'] = df['EdLevel'].apply(simplify_edlevel)"
   ]
  },
  {
   "cell_type": "code",
   "execution_count": 70,
   "metadata": {},
   "outputs": [
    {
     "name": "stdout",
     "output_type": "stream",
     "text": [
      "['Primary school' \"Bachelor's degree\" \"Master's degree\" 'Other'\n",
      " 'Secondary school' 'Professional degree' 'Associate degree' 'Unknown']\n"
     ]
    }
   ],
   "source": [
    "print(df['EdLevel_standardized'].unique())"
   ]
  },
  {
   "cell_type": "code",
   "execution_count": 71,
   "metadata": {},
   "outputs": [
    {
     "name": "stdout",
     "output_type": "stream",
     "text": [
      "0\n"
     ]
    }
   ],
   "source": [
    "print(df['EdLevel_standardized'].isnull().sum())"
   ]
  },
  {
   "cell_type": "code",
   "execution_count": 72,
   "metadata": {},
   "outputs": [
    {
     "name": "stdout",
     "output_type": "stream",
     "text": [
      "EdLevel_standardized\n",
      "Bachelor's degree      24942\n",
      "Master's degree        15557\n",
      "Other                   8583\n",
      "Secondary school        5793\n",
      "Unknown                 4653\n",
      "Professional degree     2970\n",
      "Associate degree        1793\n",
      "Primary school          1146\n",
      "Name: count, dtype: int64\n"
     ]
    }
   ],
   "source": [
    "occurrences = df['EdLevel_standardized'].value_counts()\n",
    "print(occurrences)"
   ]
  },
  {
   "cell_type": "markdown",
   "metadata": {},
   "source": [
    "➡️NaN are now counted as 'Unknown' and a category 'Other' was created"
   ]
  },
  {
   "cell_type": "markdown",
   "metadata": {},
   "source": [
    ">**☑️Standardisation de la colonne Country**"
   ]
  },
  {
   "cell_type": "code",
   "execution_count": 78,
   "metadata": {},
   "outputs": [],
   "source": [
    "# Remplacement des NaN par 'Unknown'\n",
    "df['Country'] = df['Country'].fillna('Unknown').astype(str) \n",
    "\n",
    "#liste des payes contribuant a 80% du sondage\n",
    "countries =['United States of America', 'Germany', 'India',\n",
    "       'United Kingdom of Great Britain and Northern Ireland', 'Ukraine',\n",
    "       'France', 'Canada', 'Poland', 'Netherlands', 'Brazil', 'Italy',\n",
    "       'Australia', 'Spain', 'Sweden', 'Russian Federation', 'Switzerland',\n",
    "       'Austria', 'Czech Republic', 'Israel', 'Turkey', 'Belgium', 'Denmark',\n",
    "       'Portugal', 'Norway', 'Romania', 'Pakistan','Unknown']\n",
    "\n",
    "def simplify_country(country):\n",
    "    if country in countries:\n",
    "        return country\n",
    "    else:\n",
    "        return 'Other'\n",
    "\n",
    "# Appliquer la simplification\n",
    "df['Country_standardized'] = df['Country'].apply(simplify_country)"
   ]
  },
  {
   "cell_type": "code",
   "execution_count": 79,
   "metadata": {},
   "outputs": [
    {
     "name": "stdout",
     "output_type": "stream",
     "text": [
      "['United States of America'\n",
      " 'United Kingdom of Great Britain and Northern Ireland' 'Canada' 'Norway'\n",
      " 'Other' 'Poland' 'Switzerland' 'India' 'Germany' 'Italy' 'Ukraine'\n",
      " 'Australia' 'Brazil' 'Austria' 'France' 'Romania' 'Turkey' 'Sweden'\n",
      " 'Netherlands' 'Pakistan' 'Czech Republic' 'Russian Federation' 'Israel'\n",
      " 'Belgium' 'Portugal' 'Spain' 'Denmark' 'Unknown']\n"
     ]
    }
   ],
   "source": [
    "print(df['Country_standardized'].unique())"
   ]
  },
  {
   "cell_type": "code",
   "execution_count": 80,
   "metadata": {},
   "outputs": [
    {
     "name": "stdout",
     "output_type": "stream",
     "text": [
      "Country_standardized\n",
      "Other                                                   12189\n",
      "United States of America                                11095\n",
      "Unknown                                                  6507\n",
      "Germany                                                  4947\n",
      "India                                                    4231\n",
      "United Kingdom of Great Britain and Northern Ireland     3224\n",
      "Ukraine                                                  2672\n",
      "France                                                   2110\n",
      "Canada                                                   2104\n",
      "Poland                                                   1534\n",
      "Netherlands                                              1449\n",
      "Brazil                                                   1375\n",
      "Italy                                                    1341\n",
      "Australia                                                1260\n",
      "Spain                                                    1123\n",
      "Sweden                                                   1016\n",
      "Russian Federation                                        925\n",
      "Switzerland                                               876\n",
      "Austria                                                   791\n",
      "Czech Republic                                            714\n",
      "Israel                                                    604\n",
      "Turkey                                                    546\n",
      "Belgium                                                   526\n",
      "Denmark                                                   504\n",
      "Portugal                                                  470\n",
      "Norway                                                    450\n",
      "Romania                                                   439\n",
      "Pakistan                                                  415\n",
      "Name: count, dtype: int64\n"
     ]
    }
   ],
   "source": [
    "occurrences = df['Country_standardized'].value_counts()\n",
    "print(occurrences)"
   ]
  },
  {
   "cell_type": "markdown",
   "metadata": {},
   "source": [
    "➡️NaN are now counted as 'Unknown' and a category 'Other' was created for the remaining 20%. "
   ]
  },
  {
   "cell_type": "markdown",
   "metadata": {},
   "source": [
    "### 4. Encoding Categorical Variables\n"
   ]
  },
  {
   "cell_type": "markdown",
   "metadata": {
    "jp-MarkdownHeadingCollapsed": true
   },
   "source": [
    "<h5>4.1 Encode the Employment column using one-hot encoding.</h5>\n"
   ]
  },
  {
   "cell_type": "code",
   "execution_count": 81,
   "metadata": {},
   "outputs": [
    {
     "name": "stdout",
     "output_type": "stream",
     "text": [
      "0\n"
     ]
    }
   ],
   "source": [
    "print(df['Employment'].isnull().sum())"
   ]
  },
  {
   "cell_type": "markdown",
   "metadata": {},
   "source": [
    "➡️No missing value to handle in this column"
   ]
  },
  {
   "cell_type": "code",
   "execution_count": 34,
   "metadata": {},
   "outputs": [
    {
     "name": "stdout",
     "output_type": "stream",
     "text": [
      "['Employed, full-time' 'Student, full-time'\n",
      " 'Student, full-time;Not employed, but looking for work'\n",
      " 'Independent contractor, freelancer, or self-employed'\n",
      " 'Not employed, and not looking for work'\n",
      " 'Employed, full-time;Student, part-time'\n",
      " 'Employed, full-time;Independent contractor, freelancer, or self-employed'\n",
      " 'Employed, full-time;Student, full-time' 'Employed, part-time'\n",
      " 'Student, full-time;Employed, part-time'\n",
      " 'Student, part-time;Employed, part-time' 'I prefer not to say'\n",
      " 'Not employed, but looking for work' 'Student, part-time'\n",
      " 'Employed, full-time;Student, full-time;Independent contractor, freelancer, or self-employed;Employed, part-time'\n",
      " 'Employed, full-time;Independent contractor, freelancer, or self-employed;Student, part-time'\n",
      " 'Independent contractor, freelancer, or self-employed;Employed, part-time'\n",
      " 'Independent contractor, freelancer, or self-employed;Student, part-time;Employed, part-time'\n",
      " 'Student, full-time;Not employed, but looking for work;Independent contractor, freelancer, or self-employed'\n",
      " 'Student, full-time;Independent contractor, freelancer, or self-employed'\n",
      " 'Employed, full-time;Employed, part-time'\n",
      " 'Not employed, but looking for work;Independent contractor, freelancer, or self-employed'\n",
      " 'Student, full-time;Not employed, and not looking for work' 'Retired'\n",
      " 'Independent contractor, freelancer, or self-employed;Student, part-time'\n",
      " 'Employed, full-time;Independent contractor, freelancer, or self-employed;Employed, part-time'\n",
      " 'Not employed, but looking for work;Independent contractor, freelancer, or self-employed;Student, part-time'\n",
      " 'Not employed, but looking for work;Student, part-time'\n",
      " 'Not employed, but looking for work;Not employed, and not looking for work'\n",
      " 'Independent contractor, freelancer, or self-employed;Retired'\n",
      " 'Not employed, but looking for work;Student, part-time;Employed, part-time'\n",
      " 'Student, full-time;Not employed, but looking for work;Not employed, and not looking for work'\n",
      " 'Employed, full-time;Not employed, but looking for work'\n",
      " 'Student, full-time;Not employed, and not looking for work;Student, part-time'\n",
      " 'Employed, full-time;Retired'\n",
      " 'Employed, full-time;Independent contractor, freelancer, or self-employed;Student, part-time;Employed, part-time'\n",
      " 'Not employed, but looking for work;Independent contractor, freelancer, or self-employed;Not employed, and not looking for work'\n",
      " 'Not employed, but looking for work;Independent contractor, freelancer, or self-employed;Employed, part-time'\n",
      " 'Not employed, but looking for work;Employed, part-time'\n",
      " 'Employed, full-time;Student, full-time;Employed, part-time'\n",
      " 'Independent contractor, freelancer, or self-employed;Not employed, and not looking for work'\n",
      " 'Not employed, and not looking for work;Student, part-time'\n",
      " 'Student, full-time;Independent contractor, freelancer, or self-employed;Employed, part-time'\n",
      " 'Student, full-time;Student, part-time'\n",
      " 'Student, full-time;Not employed, but looking for work;Student, part-time'\n",
      " 'Independent contractor, freelancer, or self-employed;Not employed, and not looking for work;Retired'\n",
      " 'Employed, full-time;Independent contractor, freelancer, or self-employed;Not employed, and not looking for work'\n",
      " 'Employed, full-time;Student, full-time;Independent contractor, freelancer, or self-employed'\n",
      " 'Employed, full-time;Student, full-time;Student, part-time'\n",
      " 'Not employed, but looking for work;Retired'\n",
      " 'Employed, full-time;Student, full-time;Not employed, but looking for work'\n",
      " 'Not employed, and not looking for work;Retired'\n",
      " 'Not employed, but looking for work;Independent contractor, freelancer, or self-employed;Not employed, and not looking for work;Retired'\n",
      " 'Employed, full-time;Not employed, but looking for work;Employed, part-time'\n",
      " 'Student, full-time;Not employed, but looking for work;Independent contractor, freelancer, or self-employed;Student, part-time;Employed, part-time;Retired'\n",
      " 'Employed, full-time;Independent contractor, freelancer, or self-employed;Not employed, and not looking for work;Employed, part-time'\n",
      " 'Student, full-time;Independent contractor, freelancer, or self-employed;Not employed, and not looking for work'\n",
      " 'Employed, full-time;Student, full-time;Not employed, but looking for work;Independent contractor, freelancer, or self-employed;Not employed, and not looking for work;Student, part-time;Employed, part-time;Retired'\n",
      " 'Employed, full-time;Not employed, but looking for work;Independent contractor, freelancer, or self-employed'\n",
      " 'Independent contractor, freelancer, or self-employed;Not employed, and not looking for work;Student, part-time'\n",
      " 'Student, full-time;Not employed, but looking for work;Retired'\n",
      " 'Student, full-time;Not employed, but looking for work;Independent contractor, freelancer, or self-employed;Student, part-time'\n",
      " 'Student, part-time;Retired'\n",
      " 'Student, full-time;Not employed, but looking for work;Not employed, and not looking for work;Student, part-time'\n",
      " 'Employed, full-time;Student, full-time;Not employed, but looking for work;Independent contractor, freelancer, or self-employed;Student, part-time;Employed, part-time'\n",
      " 'Not employed, but looking for work;Independent contractor, freelancer, or self-employed;Retired'\n",
      " 'Employed, full-time;Student, full-time;Student, part-time;Employed, part-time'\n",
      " 'Not employed, but looking for work;Independent contractor, freelancer, or self-employed;Student, part-time;Employed, part-time'\n",
      " 'Student, full-time;Not employed, but looking for work;Employed, part-time'\n",
      " 'Employed, full-time;Independent contractor, freelancer, or self-employed;Not employed, and not looking for work;Student, part-time'\n",
      " 'Independent contractor, freelancer, or self-employed;Student, part-time;Retired'\n",
      " 'Student, full-time;Independent contractor, freelancer, or self-employed;Student, part-time;Employed, part-time'\n",
      " 'Employed, full-time;Independent contractor, freelancer, or self-employed;Student, part-time;Retired'\n",
      " 'Student, full-time;Not employed, but looking for work;Independent contractor, freelancer, or self-employed;Not employed, and not looking for work'\n",
      " 'Student, full-time;Not employed, but looking for work;Independent contractor, freelancer, or self-employed;Employed, part-time'\n",
      " 'Student, full-time;Independent contractor, freelancer, or self-employed;Student, part-time'\n",
      " 'Independent contractor, freelancer, or self-employed;Employed, part-time;Retired'\n",
      " 'Employed, full-time;Not employed, and not looking for work'\n",
      " 'Employed, full-time;Independent contractor, freelancer, or self-employed;Retired'\n",
      " 'Student, full-time;Student, part-time;Employed, part-time'\n",
      " 'Employed, part-time;Retired'\n",
      " 'Employed, full-time;Independent contractor, freelancer, or self-employed;Employed, part-time;Retired'\n",
      " 'Employed, full-time;Student, part-time;Employed, part-time'\n",
      " 'Employed, full-time;Student, full-time;Independent contractor, freelancer, or self-employed;Student, part-time;Employed, part-time;Retired'\n",
      " 'Student, full-time;Student, part-time;Retired'\n",
      " 'Student, full-time;Not employed, and not looking for work;Employed, part-time'\n",
      " 'Employed, full-time;Not employed, but looking for work;Independent contractor, freelancer, or self-employed;Employed, part-time'\n",
      " 'Not employed, but looking for work;Not employed, and not looking for work;Student, part-time;Employed, part-time'\n",
      " 'Independent contractor, freelancer, or self-employed;Not employed, and not looking for work;Employed, part-time'\n",
      " 'Employed, full-time;Not employed, but looking for work;Independent contractor, freelancer, or self-employed;Not employed, and not looking for work;Employed, part-time'\n",
      " 'Employed, full-time;Student, full-time;Not employed, but looking for work;Independent contractor, freelancer, or self-employed;Not employed, and not looking for work;Student, part-time;Employed, part-time'\n",
      " 'Employed, full-time;Student, full-time;Independent contractor, freelancer, or self-employed;Student, part-time;Employed, part-time'\n",
      " 'Not employed, and not looking for work;Employed, part-time'\n",
      " 'Employed, full-time;Student, full-time;Not employed, but looking for work;Student, part-time'\n",
      " 'Employed, full-time;Student, full-time;Not employed, but looking for work;Independent contractor, freelancer, or self-employed;Employed, part-time'\n",
      " 'Employed, full-time;Not employed, but looking for work;Not employed, and not looking for work;Employed, part-time'\n",
      " 'Student, full-time;Independent contractor, freelancer, or self-employed;Employed, part-time;Retired'\n",
      " 'Not employed, but looking for work;Student, part-time;Retired'\n",
      " 'Independent contractor, freelancer, or self-employed;Not employed, and not looking for work;Student, part-time;Retired'\n",
      " 'Employed, full-time;Student, full-time;Not employed, but looking for work;Independent contractor, freelancer, or self-employed'\n",
      " 'Not employed, but looking for work;Not employed, and not looking for work;Student, part-time'\n",
      " 'Employed, full-time;Student, full-time;Independent contractor, freelancer, or self-employed;Student, part-time;Retired'\n",
      " 'Employed, full-time;Student, full-time;Not employed, but looking for work;Student, part-time;Employed, part-time'\n",
      " 'Student, full-time;Not employed, but looking for work;Independent contractor, freelancer, or self-employed;Not employed, and not looking for work;Student, part-time'\n",
      " 'Employed, full-time;Student, full-time;Not employed, but looking for work;Independent contractor, freelancer, or self-employed;Student, part-time;Employed, part-time;Retired'\n",
      " 'Not employed, but looking for work;Independent contractor, freelancer, or self-employed;Not employed, and not looking for work;Employed, part-time'\n",
      " 'Student, full-time;Retired'\n",
      " 'Employed, full-time;Not employed, but looking for work;Student, part-time'\n",
      " 'Not employed, and not looking for work;Student, part-time;Employed, part-time'\n",
      " 'Not employed, but looking for work;Independent contractor, freelancer, or self-employed;Student, part-time;Retired']\n"
     ]
    }
   ],
   "source": [
    "print(df['Employment'].unique())"
   ]
  },
  {
   "cell_type": "code",
   "execution_count": 83,
   "metadata": {},
   "outputs": [
    {
     "name": "stdout",
     "output_type": "stream",
     "text": [
      "Nombre de valeurs uniques : 110\n"
     ]
    }
   ],
   "source": [
    "# Comptage des valeurs uniques dans une colonne spécifique\n",
    "unique_count = df['Employment'].nunique()\n",
    "print(f\"Nombre de valeurs uniques : {unique_count}\")"
   ]
  },
  {
   "cell_type": "code",
   "execution_count": 84,
   "metadata": {},
   "outputs": [
    {
     "name": "stdout",
     "output_type": "stream",
     "text": [
      "            Employment Employment_standardized\n",
      "0  Employed, full-time      Employed full-time\n",
      "1  Employed, full-time      Employed full-time\n",
      "2  Employed, full-time      Employed full-time\n",
      "3   Student, full-time                 Student\n",
      "4   Student, full-time                 Student\n"
     ]
    }
   ],
   "source": [
    "# Fonction de simplification\n",
    "def simplify_employment(status):\n",
    "    if pd.isna(status):  # juste au cas ou mais il n'y a pas de NaN\n",
    "        return 'Unknown'\n",
    "    elif 'full-time' in status and 'Employed' in status:\n",
    "        return 'Employed full-time'\n",
    "    elif 'part-time' in status and 'Employed' in status:\n",
    "        return 'Employed part-time'\n",
    "    elif 'Student' in status:\n",
    "        return 'Student'\n",
    "    elif 'freelancer' in status or 'Independent contractor' in status or 'self-employed' in status:\n",
    "        return 'Freelancer'\n",
    "    elif 'Not employed' in status:\n",
    "        return 'Unemployed'\n",
    "    else:\n",
    "        return 'Other'\n",
    "\n",
    "# Application de la fonction\n",
    "df['Employment_standardized'] = df['Employment'].apply(simplify_employment)\n",
    "\n",
    "# Aperçu des résultats\n",
    "print(df[['Employment', 'Employment_standardized']].head())"
   ]
  },
  {
   "cell_type": "code",
   "execution_count": 85,
   "metadata": {},
   "outputs": [
    {
     "name": "stdout",
     "output_type": "stream",
     "text": [
      "['Employed full-time' 'Student' 'Freelancer' 'Unemployed'\n",
      " 'Employed part-time' 'Other']\n"
     ]
    }
   ],
   "source": [
    "print(df['Employment_standardized'].unique())"
   ]
  },
  {
   "cell_type": "markdown",
   "metadata": {},
   "source": [
    "### 5. Handling Missing Values\n"
   ]
  },
  {
   "cell_type": "markdown",
   "metadata": {
    "jp-MarkdownHeadingCollapsed": true
   },
   "source": [
    "<h5>5.1 Identify columns with the highest number of missing values.</h5>\n"
   ]
  },
  {
   "cell_type": "code",
   "execution_count": null,
   "metadata": {},
   "outputs": [],
   "source": [
    "# Découper l'affichage des NaN par groupe de 10 colonnes\n",
    "batch_size = 20  # Nombre de colonnes par groupe\n",
    "\n",
    "for i in range(0, len(df.columns), batch_size):\n",
    "    # Sélectionner un groupe de colonnes\n",
    "    subset_cols = df.columns[i:i + batch_size]\n",
    "    print(f\"Colonnes {i + 1} à {min(i + batch_size, len(df.columns))} :\")\n",
    "    \n",
    "    # Nombre de NaN par colonne dans ce groupe\n",
    "    print(df[subset_cols].isna().sum())\n",
    "    print(\"\\n\")  # Espacement entre les groupes pour plus de lisibilité"
   ]
  },
  {
   "cell_type": "code",
   "execution_count": 5,
   "metadata": {},
   "outputs": [
    {
     "name": "stdout",
     "output_type": "stream",
     "text": [
      "AINextMuch less integrated       64289\n",
      "AINextLess integrated            63082\n",
      "AINextNo change                  52939\n",
      "AINextMuch more integrated       51999\n",
      "EmbeddedAdmired                  48704\n",
      "EmbeddedWantToWorkWith           47837\n",
      "EmbeddedHaveWorkedWith           43223\n",
      "ConvertedCompYearly              42002\n",
      "AIToolNot interested in Using    41023\n",
      "AINextMore integrated            41009\n",
      "Knowledge_9                      37802\n",
      "Frequency_3                      37727\n",
      "Knowledge_8                      37679\n",
      "ProfessionalTech                 37673\n",
      "Knowledge_7                      37659\n",
      "Knowledge_6                      37573\n",
      "Knowledge_5                      37557\n",
      "Knowledge_2                      37416\n",
      "Knowledge_4                      37407\n",
      "Knowledge_3                      37342\n",
      "dtype: int64\n"
     ]
    }
   ],
   "source": [
    "# Identifiez les colonnes avec des NaN\n",
    "df_nan = df.isnull()\n",
    "\n",
    "# Comptez les NaN dans chaque colonne\n",
    "nan_count = df_nan.sum()\n",
    "\n",
    "# Triez les colonnes par nombre décroissant de NaN\n",
    "sorted_nan_count = nan_count.sort_values(ascending=False)\n",
    "\n",
    "# Sélectionnez les 20 premières colonnes avec le plus de NaN\n",
    "top_20_nan = sorted_nan_count.head(20)\n",
    "\n",
    "# Affichez les résultats\n",
    "print(top_20_nan)\n"
   ]
  },
  {
   "cell_type": "markdown",
   "metadata": {},
   "source": [
    "<h5>5.2 Impute missing values in numerical columns (e.g., `ConvertedCompYearly`) with the mean or median.</h5>\n"
   ]
  },
  {
   "cell_type": "code",
   "execution_count": 20,
   "metadata": {},
   "outputs": [
    {
     "name": "stdout",
     "output_type": "stream",
     "text": [
      "Index(['ResponseId', 'CompTotal', 'WorkExp', 'JobSatPoints_1',\n",
      "       'JobSatPoints_4', 'JobSatPoints_5', 'JobSatPoints_6', 'JobSatPoints_7',\n",
      "       'JobSatPoints_8', 'JobSatPoints_9', 'JobSatPoints_10',\n",
      "       'JobSatPoints_11', 'ConvertedCompYearly', 'JobSat'],\n",
      "      dtype='object')\n"
     ]
    }
   ],
   "source": [
    "#numerical columns names\n",
    "numeric_column_names = df.select_dtypes(include=['number']).columns\n",
    "print(numeric_column_names)"
   ]
  },
  {
   "cell_type": "code",
   "execution_count": 21,
   "metadata": {},
   "outputs": [],
   "source": [
    "#list of numerical columns\n",
    "numeric_columns = df.select_dtypes(include=['number'])"
   ]
  },
  {
   "cell_type": "code",
   "execution_count": 22,
   "metadata": {},
   "outputs": [
    {
     "name": "stdout",
     "output_type": "stream",
     "text": [
      "Colonne : ResponseId\n",
      "  Moyenne : 32719.0\n",
      "  Médiane : 32719.0\n",
      "\n",
      "Colonne : CompTotal\n",
      "  Moyenne : 2.9638411381149976e+145\n",
      "  Médiane : 110000.0\n",
      "\n",
      "Colonne : WorkExp\n",
      "  Moyenne : 11.46695663901814\n",
      "  Médiane : 9.0\n",
      "\n",
      "Colonne : JobSatPoints_1\n",
      "  Moyenne : 18.5810939844496\n",
      "  Médiane : 10.0\n",
      "\n",
      "Colonne : JobSatPoints_4\n",
      "  Moyenne : 7.5221396250808015\n",
      "  Médiane : 0.0\n",
      "\n",
      "Colonne : JobSatPoints_5\n",
      "  Moyenne : 10.06085733229064\n",
      "  Médiane : 0.0\n",
      "\n",
      "Colonne : JobSatPoints_6\n",
      "  Moyenne : 24.34323191850594\n",
      "  Médiane : 20.0\n",
      "\n",
      "Colonne : JobSatPoints_7\n",
      "  Moyenne : 22.965220218690572\n",
      "  Médiane : 15.0\n",
      "\n",
      "Colonne : JobSatPoints_8\n",
      "  Moyenne : 20.278165059750137\n",
      "  Médiane : 10.0\n",
      "\n",
      "Colonne : JobSatPoints_9\n",
      "  Moyenne : 16.169432373709938\n",
      "  Médiane : 5.0\n",
      "\n",
      "Colonne : JobSatPoints_10\n",
      "  Moyenne : 10.955713073005093\n",
      "  Médiane : 0.0\n",
      "\n",
      "Colonne : JobSatPoints_11\n",
      "  Moyenne : 9.95394803871625\n",
      "  Médiane : 0.0\n",
      "\n",
      "Colonne : ConvertedCompYearly\n",
      "  Moyenne : 86155.28726264134\n",
      "  Médiane : 65000.0\n",
      "\n",
      "Colonne : JobSat\n",
      "  Moyenne : 6.9350408569662845\n",
      "  Médiane : 7.0\n",
      "\n"
     ]
    }
   ],
   "source": [
    "#calculate the mean and median\n",
    "for column in numeric_columns.columns:\n",
    "    mean_value = numeric_columns[column].mean()\n",
    "    median_value = numeric_columns[column].median()\n",
    "    print(f\"Colonne : {column}\")\n",
    "    print(f\"  Moyenne : {mean_value}\")\n",
    "    print(f\"  Médiane : {median_value}\")\n",
    "    print()"
   ]
  },
  {
   "cell_type": "markdown",
   "metadata": {},
   "source": [
    "Choix entre moyenne ou mediane pour remplacer les NaN : \n",
    "\n",
    "Moyenne pour les colonnes 'JobSat' car majoritairement la mediane est de 0\n",
    "\n",
    "Mediane pour la colonne CompTotal (la moyenne est improbable et indique un outlier majeur ou une reponse farfelue volontaire) et ConvertedCompYearly"
   ]
  },
  {
   "cell_type": "code",
   "execution_count": 23,
   "metadata": {},
   "outputs": [
    {
     "name": "stdout",
     "output_type": "stream",
     "text": [
      "ResponseId             0\n",
      "CompTotal              0\n",
      "WorkExp                0\n",
      "JobSatPoints_1         0\n",
      "JobSatPoints_4         0\n",
      "JobSatPoints_5         0\n",
      "JobSatPoints_6         0\n",
      "JobSatPoints_7         0\n",
      "JobSatPoints_8         0\n",
      "JobSatPoints_9         0\n",
      "JobSatPoints_10        0\n",
      "JobSatPoints_11        0\n",
      "ConvertedCompYearly    0\n",
      "JobSat                 0\n",
      "dtype: int64\n"
     ]
    }
   ],
   "source": [
    "column_fill_w_mean =['ResponseId', 'WorkExp', 'JobSatPoints_1',\n",
    "       'JobSatPoints_4', 'JobSatPoints_5', 'JobSatPoints_6', 'JobSatPoints_7',\n",
    "       'JobSatPoints_8', 'JobSatPoints_9', 'JobSatPoints_10',\n",
    "       'JobSatPoints_11','JobSat']\n",
    "column_fill_w_median =['CompTotal','ConvertedCompYearly']\n",
    "\n",
    "# Fonction pour remplacer les NaN\n",
    "def fill_nan(df, columns_mean, columns_median):\n",
    "    for col in columns_mean:  # Remplacer par la moyenne\n",
    "        if col in df.columns:\n",
    "            df[col] = df[col].fillna(df[col].mean())\n",
    "    for col in columns_median:  # Remplacer par la médiane\n",
    "        if col in df.columns:\n",
    "            df[col] = df[col].fillna(df[col].median())\n",
    "    return df  # Retour explicite du DataFrame modifié\n",
    "\n",
    "# Application de la fonction\n",
    "df = fill_nan(df, column_fill_w_mean, column_fill_w_median)\n",
    "\n",
    "# Affichage des résultats\n",
    "print(df.select_dtypes(include=['number']).isnull().sum())  # Vérifie les NaN restants"
   ]
  },
  {
   "cell_type": "markdown",
   "metadata": {},
   "source": []
  },
  {
   "cell_type": "markdown",
   "metadata": {},
   "source": [
    "<h5>5.3 Impute missing values in categorical columns (e.g., `RemoteWork`) with the most frequent value.</h5>\n"
   ]
  },
  {
   "cell_type": "code",
   "execution_count": 24,
   "metadata": {},
   "outputs": [
    {
     "data": {
      "text/plain": [
       "'Hybrid (some remote, some in-person)'"
      ]
     },
     "execution_count": 24,
     "metadata": {},
     "output_type": "execute_result"
    }
   ],
   "source": [
    "#define the most frequent value in RemoteWork\n",
    "most_freq_remote = df['RemoteWork'].mode()[0]\n",
    "most_freq_remote"
   ]
  },
  {
   "cell_type": "code",
   "execution_count": 25,
   "metadata": {},
   "outputs": [
    {
     "name": "stdout",
     "output_type": "stream",
     "text": [
      "0\n"
     ]
    }
   ],
   "source": [
    "#replace\n",
    "df['RemoteWork']=df['RemoteWork'].fillna(most_freq_remote)\n",
    "#check for missing value after replacement\n",
    "print(df['RemoteWork'].isnull().sum())"
   ]
  },
  {
   "cell_type": "markdown",
   "metadata": {},
   "source": [
    "### 6. Feature Scaling and Transformation\n"
   ]
  },
  {
   "cell_type": "markdown",
   "metadata": {
    "jp-MarkdownHeadingCollapsed": true
   },
   "source": [
    "<h5>6.1 Apply Min-Max Scaling to normalize the `ConvertedCompYearly` column.</h5>\n"
   ]
  },
  {
   "cell_type": "code",
   "execution_count": 26,
   "metadata": {},
   "outputs": [],
   "source": [
    "converted_min = df['ConvertedCompYearly'].min()\n",
    "converted_max = df['ConvertedCompYearly'].max()\n",
    "df['Norm_ConvertedCompYearly']=(df['ConvertedCompYearly']-converted_min)/(converted_max-converted_min)"
   ]
  },
  {
   "cell_type": "markdown",
   "metadata": {
    "jp-MarkdownHeadingCollapsed": true
   },
   "source": [
    "<h5>6.2 Log-transform the ConvertedCompYearly column to reduce skewness.</h5>\n"
   ]
  },
  {
   "cell_type": "code",
   "execution_count": 41,
   "metadata": {},
   "outputs": [
    {
     "name": "stdout",
     "output_type": "stream",
     "text": [
      "Valeur du pic : 0.0039983140388132775\n",
      "Fréquence du pic : 42039\n"
     ]
    }
   ],
   "source": [
    "# Trouver la valeur avec le maximum d'occurrences\n",
    "peak_value = df['Norm_ConvertedCompYearly'].value_counts().idxmax()  # La valeur correspondant au pic\n",
    "peak_frequency = df['Norm_ConvertedCompYearly'].value_counts().max()  # La fréquence maximale\n",
    "\n",
    "print(f\"Valeur du pic : {peak_value}\")\n",
    "print(f\"Fréquence du pic : {peak_frequency}\")"
   ]
  },
  {
   "cell_type": "code",
   "execution_count": 43,
   "metadata": {},
   "outputs": [
    {
     "data": {
      "image/png": "[encoded data removed]",
      "text/plain": [
       "<Figure size 640x480 with 1 Axes>"
      ]
     },
     "metadata": {},
     "output_type": "display_data"
    }
   ],
   "source": [
    "import matplotlib.pyplot as plt\n",
    "#histogram of Normalized Min Max 'ConvertedCompYearly'\n",
    "dist =df['Norm_ConvertedCompYearly']\n",
    "plt.hist(dist, bins=800, color = 'lightgreen')\n",
    "plt.title('ConvertedCompYear Normalized')\n",
    "plt.xlim([-0.03, 0.03])\n",
    "plt.ylim([0,5000])  #zoom pour voir la distribution\n",
    "plt.show()"
   ]
  },
  {
   "cell_type": "code",
   "execution_count": 30,
   "metadata": {},
   "outputs": [],
   "source": [
    "df['log_ConvertedCompYearly'] = df['ConvertedCompYearly'].transform(np.log)"
   ]
  },
  {
   "cell_type": "code",
   "execution_count": 32,
   "metadata": {},
   "outputs": [
    {
     "data": {
      "text/plain": [
       "count    65437.000000\n",
       "mean        10.975674\n",
       "std          0.855452\n",
       "min          0.000000\n",
       "25%         11.082143\n",
       "50%         11.082143\n",
       "75%         11.082143\n",
       "max         16.604010\n",
       "Name: log_ConvertedCompYearly, dtype: float64"
      ]
     },
     "execution_count": 32,
     "metadata": {},
     "output_type": "execute_result"
    }
   ],
   "source": [
    "#visualiser le range de donnees\n",
    "df['log_ConvertedCompYearly'].describe()"
   ]
  },
  {
   "cell_type": "code",
   "execution_count": 37,
   "metadata": {},
   "outputs": [
    {
     "name": "stdout",
     "output_type": "stream",
     "text": [
      "Valeur du pic : 11.082142548877775\n",
      "Fréquence du pic : 42039\n"
     ]
    }
   ],
   "source": [
    "# Trouver la valeur avec le maximum d'occurrences\n",
    "peak_value = df['log_ConvertedCompYearly'].value_counts().idxmax()  # La valeur correspondant au pic\n",
    "peak_frequency = df['log_ConvertedCompYearly'].value_counts().max()  # La fréquence maximale\n",
    "\n",
    "print(f\"Valeur du pic : {peak_value}\")\n",
    "print(f\"Fréquence du pic : {peak_frequency}\")"
   ]
  },
  {
   "cell_type": "code",
   "execution_count": 40,
   "metadata": {},
   "outputs": [
    {
     "data": {
      "image/png": "[encoded data removed]",
      "text/plain": [
       "<Figure size 640x480 with 1 Axes>"
      ]
     },
     "metadata": {},
     "output_type": "display_data"
    }
   ],
   "source": [
    "#histogram of log transform 'ConvertedCompYearly'\n",
    "#optimise pour voir la distribution, connaissant le pic\n",
    "dist1 =df['log_ConvertedCompYearly']\n",
    "plt.hist(dist1, bins=800, color = 'coral')\n",
    "plt.title('ConvertedCompYear Log transform')\n",
    "plt.xlim([5,15])\n",
    "plt.ylim([0, 600])  #faire un zoom de la distribution\n",
    "plt.show()"
   ]
  },
  {
   "cell_type": "markdown",
   "metadata": {},
   "source": [
    "### 7. Feature Engineering\n"
   ]
  },
  {
   "cell_type": "markdown",
   "metadata": {},
   "source": [
    "<h5>7.1 Create a new column `ExperienceLevel` based on the `YearsCodePro` column:</h5>\n"
   ]
  },
  {
   "cell_type": "code",
   "execution_count": 44,
   "metadata": {},
   "outputs": [
    {
     "name": "stdout",
     "output_type": "stream",
     "text": [
      "[nan '17' '27' '7' '11' '25' '12' '10' '3' 'Less than 1 year' '18' '37'\n",
      " '15' '20' '6' '2' '16' '8' '14' '4' '45' '1' '24' '29' '5' '30' '26' '9'\n",
      " '33' '13' '35' '23' '22' '31' '19' '21' '28' '34' '32' '40' '50' '39'\n",
      " '44' '42' '41' '36' '38' 'More than 50 years' '43' '47' '48' '46' '49']\n"
     ]
    }
   ],
   "source": [
    "print(df['YearsCodePro'].unique())"
   ]
  },
  {
   "cell_type": "code",
   "execution_count": 45,
   "metadata": {},
   "outputs": [
    {
     "name": "stdout",
     "output_type": "stream",
     "text": [
      "13827\n"
     ]
    }
   ],
   "source": [
    "print(df['YearsCodePro'].isnull().sum())"
   ]
  },
  {
   "cell_type": "code",
   "execution_count": 46,
   "metadata": {},
   "outputs": [
    {
     "name": "stdout",
     "output_type": "stream",
     "text": [
      "['Unknown' '17' '27' '7' '11' '25' '12' '10' '3' 'Less than 1 year' '18'\n",
      " '37' '15' '20' '6' '2' '16' '8' '14' '4' '45' '1' '24' '29' '5' '30' '26'\n",
      " '9' '33' '13' '35' '23' '22' '31' '19' '21' '28' '34' '32' '40' '50' '39'\n",
      " '44' '42' '41' '36' '38' 'More than 50 years' '43' '47' '48' '46' '49']\n"
     ]
    }
   ],
   "source": [
    "# Remplacement des NaN par 'Unknown' \n",
    "df['YearsCodePro'] = df['YearsCodePro'].fillna('Unknown').astype(str)\n",
    "print(df['YearsCodePro'].unique())"
   ]
  },
  {
   "cell_type": "code",
   "execution_count": 49,
   "metadata": {},
   "outputs": [
    {
     "data": {
      "text/plain": [
       "dtype('O')"
      ]
     },
     "execution_count": 49,
     "metadata": {},
     "output_type": "execute_result"
    }
   ],
   "source": [
    "df['YearsCodePro'].dtypes"
   ]
  },
  {
   "cell_type": "code",
   "execution_count": 50,
   "metadata": {},
   "outputs": [
    {
     "name": "stdout",
     "output_type": "stream",
     "text": [
      "ExperienceLevel\n",
      "Expert          18460\n",
      "Unknown         13827\n",
      "Advanced        12653\n",
      "Intermediate    10834\n",
      "Beginner         9663\n",
      "Name: count, dtype: int64\n"
     ]
    }
   ],
   "source": [
    "def experience(years):\n",
    "    try:\n",
    "        # Convertir les valeurs en nombres si possible\n",
    "        years = float(years) if years not in ['Less than 1 year', 'More than 50 years', 'Unknown'] else years\n",
    "    except ValueError:\n",
    "        return 'Unknown'  # Classer les valeurs non convertibles comme 'Unknown'\n",
    "\n",
    "    # Gestion des cas spécifiques (chaînes)\n",
    "    if years == 'Less than 1 year':\n",
    "        return 'Beginner'\n",
    "    elif years == 'More than 50 years':\n",
    "        return 'Expert'\n",
    "    elif years == 'Unknown':\n",
    "        return 'Unknown'\n",
    "\n",
    "    # Gestion des valeurs numériques\n",
    "    if years <= 2:\n",
    "        return 'Beginner'\n",
    "    elif 2 < years <= 5:\n",
    "        return 'Intermediate'\n",
    "    elif 5 < years <= 10:\n",
    "        return 'Advanced'\n",
    "    elif years > 10:\n",
    "        return 'Expert'\n",
    "    else:\n",
    "        return 'Unknown'\n",
    "\n",
    "# Appliquer la fonction\n",
    "df['ExperienceLevel'] = df['YearsCodePro'].apply(experience)\n",
    "\n",
    "# Vérification des catégories\n",
    "print(df['ExperienceLevel'].value_counts())"
   ]
  },
  {
   "cell_type": "markdown",
   "metadata": {},
   "source": [
    "### Summary\n"
   ]
  },
  {
   "cell_type": "markdown",
   "metadata": {},
   "source": [
    "In this lab, you:\n",
    "\n",
    "- Explored the dataset to identify inconsistencies and missing values.\n",
    "\n",
    "- Encoded categorical variables for analysis.\n",
    "\n",
    "- Handled missing values using imputation techniques.\n",
    "\n",
    "- Normalized and transformed numerical data to prepare it for analysis.\n",
    "\n",
    "- Engineered a new feature to enhance data interpretation.\n"
   ]
  },
  {
   "cell_type": "markdown",
   "metadata": {},
   "source": [
    "Copyright © IBM Corporation. All rights reserved.\n"
   ]
  }
 ],
 "metadata": {
  "kernelspec": {
   "display_name": "Python 3 (ipykernel)",
   "language": "python",
   "name": "python3"
  },
  "language_info": {
   "codemirror_mode": {
    "name": "ipython",
    "version": 3
   },
   "file_extension": ".py",
   "mimetype": "text/x-python",
   "name": "python",
   "nbconvert_exporter": "python",
   "pygments_lexer": "ipython3",
   "version": "3.12.8"
  },
  "prev_pub_hash": "1e8e234f19fd098e27b0518a87f18de690e1c51f1d3263d5690927d19971251e"
 },
 "nbformat": 4,
 "nbformat_minor": 4
}
