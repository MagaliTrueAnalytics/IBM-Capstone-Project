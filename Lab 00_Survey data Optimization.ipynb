{
 "cells": [
  {
   "cell_type": "markdown",
   "id": "c61330df-ada1-49b8-a42d-52bc9ff7d1ec",
   "metadata": {},
   "source": [
    "<h1>Exploration and Optimization of the Dataset to Facilitate Visualization in IBM Cognos</h1>"
   ]
  },
  {
   "cell_type": "markdown",
   "id": "b104c272-2ec5-4955-a861-839271e1124b",
   "metadata": {},
   "source": [
    "<h3>🎯Objective</h3>"
   ]
  },
  {
   "cell_type": "markdown",
   "id": "af236263-ff53-4e14-a686-2275f4a1fea4",
   "metadata": {},
   "source": [
    "The goal of the analysis and visualization is to highlight current and future trends in technologies and identify the most popular tools in the IT industry through the analysis of this survey of more than **65000 respondents** conducted in **2024**.\n",
    "\n",
    "The objective of this notebook is to optimize data storage within the dataset to **facilitate visualization in IBM Cognos**. More specifically, the dataset originates from a survey where respondents were allowed to select multiple answers, particularly regarding languages, technologies, tools, and databases of interest. These items must be identified individually to **extract the top 10 based on their occurrence**."
   ]
  },
  {
   "cell_type": "markdown",
   "id": "75fa9abb-067b-4c01-b504-3b17fdd8381d",
   "metadata": {},
   "source": [
    "<h3>🛠️Import Necessary Libraries</h3>"
   ]
  },
  {
   "cell_type": "code",
   "execution_count": null,
   "id": "8b86bd19-7d45-47b6-b00a-7a5284f9fa11",
   "metadata": {},
   "outputs": [],
   "source": [
    "!pip install pandas"
   ]
  },
  {
   "cell_type": "code",
   "execution_count": null,
   "id": "52311b87-5b28-4c76-9c9c-32b2ba22d9b5",
   "metadata": {},
   "outputs": [],
   "source": [
    "import pandas as pd"
   ]
  },
  {
   "cell_type": "markdown",
   "id": "37bb703b-f5e7-4a28-8164-b710df3cf712",
   "metadata": {},
   "source": [
    "<h3>💻Load The Dataset as Dataframe</h3>"
   ]
  },
  {
   "cell_type": "code",
   "execution_count": null,
   "id": "229a3d4b-0f74-454a-b70d-eec8dda7f8f0",
   "metadata": {},
   "outputs": [],
   "source": [
    "file_path = r\"D:\\Download\\survey_data_updated 5.csv\" # Utilise 'r' pour éviter les erreurs liées aux antislash\n",
    "\n",
    "data = pd.read_csv(file_path)"
   ]
  },
  {
   "cell_type": "markdown",
   "id": "f6395abe-7101-4105-aff5-26d8d0cd0aa7",
   "metadata": {},
   "source": [
    "<h3>🔍Exploratory Analysis of the Quality of Variables of Interest</h3>"
   ]
  },
  {
   "cell_type": "markdown",
   "id": "3f96c61d-2dda-45b7-a751-b1449bddf440",
   "metadata": {},
   "source": [
    "**Check unique entry for LanguageHaveWorkedWith, DatabaseHaveWorkedWith, PlatformHaveWorkedWith and WebframeHaveWorkedWith**"
   ]
  },
  {
   "cell_type": "code",
   "execution_count": null,
   "id": "32fe2e13-2fe6-4e9d-9aee-c0c877468251",
   "metadata": {},
   "outputs": [],
   "source": [
    "data['LanguageHaveWorkedWith'].unique()"
   ]
  },
  {
   "cell_type": "code",
   "execution_count": null,
   "id": "68bd18c9-6ba5-49e9-86d7-15d45b7bbd86",
   "metadata": {},
   "outputs": [],
   "source": [
    "data['DatabaseHaveWorkedWith'].unique()"
   ]
  },
  {
   "cell_type": "code",
   "execution_count": null,
   "id": "5b3616b6-86ab-4e4f-be61-de88dfebeabe",
   "metadata": {},
   "outputs": [],
   "source": [
    "data['PlatformHaveWorkedWith'].unique()"
   ]
  },
  {
   "cell_type": "code",
   "execution_count": null,
   "id": "2841d68a-a541-46a7-984d-149f27399711",
   "metadata": {},
   "outputs": [],
   "source": [
    "data['WebframeHaveWorkedWith'].unique()"
   ]
  },
  {
   "cell_type": "markdown",
   "id": "98609802-5e1f-4139-bd2b-60aea9eaf06f",
   "metadata": {},
   "source": [
    "**Check unique entry for LanguageWantToWorkWith, DatabaseWantToWorkWith, PlatformWantToWorkWith and WebframeWantToWorkWith**"
   ]
  },
  {
   "cell_type": "code",
   "execution_count": null,
   "id": "48c70876-af4f-430b-bec1-243fc55206b8",
   "metadata": {},
   "outputs": [],
   "source": [
    "data['LanguageWantToWorkWith'].unique()"
   ]
  },
  {
   "cell_type": "code",
   "execution_count": null,
   "id": "6c46462d-68b1-45dc-b5db-b563abb8b133",
   "metadata": {},
   "outputs": [],
   "source": [
    "data['DatabaseWantToWorkWith'].unique()"
   ]
  },
  {
   "cell_type": "code",
   "execution_count": null,
   "id": "414d560a-d047-4644-a6a1-044168fa9db8",
   "metadata": {},
   "outputs": [],
   "source": [
    "data['PlatformWantToWorkWith'].unique()"
   ]
  },
  {
   "cell_type": "code",
   "execution_count": null,
   "id": "57f86dbb-77a2-432e-a746-566a17108cce",
   "metadata": {},
   "outputs": [],
   "source": [
    "data['WebframeWantToWorkWith'].unique()"
   ]
  },
  {
   "cell_type": "markdown",
   "id": "f70a17c0-b659-4244-8cdd-b94562a049f9",
   "metadata": {},
   "source": [
    "**Check unique entry for Employment**"
   ]
  },
  {
   "cell_type": "code",
   "execution_count": null,
   "id": "dac00fd4-66ed-417d-ac98-2e016c1e1e78",
   "metadata": {},
   "outputs": [],
   "source": [
    "data['Employment'].nunique()"
   ]
  },
  {
   "cell_type": "code",
   "execution_count": null,
   "id": "64a1d766-7393-41b0-9637-a436dc0b1130",
   "metadata": {},
   "outputs": [],
   "source": [
    "employment_counts = data['Employment'].value_counts()\n",
    "print(employment_counts)"
   ]
  },
  {
   "cell_type": "markdown",
   "id": "439d90ec-60a4-436c-9b5a-0cd3058d85da",
   "metadata": {},
   "source": [
    "**Check unique entry for Education Level**"
   ]
  },
  {
   "cell_type": "code",
   "execution_count": null,
   "id": "8d22f435-b0a2-4404-b057-5fc8ee70b4f0",
   "metadata": {},
   "outputs": [],
   "source": [
    "data['EdLevel'].unique()"
   ]
  },
  {
   "cell_type": "code",
   "execution_count": null,
   "id": "70547ed4-48d6-4ca8-ac49-0e1390311578",
   "metadata": {},
   "outputs": [],
   "source": [
    "data['ResponseId'].nunique()"
   ]
  },
  {
   "cell_type": "markdown",
   "id": "508e6409-4ebd-4c3a-a393-ae6fdb8d045d",
   "metadata": {},
   "source": [
    "<h3>✨Clean and Optimize the Dataset for Future Visualization</h3>"
   ]
  },
  {
   "cell_type": "markdown",
   "id": "97bcdceb-5f2f-468b-b882-4323f00e0d7c",
   "metadata": {},
   "source": [
    "**Refining the Dataframe to Focus on Variables of Interest and Removing Missing Data**"
   ]
  },
  {
   "cell_type": "code",
   "execution_count": null,
   "id": "e2829f97-8ec5-4528-90b2-9a38bd233d58",
   "metadata": {},
   "outputs": [],
   "source": [
    "#select variables of interest\n",
    "df = data[['ResponseId','Country','Employment','EdLevel','Age',\n",
    "         'LanguageHaveWorkedWith','DatabaseHaveWorkedWith','PlatformHaveWorkedWith','WebframeHaveWorkedWith',\n",
    "        'LanguageWantToWorkWith','DatabaseWantToWorkWith','PlatformWantToWorkWith','WebframeWantToWorkWith']]"
   ]
  },
  {
   "cell_type": "code",
   "execution_count": null,
   "id": "3fed1ca3-f136-4863-a16c-d94ec4535a4f",
   "metadata": {},
   "outputs": [],
   "source": [
    "#check the df\n",
    "df.head()"
   ]
  },
  {
   "cell_type": "code",
   "execution_count": null,
   "id": "b2f2ecf3-e283-43e9-b8c8-4c73fe6d5251",
   "metadata": {},
   "outputs": [],
   "source": [
    "df.shape"
   ]
  },
  {
   "cell_type": "code",
   "execution_count": null,
   "id": "23d19129-2e49-4f2b-95ef-bc504dbe82f5",
   "metadata": {},
   "outputs": [],
   "source": [
    "#identify column with high % of NaN\n",
    "df.isna().sum() / len(df) * 100"
   ]
  },
  {
   "cell_type": "markdown",
   "id": "701523fa-b8bf-406a-a673-4163f4b06994",
   "metadata": {},
   "source": [
    "**Split and explode all technologies and tools variables**\n",
    "\n",
    "The split method separates the multiple choices in the original column into a list for each respondent. The explode method then transforms these lists into individual rows, effectively multiplying the number of rows for each respondent based on their number of choices. The original column is modified, and other columns remain unchanged but are duplicated for the new rows. "
   ]
  },
  {
   "cell_type": "markdown",
   "id": "02a96ba7-ea04-4a62-b403-c5445971780a",
   "metadata": {},
   "source": [
    ">'Have Worked With' Tools"
   ]
  },
  {
   "cell_type": "code",
   "execution_count": null,
   "id": "518c8fed-509a-410c-a389-30b18f2283e0",
   "metadata": {},
   "outputs": [],
   "source": [
    "#Split LanguageHaveWorkedWith into list\n",
    "df['LanguageHaveWorkedWith'] = df['LanguageHaveWorkedWith'].str.split(';')\n",
    "df = df.explode('LanguageHaveWorkedWith')"
   ]
  },
  {
   "cell_type": "code",
   "execution_count": null,
   "id": "2f001e04-d40d-4884-8cf0-338955125478",
   "metadata": {},
   "outputs": [],
   "source": [
    "#Split DatabaseHaveWorkedWith into list\n",
    "df['DatabaseHaveWorkedWith'] = df['DatabaseHaveWorkedWith'].str.split(';')\n",
    "df = df.explode('DatabaseHaveWorkedWith')"
   ]
  },
  {
   "cell_type": "code",
   "execution_count": null,
   "id": "226bb86d-047b-4722-a585-fca368ba60db",
   "metadata": {},
   "outputs": [],
   "source": [
    "#Split PlatformHaveWorkedWith into list\n",
    "df['PlatformHaveWorkedWith'] = df['PlatformHaveWorkedWith'].str.split(';')\n",
    "df = df.explode('PlatformHaveWorkedWith')"
   ]
  },
  {
   "cell_type": "code",
   "execution_count": null,
   "id": "2a115ef6-346b-4bea-ad52-6570e418210e",
   "metadata": {},
   "outputs": [],
   "source": [
    "#Split WebframeHaveWorkedWith into list\n",
    "df['WebframeHaveWorkedWith'] = df['WebframeHaveWorkedWith'].str.split(';')\n",
    "df = df.explode('WebframeHaveWorkedWith')"
   ]
  },
  {
   "cell_type": "markdown",
   "id": "e17ef029-910d-4225-9cb7-38808c0fc77f",
   "metadata": {},
   "source": [
    ">'Want to Work With' Tools"
   ]
  },
  {
   "cell_type": "code",
   "execution_count": null,
   "id": "3ebb4ce5-0041-43bc-8b2d-6b4c828c4021",
   "metadata": {},
   "outputs": [],
   "source": [
    "#Split LanguageWantToWorkWith into list\n",
    "df['LanguageWantToWorkWith'] = df['LanguageWantToWorkWith'].str.split(';')\n",
    "df = df.explode('LanguageWantToWorkWith')"
   ]
  },
  {
   "cell_type": "code",
   "execution_count": null,
   "id": "ccff9830-a650-45c3-a4a8-81e00d36425b",
   "metadata": {},
   "outputs": [],
   "source": [
    "#Split DatabaseWantToWorkWith into list\n",
    "df['DatabaseWantToWorkWith'] = df['DatabaseWantToWorkWith'].str.split(';')\n",
    "df = df.explode('DatabaseWantToWorkWith')"
   ]
  },
  {
   "cell_type": "code",
   "execution_count": null,
   "id": "261ed71c-3f6a-47c1-b9de-db46048c304e",
   "metadata": {},
   "outputs": [],
   "source": [
    "#Split PlatformWantToWorkWith into list\n",
    "df['PlatformWantToWorkWith'] = df['PlatformWantToWorkWith'].str.split(';')\n",
    "df = df.explode('PlatformWantToWorkWith')"
   ]
  },
  {
   "cell_type": "code",
   "execution_count": null,
   "id": "e9817f15-3107-4213-9655-92844074e12b",
   "metadata": {},
   "outputs": [],
   "source": [
    "#Split WebframeWantToWorkWith into list\n",
    "df['WebframeWantToWorkWith'] = df['WebframeWantToWorkWith'].str.split(';')\n",
    "df = df.explode('WebframeWantToWorkWith')"
   ]
  },
  {
   "cell_type": "markdown",
   "id": "10ce6945-ba0c-416c-b90c-7d3706e4143e",
   "metadata": {},
   "source": [
    "**Top 10 of each Tools 'HaveWorkedWith'** for further check while creating dashboard"
   ]
  },
  {
   "cell_type": "code",
   "execution_count": null,
   "id": "81fa5944-bb39-44cd-aa20-61baaf8be8c0",
   "metadata": {},
   "outputs": [],
   "source": [
    "LanguageHaveWorkedWith_count = df['LanguageHaveWorkedWith'].value_counts() \n",
    "top10_LanguageHaveWorkedWith = LanguageHaveWorkedWith_count.head(10)\n",
    "top10_LanguageHaveWorkedWith"
   ]
  },
  {
   "cell_type": "code",
   "execution_count": null,
   "id": "625d96d3-3f4d-41a9-818c-fe47ffee8ff5",
   "metadata": {},
   "outputs": [],
   "source": [
    "DatabaseHaveWorkedWith_count = df['DatabaseHaveWorkedWith'].value_counts() \n",
    "top10_DatabaseHaveWorkedWith = DatabaseHaveWorkedWith_count.head(10)\n",
    "top10_DatabaseHaveWorkedWith"
   ]
  },
  {
   "cell_type": "code",
   "execution_count": null,
   "id": "76150523-cf31-4702-87bb-91ed63f6f0fb",
   "metadata": {},
   "outputs": [],
   "source": [
    "PlatformHaveWorkedWith_count = df['PlatformHaveWorkedWith'].value_counts() \n",
    "top10_PlatformHaveWorkedWith = PlatformHaveWorkedWith_count.head(10)\n",
    "top10_PlatformHaveWorkedWith"
   ]
  },
  {
   "cell_type": "code",
   "execution_count": null,
   "id": "caf30184-dab7-4fba-956c-c2c6b67343d0",
   "metadata": {},
   "outputs": [],
   "source": [
    "WebframeHaveWorkedWith_count = df['WebframeHaveWorkedWith'].value_counts() \n",
    "top10_WebframeHaveWorkedWith = WebframeHaveWorkedWith_count.head(10)\n",
    "top10_WebframeHaveWorkedWith"
   ]
  },
  {
   "cell_type": "markdown",
   "id": "5275e7a7-856c-4d55-9eb2-bc2f3699cfc9",
   "metadata": {},
   "source": [
    "**Top 10 of each Tools 'WantToWorkWith'** for further check while creating dashboard"
   ]
  },
  {
   "cell_type": "code",
   "execution_count": null,
   "id": "c944bacb-9c98-4a5e-8e9e-40b0db4368c7",
   "metadata": {},
   "outputs": [],
   "source": [
    "LanguageWantToWorkWith_count = df['LanguageWantToWorkWith'].value_counts() \n",
    "top10_LanguageWantToWorkWith = LanguageWantToWorkWith_count.head(10)\n",
    "top10_LanguageWantToWorkWith"
   ]
  },
  {
   "cell_type": "code",
   "execution_count": null,
   "id": "05e799e3-5bea-4b73-8dfb-1efeebb24a1c",
   "metadata": {},
   "outputs": [],
   "source": [
    "DatabaseWantToWorkWith_count = df['DatabaseWantToWorkWith'].value_counts() \n",
    "top10_DatabaseWantToWorkWith = DatabaseWantToWorkWith_count.head(10)\n",
    "top10_DatabaseWantToWorkWith"
   ]
  },
  {
   "cell_type": "code",
   "execution_count": null,
   "id": "d6d02dbb-ad2a-4450-b90f-29c099149a1e",
   "metadata": {},
   "outputs": [],
   "source": [
    "PlatformWantToWorkWith_count = df['PlatformWantToWorkWith'].value_counts() \n",
    "top10_PlatformWantToWorkWith = PlatformWantToWorkWith_count.head(10)\n",
    "top10_PlatformWantToWorkWith"
   ]
  },
  {
   "cell_type": "code",
   "execution_count": null,
   "id": "219c29de-b514-4d07-a33a-1b76878bb450",
   "metadata": {},
   "outputs": [],
   "source": [
    "WebframeWantToWorkWith_count = df['WebframeWantToWorkWith'].value_counts() \n",
    "top10_WebframeWantToWorkWith = WebframeWantToWorkWith_count.head(10)\n",
    "top10_WebframeWantToWorkWith"
   ]
  },
  {
   "cell_type": "markdown",
   "id": "4ed765a6-b328-4dc2-b7bf-683320399067",
   "metadata": {},
   "source": [
    "**Simplify the Employment status**"
   ]
  },
  {
   "cell_type": "markdown",
   "id": "6edb80c7-a179-4cd2-8f7f-694974b1c17c",
   "metadata": {},
   "source": [
    "The survey includes **60 employment status categories**, some of which reveal inconsistencies and present a methodological limitation that may affect the results. However, to extract the most valuable insights from the survey, I have chosen to implement a mapping strategy for employment statuses designed to mitigate interpretation biases.\n",
    "\n",
    "The mapping has been streamlined to minimize the impact of inconsistencies (for example, being both employed full-time and part-time simultaneously)."
   ]
  },
  {
   "cell_type": "code",
   "execution_count": null,
   "id": "7d91dc05-389c-4a07-9e56-727058310ed4",
   "metadata": {},
   "outputs": [],
   "source": [
    "#simplify Employment status\n",
    "\n",
    "def mapping_employment(status):\n",
    "    if 'Retired' in status:\n",
    "        return 'Retired'\n",
    "    elif 'Student, full-time' in status: ########\n",
    "        return 'Full-time Student'\n",
    "    elif 'Employed, part-time' in status: #####\n",
    "        return 'Part-time Employment'\n",
    "    elif 'Employed, full-time' in status and 'Independent contractor, freelancer, or self-employed' in status: ####\n",
    "        return 'Freelancer/Full-time Employment'\n",
    "    elif 'Employed, full-time' in status: ######\n",
    "        return 'Full-time Employment'\n",
    "    elif 'Independent contractor, freelancer, or self-employed' in status: ######\n",
    "        return 'Freelancer'\n",
    "    elif 'Not employed, but looking for work' in status: ######\n",
    "        return 'Seeking Employment'\n",
    "    elif ';' in status: \n",
    "        return 'Multiple Status'#######\n",
    "    else:\n",
    "        return 'Other' #######\n",
    "\n",
    "# Apply the function\n",
    "df['SimplifiedEmployment'] = df['Employment'].map(mapping_employment)"
   ]
  },
  {
   "cell_type": "code",
   "execution_count": null,
   "id": "bbfe59ef-48c0-4a35-a291-463fdad9f10c",
   "metadata": {},
   "outputs": [],
   "source": [
    "df.shape"
   ]
  },
  {
   "cell_type": "markdown",
   "id": "23e60876-8d10-41d2-85a2-ea28b37070ce",
   "metadata": {},
   "source": [
    "<h3>📂Save the Dataset as a CSV File</h3>"
   ]
  },
  {
   "cell_type": "code",
   "execution_count": null,
   "id": "17adcde4-0531-47dd-ba6e-7ad48557d07d",
   "metadata": {},
   "outputs": [],
   "source": [
    "df.to_csv('survey_data_u5_optimized.csv', index=False)"
   ]
  }
 ],
 "metadata": {
  "kernelspec": {
   "display_name": "Python 3 (ipykernel)",
   "language": "python",
   "name": "python3"
  },
  "language_info": {
   "codemirror_mode": {
    "name": "ipython",
    "version": 3
   },
   "file_extension": ".py",
   "mimetype": "text/x-python",
   "name": "python",
   "nbconvert_exporter": "python",
   "pygments_lexer": "ipython3",
   "version": "3.12.8"
  }
 },
 "nbformat": 4,
 "nbformat_minor": 5
}
