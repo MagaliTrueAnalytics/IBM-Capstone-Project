{
 "cells": [
  {
   "cell_type": "markdown",
   "id": "c61330df-ada1-49b8-a42d-52bc9ff7d1ec",
   "metadata": {},
   "source": [
    "<h1>Exploration and Optimization of the Dataset to Facilitate Visualization in IBM Cognos</h1>"
   ]
  },
  {
   "cell_type": "markdown",
   "id": "b104c272-2ec5-4955-a861-839271e1124b",
   "metadata": {},
   "source": [
    "<h3>🎯Objective</h3>"
   ]
  },
  {
   "cell_type": "markdown",
   "id": "af236263-ff53-4e14-a686-2275f4a1fea4",
   "metadata": {},
   "source": [
    "The goal of the analysis and visualization is to highlight current and future trends in technologies and identify the most popular tools in the IT industry through the analysis of this survey of more than **65000 respondents** conducted in **2024**.\n",
    "\n",
    "The objective of this notebook is to optimize data storage within the dataset to **facilitate visualization in IBM Cognos**. More specifically, the dataset originates from a survey where respondents were allowed to select multiple answers, particularly regarding languages, technologies, tools, and databases of interest. These items must be identified individually to **extract the top 10 based on their occurrence**."
   ]
  },
  {
   "cell_type": "markdown",
   "id": "75fa9abb-067b-4c01-b504-3b17fdd8381d",
   "metadata": {},
   "source": [
    "<h3>🛠️Import Necessary Libraries</h3>"
   ]
  },
  {
   "cell_type": "code",
   "execution_count": null,
   "id": "8b86bd19-7d45-47b6-b00a-7a5284f9fa11",
   "metadata": {},
   "outputs": [],
   "source": [
    "!pip install pandas"
   ]
  },
  {
   "cell_type": "code",
   "execution_count": null,
   "id": "52311b87-5b28-4c76-9c9c-32b2ba22d9b5",
   "metadata": {},
   "outputs": [],
   "source": [
    "import pandas as pd"
   ]
  },
  {
   "cell_type": "markdown",
   "id": "37bb703b-f5e7-4a28-8164-b710df3cf712",
   "metadata": {},
   "source": [
    "<h3>💻Load The Dataset as Dataframe</h3>"
   ]
  },
  {
   "cell_type": "code",
   "execution_count": null,
   "id": "229a3d4b-0f74-454a-b70d-eec8dda7f8f0",
   "metadata": {},
   "outputs": [],
   "source": [
    "file_path = r\"D:\\Download\\survey_data_updated 5.csv\" # Utilise 'r' pour éviter les erreurs liées aux antislash\n",
    "\n",
    "data = pd.read_csv(file_path)"
   ]
  },
  {
   "cell_type": "markdown",
   "id": "f6395abe-7101-4105-aff5-26d8d0cd0aa7",
   "metadata": {},
   "source": [
    "<h3>🔍Exploratory Analysis of the Quality of Variables of Interest</h3>"
   ]
  },
  {
   "cell_type": "markdown",
   "id": "3f96c61d-2dda-45b7-a751-b1449bddf440",
   "metadata": {},
   "source": [
    "**Check unique entry for LanguageHaveWorkedWith, DatabaseHaveWorkedWith, PlatformHaveWorkedWith and WebframeHaveWorkedWith**"
   ]
  },
  {
   "cell_type": "code",
   "execution_count": null,
   "id": "32fe2e13-2fe6-4e9d-9aee-c0c877468251",
   "metadata": {},
   "outputs": [],
   "source": [
    "data['LanguageHaveWorkedWith'].unique()"
   ]
  },
  {
   "cell_type": "code",
   "execution_count": null,
   "id": "68bd18c9-6ba5-49e9-86d7-15d45b7bbd86",
   "metadata": {},
   "outputs": [],
   "source": [
    "data['DatabaseHaveWorkedWith'].unique()"
   ]
  },
  {
   "cell_type": "code",
   "execution_count": null,
   "id": "5b3616b6-86ab-4e4f-be61-de88dfebeabe",
   "metadata": {},
   "outputs": [],
   "source": [
    "data['PlatformHaveWorkedWith'].unique()"
   ]
  },
  {
   "cell_type": "code",
   "execution_count": null,
   "id": "2841d68a-a541-46a7-984d-149f27399711",
   "metadata": {},
   "outputs": [],
   "source": [
    "data['WebframeHaveWorkedWith'].unique()"
   ]
  },
  {
   "cell_type": "markdown",
   "id": "98609802-5e1f-4139-bd2b-60aea9eaf06f",
   "metadata": {},
   "source": [
    "**Check unique entry for LanguageWantToWorkWith, DatabaseWantToWorkWith, PlatformWantToWorkWith and WebframeWantToWorkWith**"
   ]
  },
  {
   "cell_type": "code",
   "execution_count": null,
   "id": "48c70876-af4f-430b-bec1-243fc55206b8",
   "metadata": {},
   "outputs": [],
   "source": [
    "data['LanguageWantToWorkWith'].unique()"
   ]
  },
  {
   "cell_type": "code",
   "execution_count": null,
   "id": "6c46462d-68b1-45dc-b5db-b563abb8b133",
   "metadata": {},
   "outputs": [],
   "source": [
    "data['DatabaseWantToWorkWith'].unique()"
   ]
  },
  {
   "cell_type": "code",
   "execution_count": null,
   "id": "414d560a-d047-4644-a6a1-044168fa9db8",
   "metadata": {},
   "outputs": [],
   "source": [
    "data['PlatformWantToWorkWith'].unique()"
   ]
  },
  {
   "cell_type": "code",
   "execution_count": null,
   "id": "57f86dbb-77a2-432e-a746-566a17108cce",
   "metadata": {},
   "outputs": [],
   "source": [
    "data['WebframeWantToWorkWith'].unique()"
   ]
  },
  {
   "cell_type": "markdown",
   "id": "f70a17c0-b659-4244-8cdd-b94562a049f9",
   "metadata": {},
   "source": [
    "**Check unique entry for Employment**"
   ]
  },
  {
   "cell_type": "code",
   "execution_count": null,
   "id": "dac00fd4-66ed-417d-ac98-2e016c1e1e78",
   "metadata": {},
   "outputs": [],
   "source": [
    "data['Employment'].nunique()"
   ]
  },
  {
   "cell_type": "code",
   "execution_count": null,
   "id": "64a1d766-7393-41b0-9637-a436dc0b1130",
   "metadata": {},
   "outputs": [],
   "source": [
    "employment_counts = data['Employment'].value_counts()\n",
    "print(employment_counts)"
   ]
  },
  {
   "cell_type": "markdown",
   "id": "439d90ec-60a4-436c-9b5a-0cd3058d85da",
   "metadata": {},
   "source": [
    "**Check unique entry for Education Level**"
   ]
  },
  {
   "cell_type": "code",
   "execution_count": null,
   "id": "8d22f435-b0a2-4404-b057-5fc8ee70b4f0",
   "metadata": {},
   "outputs": [],
   "source": [
    "data['EdLevel'].unique()"
   ]
  },
  {
   "cell_type": "code",
   "execution_count": null,
   "id": "70547ed4-48d6-4ca8-ac49-0e1390311578",
   "metadata": {},
   "outputs": [],
   "source": [
    "data['ResponseId'].nunique()"
   ]
  },
  {
   "cell_type": "markdown",
   "id": "508e6409-4ebd-4c3a-a393-ae6fdb8d045d",
   "metadata": {},
   "source": [
    "<h3>✨Needs for Data Cleaning & Wrangling</h3>"
   ]
  },
  {
   "cell_type": "markdown",
   "id": "97bcdceb-5f2f-468b-b882-4323f00e0d7c",
   "metadata": {},
   "source": [
    "**Refining the Dataframe to Focus on Variables of Interest and Removing Missing Data**"
   ]
  },
  {
   "cell_type": "code",
   "execution_count": null,
   "id": "e2829f97-8ec5-4528-90b2-9a38bd233d58",
   "metadata": {},
   "outputs": [],
   "source": [
    "#select variables of interest\n",
    "df = data[['ResponseId','Country','Employment','EdLevel','Age',\n",
    "         'LanguageHaveWorkedWith','DatabaseHaveWorkedWith','PlatformHaveWorkedWith','WebframeHaveWorkedWith',\n",
    "        'LanguageWantToWorkWith','DatabaseWantToWorkWith','PlatformWantToWorkWith','WebframeWantToWorkWith']]"
   ]
  },
  {
   "cell_type": "code",
   "execution_count": null,
   "id": "3fed1ca3-f136-4863-a16c-d94ec4535a4f",
   "metadata": {},
   "outputs": [],
   "source": [
    "#check the df\n",
    "df.head()"
   ]
  },
  {
   "cell_type": "code",
   "execution_count": null,
   "id": "b2f2ecf3-e283-43e9-b8c8-4c73fe6d5251",
   "metadata": {},
   "outputs": [],
   "source": [
    "df.shape"
   ]
  },
  {
   "cell_type": "code",
   "execution_count": null,
   "id": "23d19129-2e49-4f2b-95ef-bc504dbe82f5",
   "metadata": {},
   "outputs": [],
   "source": [
    "#identify column with high % of NaN\n",
    "df.isna().sum() / len(df) * 100"
   ]
  },
  {
   "cell_type": "markdown",
   "id": "cbfedd54-3d62-4f8a-b005-ef0ca1fcc04d",
   "metadata": {},
   "source": [
    "**Missing value**"
   ]
  },
  {
   "cell_type": "markdown",
   "id": "9af2afcb-8481-4621-8061-27d268001ece",
   "metadata": {},
   "source": [
    "The dataset has already been cleaned, and there are no missing values."
   ]
  },
  {
   "cell_type": "markdown",
   "id": "701523fa-b8bf-406a-a673-4163f4b06994",
   "metadata": {},
   "source": [
    "**Split and explode all technologies and tools variables**\n",
    "\n",
    "The split method separates the multiple choices in the original column into a list for each respondent. The explode method then transforms these lists into individual rows, effectively multiplying the number of rows for each respondent based on their number of choices. The original column is modified, and other columns remain unchanged but are duplicated for the new rows. "
   ]
  },
  {
   "cell_type": "markdown",
   "id": "4ed765a6-b328-4dc2-b7bf-683320399067",
   "metadata": {},
   "source": [
    "**Simplify the Employment status**"
   ]
  },
  {
   "cell_type": "markdown",
   "id": "6edb80c7-a179-4cd2-8f7f-694974b1c17c",
   "metadata": {},
   "source": [
    "The survey includes **60 employment status categories**, some of which reveal inconsistencies and present a methodological limitation that may affect the results. However, to extract the most valuable insights from the survey, I have chosen to implement a mapping strategy for employment statuses designed to mitigate interpretation biases.\n",
    "\n",
    "The mapping will be streamlined to minimize the impact of inconsistencies (for example, being both employed full-time and part-time simultaneously)."
   ]
  },
  {
   "cell_type": "markdown",
   "id": "d54118a5-da83-495a-a5aa-a0a14ec80c6d",
   "metadata": {},
   "source": [
    "**Education Level**"
   ]
  },
  {
   "cell_type": "markdown",
   "id": "1443a224-408a-4642-9f8b-2b244f79e60f",
   "metadata": {},
   "source": [
    "The variable 'EdLevel' does not need to be modified or mapped. It will be used as is."
   ]
  },
  {
   "cell_type": "markdown",
   "id": "3cdd728e-ea9f-4442-9162-27bd1bfa0699",
   "metadata": {},
   "source": [
    "<h3>🤺Challenges of the Data Wrangling Process</h3>"
   ]
  },
  {
   "cell_type": "markdown",
   "id": "1481ec84-fe10-4b1c-bdae-1a3d151d7cb7",
   "metadata": {},
   "source": [
    "The first challenge in data wrangling is the size of the initial CSV dataset (57MB). \n",
    "In VS Code, the limit is 25MB. \n",
    "\n",
    "Furthermore, the process of splitting/exploding the 8 variables containing tools and technologies multiplies the rows in the dataframe. A test was conducted, and the process stops after three steps of splitting/exploding. Indeed, the process generates a dataframe with over 2 million rows, which exceeds the memory capacity of the kernel in Jupyter as well as in VS Code, leading to a kernel crash."
   ]
  },
  {
   "cell_type": "markdown",
   "id": "48c7b9ec-982e-4d7c-b6d2-73e0073a740f",
   "metadata": {},
   "source": [
    "<h3>🥷Strategy for Data Wrangling</h3>"
   ]
  },
  {
   "cell_type": "markdown",
   "id": "77f79bae-1ace-47da-ac0d-c15c24031374",
   "metadata": {},
   "source": [
    "The chosen strategy for data wrangling is as follows. \n",
    "\n",
    "The original dataset will be stored on **Google Drive** and opened in Pandas using the **downloadable HTTP link**. The wrangling process will focus on reducing the number of columns (114) to the variables of interest (3 to 13). The process will be carried out in **5 steps**, generating 5 dataframes and therefore **5 distinct CSV files** to reduce the size of the dataframe and the volume of the final file.\n",
    "\n",
    "CSV0 includes demographic data, (df shape rows x 13).\n",
    "\n",
    "CSV1 contains \"Languages\" and \"DatabaseHaveWorkedWith,\" (df shape rows x 3).\n",
    "\n",
    "CSV2 contains \"Platforms\" and \"WebframeHaveWorkedWith,\" (df shape rows x 3).\n",
    "\n",
    "CSV3 includes \"Languages\" and \"DatabaseWantToWorkWith,\" (df shape rows x 3).\n",
    "\n",
    "CSV4 contains \"Platforms\" and \"WebframeWantToWorkWith.\" (df shape rows x 3).\n",
    "\n",
    "All these CSV files are lightweight and ready for direct use in IBM Cognos.\n",
    "\n",
    "The Python script will be stored in a .py file and executed in **VS Code**. Control steps using print() will ensure the process runs smoothly and help identify bugs if needed. \n",
    "\n",
    "The resulting CSV files will then be uploaded to IBM Cognos to create the dashboard later."
   ]
  },
  {
   "cell_type": "code",
   "execution_count": null,
   "id": "39d19fa9-e954-4edd-8d26-447400d4d7b2",
   "metadata": {},
   "outputs": [],
   "source": []
  }
 ],
 "metadata": {
  "kernelspec": {
   "display_name": "Python 3 (ipykernel)",
   "language": "python",
   "name": "python3"
  },
  "language_info": {
   "codemirror_mode": {
    "name": "ipython",
    "version": 3
   },
   "file_extension": ".py",
   "mimetype": "text/x-python",
   "name": "python",
   "nbconvert_exporter": "python",
   "pygments_lexer": "ipython3",
   "version": "3.12.8"
  }
 },
 "nbformat": 4,
 "nbformat_minor": 5
}
