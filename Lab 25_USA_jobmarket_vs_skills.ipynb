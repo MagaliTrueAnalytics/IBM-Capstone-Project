{
 "cells": [
  {
   "cell_type": "markdown",
   "id": "52579b73-9345-43d3-bf08-89a1c595957b",
   "metadata": {},
   "source": [
    "<h1>🍔Analysis of IT Trends in USA</h1>"
   ]
  },
  {
   "cell_type": "markdown",
   "id": "7187bf31-91c6-4239-aed7-81db41d6f91a",
   "metadata": {},
   "source": [
    "dataset cleaned, created during module 1 Lab 2"
   ]
  },
  {
   "cell_type": "markdown",
   "id": "2cd4ea43-5067-46af-94ba-8530686542bc",
   "metadata": {},
   "source": [
    "<h3>🛠️Import libraries</h3>"
   ]
  },
  {
   "cell_type": "code",
   "execution_count": 1,
   "id": "f6d54adc-1706-4df0-9b47-11e36f63a93c",
   "metadata": {},
   "outputs": [
    {
     "name": "stdout",
     "output_type": "stream",
     "text": [
      "Collecting pandas\n",
      "  Downloading pandas-2.2.3-cp312-cp312-manylinux_2_17_x86_64.manylinux2014_x86_64.whl.metadata (89 kB)\n",
      "Collecting numpy>=1.26.0 (from pandas)\n",
      "  Downloading numpy-2.2.4-cp312-cp312-manylinux_2_17_x86_64.manylinux2014_x86_64.whl.metadata (62 kB)\n",
      "Requirement already satisfied: python-dateutil>=2.8.2 in /opt/conda/lib/python3.12/site-packages (from pandas) (2.9.0.post0)\n",
      "Requirement already satisfied: pytz>=2020.1 in /opt/conda/lib/python3.12/site-packages (from pandas) (2024.2)\n",
      "Collecting tzdata>=2022.7 (from pandas)\n",
      "  Downloading tzdata-2025.2-py2.py3-none-any.whl.metadata (1.4 kB)\n",
      "Requirement already satisfied: six>=1.5 in /opt/conda/lib/python3.12/site-packages (from python-dateutil>=2.8.2->pandas) (1.17.0)\n",
      "Downloading pandas-2.2.3-cp312-cp312-manylinux_2_17_x86_64.manylinux2014_x86_64.whl (12.7 MB)\n",
      "\u001b[2K   \u001b[90m━━━━━━━━━━━━━━━━━━━━━━━━━━━━━━━━━━━━━━━━\u001b[0m \u001b[32m12.7/12.7 MB\u001b[0m \u001b[31m146.4 MB/s\u001b[0m eta \u001b[36m0:00:00\u001b[0m\n",
      "\u001b[?25hDownloading numpy-2.2.4-cp312-cp312-manylinux_2_17_x86_64.manylinux2014_x86_64.whl (16.1 MB)\n",
      "\u001b[2K   \u001b[90m━━━━━━━━━━━━━━━━━━━━━━━━━━━━━━━━━━━━━━━━\u001b[0m \u001b[32m16.1/16.1 MB\u001b[0m \u001b[31m162.3 MB/s\u001b[0m eta \u001b[36m0:00:00\u001b[0m\n",
      "Downloading tzdata-2025.2-py2.py3-none-any.whl (347 kB)\n",
      "Installing collected packages: tzdata, numpy, pandas\n",
      "Successfully installed numpy-2.2.4 pandas-2.2.3 tzdata-2025.2\n",
      "Collecting matplotlib\n",
      "  Downloading matplotlib-3.10.1-cp312-cp312-manylinux_2_17_x86_64.manylinux2014_x86_64.whl.metadata (11 kB)\n",
      "Collecting contourpy>=1.0.1 (from matplotlib)\n",
      "  Downloading contourpy-1.3.1-cp312-cp312-manylinux_2_17_x86_64.manylinux2014_x86_64.whl.metadata (5.4 kB)\n",
      "Collecting cycler>=0.10 (from matplotlib)\n",
      "  Downloading cycler-0.12.1-py3-none-any.whl.metadata (3.8 kB)\n",
      "Collecting fonttools>=4.22.0 (from matplotlib)\n",
      "  Downloading fonttools-4.57.0-cp312-cp312-manylinux_2_5_x86_64.manylinux1_x86_64.manylinux_2_17_x86_64.manylinux2014_x86_64.whl.metadata (102 kB)\n",
      "Collecting kiwisolver>=1.3.1 (from matplotlib)\n",
      "  Downloading kiwisolver-1.4.8-cp312-cp312-manylinux_2_17_x86_64.manylinux2014_x86_64.whl.metadata (6.2 kB)\n",
      "Requirement already satisfied: numpy>=1.23 in /opt/conda/lib/python3.12/site-packages (from matplotlib) (2.2.4)\n",
      "Requirement already satisfied: packaging>=20.0 in /opt/conda/lib/python3.12/site-packages (from matplotlib) (24.2)\n",
      "Collecting pillow>=8 (from matplotlib)\n",
      "  Downloading pillow-11.1.0-cp312-cp312-manylinux_2_28_x86_64.whl.metadata (9.1 kB)\n",
      "Collecting pyparsing>=2.3.1 (from matplotlib)\n",
      "  Downloading pyparsing-3.2.3-py3-none-any.whl.metadata (5.0 kB)\n",
      "Requirement already satisfied: python-dateutil>=2.7 in /opt/conda/lib/python3.12/site-packages (from matplotlib) (2.9.0.post0)\n",
      "Requirement already satisfied: six>=1.5 in /opt/conda/lib/python3.12/site-packages (from python-dateutil>=2.7->matplotlib) (1.17.0)\n",
      "Downloading matplotlib-3.10.1-cp312-cp312-manylinux_2_17_x86_64.manylinux2014_x86_64.whl (8.6 MB)\n",
      "\u001b[2K   \u001b[90m━━━━━━━━━━━━━━━━━━━━━━━━━━━━━━━━━━━━━━━━\u001b[0m \u001b[32m8.6/8.6 MB\u001b[0m \u001b[31m79.2 MB/s\u001b[0m eta \u001b[36m0:00:00\u001b[0m\n",
      "\u001b[?25hDownloading contourpy-1.3.1-cp312-cp312-manylinux_2_17_x86_64.manylinux2014_x86_64.whl (323 kB)\n",
      "Downloading cycler-0.12.1-py3-none-any.whl (8.3 kB)\n",
      "Downloading fonttools-4.57.0-cp312-cp312-manylinux_2_5_x86_64.manylinux1_x86_64.manylinux_2_17_x86_64.manylinux2014_x86_64.whl (4.9 MB)\n",
      "\u001b[2K   \u001b[90m━━━━━━━━━━━━━━━━━━━━━━━━━━━━━━━━━━━━━━━━\u001b[0m \u001b[32m4.9/4.9 MB\u001b[0m \u001b[31m110.3 MB/s\u001b[0m eta \u001b[36m0:00:00\u001b[0m\n",
      "\u001b[?25hDownloading kiwisolver-1.4.8-cp312-cp312-manylinux_2_17_x86_64.manylinux2014_x86_64.whl (1.5 MB)\n",
      "\u001b[2K   \u001b[90m━━━━━━━━━━━━━━━━━━━━━━━━━━━━━━━━━━━━━━━━\u001b[0m \u001b[32m1.5/1.5 MB\u001b[0m \u001b[31m63.2 MB/s\u001b[0m eta \u001b[36m0:00:00\u001b[0m\n",
      "\u001b[?25hDownloading pillow-11.1.0-cp312-cp312-manylinux_2_28_x86_64.whl (4.5 MB)\n",
      "\u001b[2K   \u001b[90m━━━━━━━━━━━━━━━━━━━━━━━━━━━━━━━━━━━━━━━━\u001b[0m \u001b[32m4.5/4.5 MB\u001b[0m \u001b[31m106.6 MB/s\u001b[0m eta \u001b[36m0:00:00\u001b[0m\n",
      "\u001b[?25hDownloading pyparsing-3.2.3-py3-none-any.whl (111 kB)\n",
      "Installing collected packages: pyparsing, pillow, kiwisolver, fonttools, cycler, contourpy, matplotlib\n",
      "Successfully installed contourpy-1.3.1 cycler-0.12.1 fonttools-4.57.0 kiwisolver-1.4.8 matplotlib-3.10.1 pillow-11.1.0 pyparsing-3.2.3\n"
     ]
    }
   ],
   "source": [
    "!pip install pandas\n",
    "!pip install matplotlib"
   ]
  },
  {
   "cell_type": "code",
   "execution_count": 2,
   "id": "c7056059-6c26-4643-8668-1f3f2bc986b8",
   "metadata": {},
   "outputs": [],
   "source": [
    "import pandas as pd \n",
    "import matplotlib.pyplot as plt  "
   ]
  },
  {
   "cell_type": "code",
   "execution_count": 15,
   "id": "fb639cac-3b0c-459f-b5b9-e8160984e843",
   "metadata": {},
   "outputs": [
    {
     "name": "stdout",
     "output_type": "stream",
     "text": [
      "Collecting folium\n",
      "  Downloading folium-0.19.5-py2.py3-none-any.whl.metadata (4.1 kB)\n",
      "Collecting branca>=0.6.0 (from folium)\n",
      "  Downloading branca-0.8.1-py3-none-any.whl.metadata (1.5 kB)\n",
      "Requirement already satisfied: jinja2>=2.9 in /opt/conda/lib/python3.12/site-packages (from folium) (3.1.5)\n",
      "Requirement already satisfied: numpy in /opt/conda/lib/python3.12/site-packages (from folium) (2.2.4)\n",
      "Requirement already satisfied: requests in /opt/conda/lib/python3.12/site-packages (from folium) (2.32.3)\n",
      "Collecting xyzservices (from folium)\n",
      "  Downloading xyzservices-2025.1.0-py3-none-any.whl.metadata (4.3 kB)\n",
      "Requirement already satisfied: MarkupSafe>=2.0 in /opt/conda/lib/python3.12/site-packages (from jinja2>=2.9->folium) (3.0.2)\n",
      "Requirement already satisfied: charset_normalizer<4,>=2 in /opt/conda/lib/python3.12/site-packages (from requests->folium) (3.4.1)\n",
      "Requirement already satisfied: idna<4,>=2.5 in /opt/conda/lib/python3.12/site-packages (from requests->folium) (3.10)\n",
      "Requirement already satisfied: urllib3<3,>=1.21.1 in /opt/conda/lib/python3.12/site-packages (from requests->folium) (2.3.0)\n",
      "Requirement already satisfied: certifi>=2017.4.17 in /opt/conda/lib/python3.12/site-packages (from requests->folium) (2024.12.14)\n",
      "Downloading folium-0.19.5-py2.py3-none-any.whl (110 kB)\n",
      "Downloading branca-0.8.1-py3-none-any.whl (26 kB)\n",
      "Downloading xyzservices-2025.1.0-py3-none-any.whl (88 kB)\n",
      "Installing collected packages: xyzservices, branca, folium\n",
      "Successfully installed branca-0.8.1 folium-0.19.5 xyzservices-2025.1.0\n"
     ]
    }
   ],
   "source": [
    "!pip install folium"
   ]
  },
  {
   "cell_type": "markdown",
   "id": "245763ce-8d1d-4af8-9074-9e3d678d8c47",
   "metadata": {},
   "source": [
    "<h3>📂Load the files and Convert as a df</h3>"
   ]
  },
  {
   "cell_type": "code",
   "execution_count": 3,
   "id": "c684ac05-47e7-42ba-a3e7-53d2d227cd5e",
   "metadata": {},
   "outputs": [],
   "source": [
    "#load the csv file 'popular-language' : top 10 programming language and Average Salary\n",
    "path1 = \"/resources/DA0321EN/lab/module4/popular-languages_USA.csv\"\n",
    "df_popular=pd.read_csv(path1)"
   ]
  },
  {
   "cell_type": "code",
   "execution_count": 18,
   "id": "ff247321-74d0-4515-8c4d-65bfd3a097ad",
   "metadata": {},
   "outputs": [
    {
     "data": {
      "text/html": [
       "<div>\n",
       "<style scoped>\n",
       "    .dataframe tbody tr th:only-of-type {\n",
       "        vertical-align: middle;\n",
       "    }\n",
       "\n",
       "    .dataframe tbody tr th {\n",
       "        vertical-align: top;\n",
       "    }\n",
       "\n",
       "    .dataframe thead th {\n",
       "        text-align: right;\n",
       "    }\n",
       "</style>\n",
       "<table border=\"1\" class=\"dataframe\">\n",
       "  <thead>\n",
       "    <tr style=\"text-align: right;\">\n",
       "      <th></th>\n",
       "      <th>Language</th>\n",
       "      <th>Average Annual Salary</th>\n",
       "    </tr>\n",
       "  </thead>\n",
       "  <tbody>\n",
       "    <tr>\n",
       "      <th>0</th>\n",
       "      <td>Python</td>\n",
       "      <td>$114,383</td>\n",
       "    </tr>\n",
       "    <tr>\n",
       "      <th>1</th>\n",
       "      <td>Java</td>\n",
       "      <td>$101,013</td>\n",
       "    </tr>\n",
       "    <tr>\n",
       "      <th>2</th>\n",
       "      <td>R</td>\n",
       "      <td>$92,037</td>\n",
       "    </tr>\n",
       "    <tr>\n",
       "      <th>3</th>\n",
       "      <td>Javascript</td>\n",
       "      <td>$110,981</td>\n",
       "    </tr>\n",
       "    <tr>\n",
       "      <th>4</th>\n",
       "      <td>Swift</td>\n",
       "      <td>$130,801</td>\n",
       "    </tr>\n",
       "    <tr>\n",
       "      <th>5</th>\n",
       "      <td>C++</td>\n",
       "      <td>$113,865</td>\n",
       "    </tr>\n",
       "    <tr>\n",
       "      <th>6</th>\n",
       "      <td>C#</td>\n",
       "      <td>$88,726</td>\n",
       "    </tr>\n",
       "    <tr>\n",
       "      <th>7</th>\n",
       "      <td>PHP</td>\n",
       "      <td>$84,727</td>\n",
       "    </tr>\n",
       "    <tr>\n",
       "      <th>8</th>\n",
       "      <td>SQL</td>\n",
       "      <td>$84,793</td>\n",
       "    </tr>\n",
       "    <tr>\n",
       "      <th>9</th>\n",
       "      <td>Go</td>\n",
       "      <td>$94,082</td>\n",
       "    </tr>\n",
       "  </tbody>\n",
       "</table>\n",
       "</div>"
      ],
      "text/plain": [
       "     Language Average Annual Salary\n",
       "0      Python              $114,383\n",
       "1        Java              $101,013\n",
       "2           R               $92,037\n",
       "3  Javascript              $110,981\n",
       "4       Swift              $130,801\n",
       "5         C++              $113,865\n",
       "6          C#               $88,726\n",
       "7         PHP               $84,727\n",
       "8         SQL               $84,793\n",
       "9          Go               $94,082"
      ]
     },
     "execution_count": 18,
     "metadata": {},
     "output_type": "execute_result"
    }
   ],
   "source": [
    "df_popular"
   ]
  },
  {
   "cell_type": "code",
   "execution_count": 3,
   "id": "ecaa0082-fe37-477b-9e3c-c7511220b4e7",
   "metadata": {},
   "outputs": [],
   "source": [
    "#load the csv file 'job_language' : Most language required by employer in job post description\n",
    "path2 = \"/resources/DA0321EN/lab/module4/job-postings_languages.csv\"\n",
    "df_job_lang =pd.read_csv(path2)"
   ]
  },
  {
   "cell_type": "code",
   "execution_count": 6,
   "id": "5d309707-bbc6-4699-ad6e-520d023e743e",
   "metadata": {},
   "outputs": [
    {
     "data": {
      "text/html": [
       "<div>\n",
       "<style scoped>\n",
       "    .dataframe tbody tr th:only-of-type {\n",
       "        vertical-align: middle;\n",
       "    }\n",
       "\n",
       "    .dataframe tbody tr th {\n",
       "        vertical-align: top;\n",
       "    }\n",
       "\n",
       "    .dataframe thead th {\n",
       "        text-align: right;\n",
       "    }\n",
       "</style>\n",
       "<table border=\"1\" class=\"dataframe\">\n",
       "  <thead>\n",
       "    <tr style=\"text-align: right;\">\n",
       "      <th></th>\n",
       "      <th>Languages</th>\n",
       "      <th>Number of Jobs</th>\n",
       "    </tr>\n",
       "  </thead>\n",
       "  <tbody>\n",
       "    <tr>\n",
       "      <th>0</th>\n",
       "      <td>C</td>\n",
       "      <td>1237</td>\n",
       "    </tr>\n",
       "    <tr>\n",
       "      <th>1</th>\n",
       "      <td>C#</td>\n",
       "      <td>333</td>\n",
       "    </tr>\n",
       "    <tr>\n",
       "      <th>2</th>\n",
       "      <td>C++</td>\n",
       "      <td>305</td>\n",
       "    </tr>\n",
       "    <tr>\n",
       "      <th>3</th>\n",
       "      <td>Python</td>\n",
       "      <td>1171</td>\n",
       "    </tr>\n",
       "    <tr>\n",
       "      <th>4</th>\n",
       "      <td>Java</td>\n",
       "      <td>1108</td>\n",
       "    </tr>\n",
       "    <tr>\n",
       "      <th>5</th>\n",
       "      <td>Scala</td>\n",
       "      <td>9</td>\n",
       "    </tr>\n",
       "    <tr>\n",
       "      <th>6</th>\n",
       "      <td>JavaScript</td>\n",
       "      <td>355</td>\n",
       "    </tr>\n",
       "    <tr>\n",
       "      <th>7</th>\n",
       "      <td>PHP</td>\n",
       "      <td>636</td>\n",
       "    </tr>\n",
       "    <tr>\n",
       "      <th>8</th>\n",
       "      <td>R</td>\n",
       "      <td>82</td>\n",
       "    </tr>\n",
       "    <tr>\n",
       "      <th>9</th>\n",
       "      <td>Go</td>\n",
       "      <td>25</td>\n",
       "    </tr>\n",
       "    <tr>\n",
       "      <th>10</th>\n",
       "      <td>Swift</td>\n",
       "      <td>59</td>\n",
       "    </tr>\n",
       "  </tbody>\n",
       "</table>\n",
       "</div>"
      ],
      "text/plain": [
       "     Languages  Number of Jobs\n",
       "0            C            1237\n",
       "1           C#             333\n",
       "2          C++             305\n",
       "3       Python            1171\n",
       "4         Java            1108\n",
       "5        Scala               9\n",
       "6   JavaScript             355\n",
       "7          PHP             636\n",
       "8            R              82\n",
       "9           Go              25\n",
       "10       Swift              59"
      ]
     },
     "execution_count": 6,
     "metadata": {},
     "output_type": "execute_result"
    }
   ],
   "source": [
    "df_job_lang"
   ]
  },
  {
   "cell_type": "code",
   "execution_count": 4,
   "id": "32127ffc-ceae-4167-8491-40fbba1f0e0c",
   "metadata": {},
   "outputs": [],
   "source": [
    "# Rename column 'Languages' in 'Language' for further df_merged\n",
    "df_job_lang.rename(columns={'Languages': 'Language'}, inplace=True)"
   ]
  },
  {
   "cell_type": "code",
   "execution_count": 174,
   "id": "e8f910ae-46fe-4916-a51b-6e8132f4ee11",
   "metadata": {},
   "outputs": [],
   "source": [
    "#load the csv file 'job_database' : Most databases required by employer in job post description\n",
    "path3 = \"/resources/DA0321EN/lab/module4/job_posting_databases.csv\"\n",
    "df_job_db =pd.read_csv(path3)"
   ]
  },
  {
   "cell_type": "code",
   "execution_count": 16,
   "id": "a4f6acac-57eb-4837-9aac-01b2e5a7b35c",
   "metadata": {},
   "outputs": [
    {
     "data": {
      "text/html": [
       "<div>\n",
       "<style scoped>\n",
       "    .dataframe tbody tr th:only-of-type {\n",
       "        vertical-align: middle;\n",
       "    }\n",
       "\n",
       "    .dataframe tbody tr th {\n",
       "        vertical-align: top;\n",
       "    }\n",
       "\n",
       "    .dataframe thead th {\n",
       "        text-align: right;\n",
       "    }\n",
       "</style>\n",
       "<table border=\"1\" class=\"dataframe\">\n",
       "  <thead>\n",
       "    <tr style=\"text-align: right;\">\n",
       "      <th></th>\n",
       "      <th>Database</th>\n",
       "      <th>Number of Jobs</th>\n",
       "    </tr>\n",
       "  </thead>\n",
       "  <tbody>\n",
       "    <tr>\n",
       "      <th>0</th>\n",
       "      <td>Oracle</td>\n",
       "      <td>784</td>\n",
       "    </tr>\n",
       "    <tr>\n",
       "      <th>1</th>\n",
       "      <td>MySQL</td>\n",
       "      <td>750</td>\n",
       "    </tr>\n",
       "    <tr>\n",
       "      <th>2</th>\n",
       "      <td>SQL Server</td>\n",
       "      <td>249</td>\n",
       "    </tr>\n",
       "    <tr>\n",
       "      <th>3</th>\n",
       "      <td>PostgreSQL</td>\n",
       "      <td>10</td>\n",
       "    </tr>\n",
       "    <tr>\n",
       "      <th>4</th>\n",
       "      <td>MongoDB</td>\n",
       "      <td>174</td>\n",
       "    </tr>\n",
       "  </tbody>\n",
       "</table>\n",
       "</div>"
      ],
      "text/plain": [
       "     Database  Number of Jobs\n",
       "0      Oracle             784\n",
       "1       MySQL             750\n",
       "2  SQL Server             249\n",
       "3  PostgreSQL              10\n",
       "4     MongoDB             174"
      ]
     },
     "execution_count": 16,
     "metadata": {},
     "output_type": "execute_result"
    }
   ],
   "source": [
    "df_job_db"
   ]
  },
  {
   "cell_type": "code",
   "execution_count": 10,
   "id": "5c062cbd-17d6-42e4-81a5-189f63ddab64",
   "metadata": {},
   "outputs": [],
   "source": [
    "#load the csv file 'job_locations' : Cities with the most number of job posting\n",
    "path5 = \"/resources/DA0321EN/lab/module4/job-postings_cities.csv\"\n",
    "df_job_locations =pd.read_csv(path5)"
   ]
  },
  {
   "cell_type": "code",
   "execution_count": 11,
   "id": "4221724e-4bd2-432a-857c-f422cb81cead",
   "metadata": {},
   "outputs": [
    {
     "data": {
      "text/html": [
       "<div>\n",
       "<style scoped>\n",
       "    .dataframe tbody tr th:only-of-type {\n",
       "        vertical-align: middle;\n",
       "    }\n",
       "\n",
       "    .dataframe tbody tr th {\n",
       "        vertical-align: top;\n",
       "    }\n",
       "\n",
       "    .dataframe thead th {\n",
       "        text-align: right;\n",
       "    }\n",
       "</style>\n",
       "<table border=\"1\" class=\"dataframe\">\n",
       "  <thead>\n",
       "    <tr style=\"text-align: right;\">\n",
       "      <th></th>\n",
       "      <th>Location</th>\n",
       "      <th>Number of Jobs</th>\n",
       "    </tr>\n",
       "  </thead>\n",
       "  <tbody>\n",
       "    <tr>\n",
       "      <th>0</th>\n",
       "      <td>Los Angeles</td>\n",
       "      <td>640</td>\n",
       "    </tr>\n",
       "    <tr>\n",
       "      <th>1</th>\n",
       "      <td>New York</td>\n",
       "      <td>3226</td>\n",
       "    </tr>\n",
       "    <tr>\n",
       "      <th>2</th>\n",
       "      <td>San Francisco</td>\n",
       "      <td>435</td>\n",
       "    </tr>\n",
       "    <tr>\n",
       "      <th>3</th>\n",
       "      <td>Washington DC</td>\n",
       "      <td>5316</td>\n",
       "    </tr>\n",
       "    <tr>\n",
       "      <th>4</th>\n",
       "      <td>Boston</td>\n",
       "      <td>2966</td>\n",
       "    </tr>\n",
       "    <tr>\n",
       "      <th>5</th>\n",
       "      <td>Seattle</td>\n",
       "      <td>3375</td>\n",
       "    </tr>\n",
       "    <tr>\n",
       "      <th>6</th>\n",
       "      <td>Detroit</td>\n",
       "      <td>3945</td>\n",
       "    </tr>\n",
       "    <tr>\n",
       "      <th>7</th>\n",
       "      <td>Austin</td>\n",
       "      <td>434</td>\n",
       "    </tr>\n",
       "    <tr>\n",
       "      <th>8</th>\n",
       "      <td>Houston</td>\n",
       "      <td>3339</td>\n",
       "    </tr>\n",
       "    <tr>\n",
       "      <th>9</th>\n",
       "      <td>Philadelphia</td>\n",
       "      <td>41</td>\n",
       "    </tr>\n",
       "    <tr>\n",
       "      <th>10</th>\n",
       "      <td>New Orleons</td>\n",
       "      <td>817</td>\n",
       "    </tr>\n",
       "    <tr>\n",
       "      <th>11</th>\n",
       "      <td>Baltimore</td>\n",
       "      <td>1263</td>\n",
       "    </tr>\n",
       "    <tr>\n",
       "      <th>12</th>\n",
       "      <td>Dallas</td>\n",
       "      <td>1208</td>\n",
       "    </tr>\n",
       "  </tbody>\n",
       "</table>\n",
       "</div>"
      ],
      "text/plain": [
       "         Location  Number of Jobs\n",
       "0     Los Angeles             640\n",
       "1        New York            3226\n",
       "2   San Francisco             435\n",
       "3   Washington DC            5316\n",
       "4          Boston            2966\n",
       "5         Seattle            3375\n",
       "6         Detroit            3945\n",
       "7          Austin             434\n",
       "8         Houston            3339\n",
       "9    Philadelphia              41\n",
       "10    New Orleons             817\n",
       "11      Baltimore            1263\n",
       "12         Dallas            1208"
      ]
     },
     "execution_count": 11,
     "metadata": {},
     "output_type": "execute_result"
    }
   ],
   "source": [
    "df_job_locations"
   ]
  },
  {
   "cell_type": "code",
   "execution_count": 13,
   "id": "0605aa0c-9d2e-4027-a62a-a718193e4d26",
   "metadata": {},
   "outputs": [
    {
     "data": {
      "text/plain": [
       "np.int64(27005)"
      ]
     },
     "execution_count": 13,
     "metadata": {},
     "output_type": "execute_result"
    }
   ],
   "source": [
    "total_job = df_job_locations['Number of Jobs'].sum()\n",
    "total_job"
   ]
  },
  {
   "cell_type": "code",
   "execution_count": 17,
   "id": "a2fb15da-7988-4c53-86ae-3ea5a33efeeb",
   "metadata": {},
   "outputs": [
    {
     "data": {
      "text/plain": [
       "array(['Los Angeles', 'New York', 'San Francisco', 'Washington DC',\n",
       "       'Boston', 'Seattle', 'Detroit', 'Austin', 'Houston',\n",
       "       'Philadelphia', 'New Orleons', 'Baltimore', 'Dallas'], dtype=object)"
      ]
     },
     "execution_count": 17,
     "metadata": {},
     "output_type": "execute_result"
    }
   ],
   "source": [
    "df_job_locations['Location'].unique()"
   ]
  },
  {
   "cell_type": "code",
   "execution_count": 175,
   "id": "b2b45d06-3060-4e1a-b5e0-0d316313fd89",
   "metadata": {},
   "outputs": [],
   "source": [
    "#load the csv file csv1 : language and database experiences split/exploded - worlwide survey\n",
    "path6 = \"/resources/DA0321EN/lab/module4/csv1_language_database_hww.csv\"\n",
    "df_csv1 =pd.read_csv(path6)"
   ]
  },
  {
   "cell_type": "code",
   "execution_count": 9,
   "id": "c218a353-4e83-48a6-a7e5-00ead264641f",
   "metadata": {},
   "outputs": [
    {
     "data": {
      "text/html": [
       "<div>\n",
       "<style scoped>\n",
       "    .dataframe tbody tr th:only-of-type {\n",
       "        vertical-align: middle;\n",
       "    }\n",
       "\n",
       "    .dataframe tbody tr th {\n",
       "        vertical-align: top;\n",
       "    }\n",
       "\n",
       "    .dataframe thead th {\n",
       "        text-align: right;\n",
       "    }\n",
       "</style>\n",
       "<table border=\"1\" class=\"dataframe\">\n",
       "  <thead>\n",
       "    <tr style=\"text-align: right;\">\n",
       "      <th></th>\n",
       "      <th>ResponseId</th>\n",
       "      <th>Country</th>\n",
       "      <th>LanguageHaveWorkedWith</th>\n",
       "      <th>DatabaseHaveWorkedWith</th>\n",
       "    </tr>\n",
       "  </thead>\n",
       "  <tbody>\n",
       "    <tr>\n",
       "      <th>0</th>\n",
       "      <td>2</td>\n",
       "      <td>United Kingdom of Great Britain and Northern I...</td>\n",
       "      <td>Bash/Shell (all shells)</td>\n",
       "      <td>Dynamodb</td>\n",
       "    </tr>\n",
       "    <tr>\n",
       "      <th>1</th>\n",
       "      <td>2</td>\n",
       "      <td>United Kingdom of Great Britain and Northern I...</td>\n",
       "      <td>Bash/Shell (all shells)</td>\n",
       "      <td>MongoDB</td>\n",
       "    </tr>\n",
       "    <tr>\n",
       "      <th>2</th>\n",
       "      <td>2</td>\n",
       "      <td>United Kingdom of Great Britain and Northern I...</td>\n",
       "      <td>Bash/Shell (all shells)</td>\n",
       "      <td>PostgreSQL</td>\n",
       "    </tr>\n",
       "    <tr>\n",
       "      <th>3</th>\n",
       "      <td>2</td>\n",
       "      <td>United Kingdom of Great Britain and Northern I...</td>\n",
       "      <td>Go</td>\n",
       "      <td>Dynamodb</td>\n",
       "    </tr>\n",
       "    <tr>\n",
       "      <th>4</th>\n",
       "      <td>2</td>\n",
       "      <td>United Kingdom of Great Britain and Northern I...</td>\n",
       "      <td>Go</td>\n",
       "      <td>MongoDB</td>\n",
       "    </tr>\n",
       "  </tbody>\n",
       "</table>\n",
       "</div>"
      ],
      "text/plain": [
       "   ResponseId                                            Country  \\\n",
       "0           2  United Kingdom of Great Britain and Northern I...   \n",
       "1           2  United Kingdom of Great Britain and Northern I...   \n",
       "2           2  United Kingdom of Great Britain and Northern I...   \n",
       "3           2  United Kingdom of Great Britain and Northern I...   \n",
       "4           2  United Kingdom of Great Britain and Northern I...   \n",
       "\n",
       "    LanguageHaveWorkedWith DatabaseHaveWorkedWith  \n",
       "0  Bash/Shell (all shells)               Dynamodb  \n",
       "1  Bash/Shell (all shells)                MongoDB  \n",
       "2  Bash/Shell (all shells)             PostgreSQL  \n",
       "3                       Go               Dynamodb  \n",
       "4                       Go                MongoDB  "
      ]
     },
     "execution_count": 9,
     "metadata": {},
     "output_type": "execute_result"
    }
   ],
   "source": [
    "df_csv1.head()"
   ]
  },
  {
   "cell_type": "code",
   "execution_count": 176,
   "id": "df8f5471-b1da-46bc-95f7-a68a57c15441",
   "metadata": {},
   "outputs": [],
   "source": [
    "# Rename column 'DatabaseHaveWorkedWith' in 'Database' (for further df_merged\n",
    "df_csv1.rename(columns={'DatabaseHaveWorkedWith': 'Database'}, inplace=True)"
   ]
  },
  {
   "cell_type": "code",
   "execution_count": null,
   "id": "02691358-67ac-4ba8-a5e7-5d8736be20e5",
   "metadata": {},
   "outputs": [],
   "source": [
    "# Rename column 'LanguageHaveWorkedWith' in 'Language' (for further df_merged\n",
    "df_csv1.rename(columns={'LanguageHaveWorkedWith': 'Language'}, inplace=True)"
   ]
  },
  {
   "cell_type": "markdown",
   "id": "782b4b2a-4d71-40bf-af1f-b86f008a2871",
   "metadata": {},
   "source": [
    "<h3>📊Visualization</h3>"
   ]
  },
  {
   "cell_type": "markdown",
   "id": "1cc1b6d6-ee93-483f-8b23-6d28435ed05a",
   "metadata": {},
   "source": [
    "✅Bar Chart for top 10 programming languages on-demand"
   ]
  },
  {
   "cell_type": "code",
   "execution_count": 8,
   "id": "9638412a-06a7-48e2-a3f2-207b25ecdcf8",
   "metadata": {},
   "outputs": [
    {
     "data": {
      "image/png": "[encoded data removed]",
      "text/plain": [
       "<Figure size 640x480 with 1 Axes>"
      ]
     },
     "metadata": {},
     "output_type": "display_data"
    }
   ],
   "source": [
    "df_job_lang = df_job_lang.sort_values(by='Number of Jobs', ascending=True)  \n",
    "\n",
    "#bar plot horizontal\n",
    "plt.barh(df_job_lang['Language'], df_job_lang['Number of Jobs'], color='#fa8631')\n",
    "plt.title('The Top 10 Hottest Programming Skills in the US Job Market')\n",
    "plt.xlabel('Occurrence in job postings')\n",
    "plt.ylabel('Languages')\n",
    "plt.show()"
   ]
  },
  {
   "cell_type": "markdown",
   "id": "c89767a1-d78a-48ce-9eb5-10dfec0ae3f8",
   "metadata": {},
   "source": [
    "✅Bar chart for top 5 databases on-demand"
   ]
  },
  {
   "cell_type": "code",
   "execution_count": 17,
   "id": "3316d7f5-665d-4f42-9071-39547250c17d",
   "metadata": {},
   "outputs": [
    {
     "data": {
      "image/png": "[encoded data removed]",
      "text/plain": [
       "<Figure size 640x480 with 1 Axes>"
      ]
     },
     "metadata": {},
     "output_type": "display_data"
    }
   ],
   "source": [
    "df_job_db = df_job_db.sort_values(by='Number of Jobs', ascending=True)  \n",
    "\n",
    "#bar plot horizontal\n",
    "plt.barh(df_job_db['Database'], df_job_db['Number of Jobs'], color='#fa8631')\n",
    "plt.title('Top 5 In-Demand Databases Driving the US Job Market')\n",
    "plt.xlabel('Occurrence in job postings')\n",
    "plt.ylabel('Databases')\n",
    "plt.show()"
   ]
  },
  {
   "cell_type": "code",
   "execution_count": 193,
   "id": "85d87323-ee9e-4818-8a8d-8cc027005683",
   "metadata": {},
   "outputs": [
    {
     "data": {
      "text/plain": [
       "Database\n",
       "Oracle        1\n",
       "MySQL         1\n",
       "SQL Server    1\n",
       "PostgreSQL    1\n",
       "MongoDB       1\n",
       "Name: count, dtype: int64"
      ]
     },
     "execution_count": 193,
     "metadata": {},
     "output_type": "execute_result"
    }
   ],
   "source": [
    "df_job_db['Database'].value_counts()"
   ]
  },
  {
   "cell_type": "markdown",
   "id": "5a322769-4178-4dac-a0b9-6c970e5ba57d",
   "metadata": {},
   "source": [
    "✅Bar chart in-demand databse vs offer"
   ]
  },
  {
   "cell_type": "code",
   "execution_count": 194,
   "id": "1a0d4b48-6601-4807-b2e4-587d60fc4e9d",
   "metadata": {},
   "outputs": [],
   "source": [
    "#filter csv1 on USA only\n",
    "df_usa_db = df_csv1[df_csv1['Country'] == 'United States of America']"
   ]
  },
  {
   "cell_type": "code",
   "execution_count": 195,
   "id": "48f403e6-77f5-4eb9-a548-cd9c7d7a87d3",
   "metadata": {},
   "outputs": [
    {
     "data": {
      "text/plain": [
       "array(['Elasticsearch', 'MongoDB', 'PostgreSQL', 'SQLite', 'MySQL',\n",
       "       'Microsoft SQL Server', 'BigQuery', 'Clickhouse',\n",
       "       'Cloud Firestore', 'Cosmos DB', 'Supabase', 'Dynamodb', 'IBM DB2',\n",
       "       'MariaDB', 'Microsoft Access', 'Neo4J', 'Oracle', 'Redis',\n",
       "       'Databricks SQL', 'Snowflake', 'Couch DB', 'RavenDB', 'H2', 'Solr',\n",
       "       'Cassandra', 'InfluxDB', 'Cockroachdb', 'Presto',\n",
       "       'Firebase Realtime Database', 'Firebird', 'DuckDB', 'Couchbase',\n",
       "       'Datomic', 'EventStoreDB', 'TiDB'], dtype=object)"
      ]
     },
     "execution_count": 195,
     "metadata": {},
     "output_type": "execute_result"
    }
   ],
   "source": [
    "df_usa_db['Database'].unique()"
   ]
  },
  {
   "cell_type": "code",
   "execution_count": 196,
   "id": "c3187c20-7d23-4fef-896b-b66705ae0600",
   "metadata": {},
   "outputs": [
    {
     "name": "stdout",
     "output_type": "stream",
     "text": [
      "Database\n",
      "PostgreSQL              13968\n",
      "MySQL                    9371\n",
      "SQLite                   9339\n",
      "Microsoft SQL Server     7984\n",
      "Redis                    7274\n",
      "MongoDB                  5907\n",
      "Elasticsearch            4465\n",
      "MariaDB                  4031\n",
      "Dynamodb                 3788\n",
      "Oracle                   2043\n",
      "Name: count, dtype: int64\n"
     ]
    }
   ],
   "source": [
    "#top 10 database in USA developper\n",
    "# Count occurrences of Db\n",
    "top_database = df_usa_db['Database'].value_counts().head(10) \n",
    "print(top_database)"
   ]
  },
  {
   "cell_type": "code",
   "execution_count": 180,
   "id": "9891518b-e850-47b5-9033-40feae5b6245",
   "metadata": {},
   "outputs": [],
   "source": [
    "#convert top 5 into df\n",
    "df_database_exp = top_database.reset_index()\n",
    "df_database_exp.columns = ['Database', 'Offer']"
   ]
  },
  {
   "cell_type": "code",
   "execution_count": 197,
   "id": "95d6e9bd-9294-4863-9038-e7b1724efdf1",
   "metadata": {},
   "outputs": [
    {
     "data": {
      "text/plain": [
       "array(['PostgreSQL', 'MySQL', 'SQLite', 'Microsoft SQL Server', 'Redis',\n",
       "       'MongoDB', 'Elasticsearch', 'MariaDB', 'Dynamodb', 'Oracle'],\n",
       "      dtype=object)"
      ]
     },
     "execution_count": 197,
     "metadata": {},
     "output_type": "execute_result"
    }
   ],
   "source": [
    "df_database_exp['Database'].unique()"
   ]
  },
  {
   "cell_type": "code",
   "execution_count": 200,
   "id": "c5da221e-59ca-4a33-9cd3-5e7da5792437",
   "metadata": {},
   "outputs": [],
   "source": [
    "df_database_exp['Database'] = df_database_exp['Database'].replace('Microsoft SQL Server', 'SQL Server')"
   ]
  },
  {
   "cell_type": "code",
   "execution_count": 201,
   "id": "b7f6d366-89ba-4dd4-a712-9857986c3900",
   "metadata": {},
   "outputs": [
    {
     "data": {
      "text/plain": [
       "array(['PostgreSQL', 'MySQL', 'SQLite', 'SQL Server', 'Redis', 'MongoDB',\n",
       "       'Elasticsearch', 'MariaDB', 'Dynamodb', 'Oracle'], dtype=object)"
      ]
     },
     "execution_count": 201,
     "metadata": {},
     "output_type": "execute_result"
    }
   ],
   "source": [
    "df_database_exp['Database'].unique()"
   ]
  },
  {
   "cell_type": "code",
   "execution_count": 202,
   "id": "e02fa83a-deb6-41ed-bd06-5827c33f5548",
   "metadata": {},
   "outputs": [],
   "source": [
    "df_database_exp['Proportion_Offer'] = df_database_exp['Offer'] / df_database_exp['Offer'].sum()"
   ]
  },
  {
   "cell_type": "code",
   "execution_count": 203,
   "id": "ee44552c-6c0a-447a-861d-5aa26ba6cb65",
   "metadata": {},
   "outputs": [],
   "source": [
    "df_job_db['Proportion_Jobs'] = df_job_db['Number of Jobs'] / df_job_db['Number of Jobs'].sum()"
   ]
  },
  {
   "cell_type": "code",
   "execution_count": 204,
   "id": "e3c1468f-6545-4a96-abdd-3b034f5d1cef",
   "metadata": {},
   "outputs": [],
   "source": [
    "# Merge df on Language\n",
    "df_merged_db = pd.merge(df_job_db,df_database_exp, on='Database')"
   ]
  },
  {
   "cell_type": "code",
   "execution_count": 205,
   "id": "a121d88d-9614-4cec-8eea-bf9c3760aa3c",
   "metadata": {},
   "outputs": [
    {
     "data": {
      "text/html": [
       "<div>\n",
       "<style scoped>\n",
       "    .dataframe tbody tr th:only-of-type {\n",
       "        vertical-align: middle;\n",
       "    }\n",
       "\n",
       "    .dataframe tbody tr th {\n",
       "        vertical-align: top;\n",
       "    }\n",
       "\n",
       "    .dataframe thead th {\n",
       "        text-align: right;\n",
       "    }\n",
       "</style>\n",
       "<table border=\"1\" class=\"dataframe\">\n",
       "  <thead>\n",
       "    <tr style=\"text-align: right;\">\n",
       "      <th></th>\n",
       "      <th>Database</th>\n",
       "      <th>Number of Jobs</th>\n",
       "      <th>Proportion_Jobs</th>\n",
       "      <th>Offer</th>\n",
       "      <th>Proportion_Offer</th>\n",
       "    </tr>\n",
       "  </thead>\n",
       "  <tbody>\n",
       "    <tr>\n",
       "      <th>0</th>\n",
       "      <td>Oracle</td>\n",
       "      <td>784</td>\n",
       "      <td>0.398577</td>\n",
       "      <td>2043</td>\n",
       "      <td>0.029969</td>\n",
       "    </tr>\n",
       "    <tr>\n",
       "      <th>1</th>\n",
       "      <td>MySQL</td>\n",
       "      <td>750</td>\n",
       "      <td>0.381291</td>\n",
       "      <td>9371</td>\n",
       "      <td>0.137465</td>\n",
       "    </tr>\n",
       "    <tr>\n",
       "      <th>2</th>\n",
       "      <td>SQL Server</td>\n",
       "      <td>249</td>\n",
       "      <td>0.126589</td>\n",
       "      <td>7984</td>\n",
       "      <td>0.117119</td>\n",
       "    </tr>\n",
       "    <tr>\n",
       "      <th>3</th>\n",
       "      <td>PostgreSQL</td>\n",
       "      <td>10</td>\n",
       "      <td>0.005084</td>\n",
       "      <td>13968</td>\n",
       "      <td>0.204900</td>\n",
       "    </tr>\n",
       "    <tr>\n",
       "      <th>4</th>\n",
       "      <td>MongoDB</td>\n",
       "      <td>174</td>\n",
       "      <td>0.088460</td>\n",
       "      <td>5907</td>\n",
       "      <td>0.086651</td>\n",
       "    </tr>\n",
       "  </tbody>\n",
       "</table>\n",
       "</div>"
      ],
      "text/plain": [
       "     Database  Number of Jobs  Proportion_Jobs  Offer  Proportion_Offer\n",
       "0      Oracle             784         0.398577   2043          0.029969\n",
       "1       MySQL             750         0.381291   9371          0.137465\n",
       "2  SQL Server             249         0.126589   7984          0.117119\n",
       "3  PostgreSQL              10         0.005084  13968          0.204900\n",
       "4     MongoDB             174         0.088460   5907          0.086651"
      ]
     },
     "execution_count": 205,
     "metadata": {},
     "output_type": "execute_result"
    }
   ],
   "source": [
    "df_merged_db.head(15)"
   ]
  },
  {
   "cell_type": "code",
   "execution_count": 206,
   "id": "2c2a007f-75bb-4434-afe7-6f6df8e17c81",
   "metadata": {},
   "outputs": [
    {
     "data": {
      "image/png": "[encoded data removed]",
      "text/plain": [
       "<Figure size 1200x600 with 1 Axes>"
      ]
     },
     "metadata": {},
     "output_type": "display_data"
    }
   ],
   "source": [
    "import numpy as np\n",
    "\n",
    "# Positions des barres sur l'axe X\n",
    "x = np.arange(len(df_merged_db['Database']))  # Nombre de langages communs\n",
    "width = 0.4  # Largeur des barres\n",
    "\n",
    "# Bar chart groupé\n",
    "fig, ax = plt.subplots(figsize=(12, 6))\n",
    "ax.bar(x - width/2, df_merged_db['Proportion_Offer'], width, label='Offer (Experience)', color='#fbaa6e', edgecolor='#616a6b')\n",
    "ax.bar(x + width/2, df_merged_db['Proportion_Jobs'], width, label='Demand (Jobs)', color='#fa8631', edgecolor='#616a6b')\n",
    "\n",
    "# Ajouter les détails du graphique\n",
    "ax.set_xticks(x)\n",
    "ax.set_xticklabels(df_merged_db['Database'], ha='right', fontsize=12)\n",
    "ax.set_xlabel('Databases', fontsize=14)\n",
    "ax.set_ylabel('Proportion', fontsize=14)\n",
    "ax.set_title('Comparison of Offer (Experience) vs Demand (Jobs)',fontsize=18)\n",
    "ax.legend(fontsize=12)\n",
    "\n",
    "plt.tight_layout()\n",
    "plt.show()"
   ]
  },
  {
   "cell_type": "markdown",
   "id": "fb8e982a-d3b8-4ab1-be39-4788d574c2ef",
   "metadata": {},
   "source": [
    "✅Bar chart in-demand programming language vs Salary"
   ]
  },
  {
   "cell_type": "code",
   "execution_count": 93,
   "id": "10dc1629-28d7-4e1a-8b60-bf33a107c2e4",
   "metadata": {},
   "outputs": [],
   "source": [
    "# Merge df on Language\n",
    "df_merged = pd.merge(df_popular, df_job_lang, on='Language')"
   ]
  },
  {
   "cell_type": "code",
   "execution_count": 94,
   "id": "0cafd8dd-96eb-48cf-a1f2-9cf17fc21fe0",
   "metadata": {},
   "outputs": [
    {
     "data": {
      "text/html": [
       "<div>\n",
       "<style scoped>\n",
       "    .dataframe tbody tr th:only-of-type {\n",
       "        vertical-align: middle;\n",
       "    }\n",
       "\n",
       "    .dataframe tbody tr th {\n",
       "        vertical-align: top;\n",
       "    }\n",
       "\n",
       "    .dataframe thead th {\n",
       "        text-align: right;\n",
       "    }\n",
       "</style>\n",
       "<table border=\"1\" class=\"dataframe\">\n",
       "  <thead>\n",
       "    <tr style=\"text-align: right;\">\n",
       "      <th></th>\n",
       "      <th>Language</th>\n",
       "      <th>Average Annual Salary</th>\n",
       "      <th>Number of Jobs</th>\n",
       "      <th>Proportion_Jobs</th>\n",
       "    </tr>\n",
       "  </thead>\n",
       "  <tbody>\n",
       "    <tr>\n",
       "      <th>0</th>\n",
       "      <td>Python</td>\n",
       "      <td>$114,383</td>\n",
       "      <td>1171</td>\n",
       "      <td>0.220113</td>\n",
       "    </tr>\n",
       "    <tr>\n",
       "      <th>1</th>\n",
       "      <td>Java</td>\n",
       "      <td>$101,013</td>\n",
       "      <td>1108</td>\n",
       "      <td>0.208271</td>\n",
       "    </tr>\n",
       "    <tr>\n",
       "      <th>2</th>\n",
       "      <td>R</td>\n",
       "      <td>$92,037</td>\n",
       "      <td>82</td>\n",
       "      <td>0.015414</td>\n",
       "    </tr>\n",
       "    <tr>\n",
       "      <th>3</th>\n",
       "      <td>Swift</td>\n",
       "      <td>$130,801</td>\n",
       "      <td>59</td>\n",
       "      <td>0.011090</td>\n",
       "    </tr>\n",
       "    <tr>\n",
       "      <th>4</th>\n",
       "      <td>C++</td>\n",
       "      <td>$113,865</td>\n",
       "      <td>305</td>\n",
       "      <td>0.057331</td>\n",
       "    </tr>\n",
       "  </tbody>\n",
       "</table>\n",
       "</div>"
      ],
      "text/plain": [
       "  Language Average Annual Salary  Number of Jobs  Proportion_Jobs\n",
       "0   Python              $114,383            1171         0.220113\n",
       "1     Java              $101,013            1108         0.208271\n",
       "2        R               $92,037              82         0.015414\n",
       "3    Swift              $130,801              59         0.011090\n",
       "4      C++              $113,865             305         0.057331"
      ]
     },
     "execution_count": 94,
     "metadata": {},
     "output_type": "execute_result"
    }
   ],
   "source": [
    "df_merged.head()"
   ]
  },
  {
   "cell_type": "code",
   "execution_count": 95,
   "id": "47881127-9de6-460c-9987-46c2f71f5cbc",
   "metadata": {},
   "outputs": [],
   "source": [
    "# Clean the type 'monnaie' and convert to float\n",
    "df_merged['Average Annual Salary'] = df_merged['Average Annual Salary'].replace('[\\$,]', '', regex=True).astype(float)\n"
   ]
  },
  {
   "cell_type": "code",
   "execution_count": 97,
   "id": "a45148f2-2870-4381-ab78-cd9b321821c2",
   "metadata": {},
   "outputs": [
    {
     "data": {
      "text/html": [
       "<div>\n",
       "<style scoped>\n",
       "    .dataframe tbody tr th:only-of-type {\n",
       "        vertical-align: middle;\n",
       "    }\n",
       "\n",
       "    .dataframe tbody tr th {\n",
       "        vertical-align: top;\n",
       "    }\n",
       "\n",
       "    .dataframe thead th {\n",
       "        text-align: right;\n",
       "    }\n",
       "</style>\n",
       "<table border=\"1\" class=\"dataframe\">\n",
       "  <thead>\n",
       "    <tr style=\"text-align: right;\">\n",
       "      <th></th>\n",
       "      <th>Language</th>\n",
       "      <th>Average Annual Salary</th>\n",
       "      <th>Number of Jobs</th>\n",
       "      <th>Proportion_Jobs</th>\n",
       "    </tr>\n",
       "  </thead>\n",
       "  <tbody>\n",
       "    <tr>\n",
       "      <th>0</th>\n",
       "      <td>Python</td>\n",
       "      <td>114383.0</td>\n",
       "      <td>1171</td>\n",
       "      <td>0.220113</td>\n",
       "    </tr>\n",
       "    <tr>\n",
       "      <th>1</th>\n",
       "      <td>Java</td>\n",
       "      <td>101013.0</td>\n",
       "      <td>1108</td>\n",
       "      <td>0.208271</td>\n",
       "    </tr>\n",
       "    <tr>\n",
       "      <th>2</th>\n",
       "      <td>R</td>\n",
       "      <td>92037.0</td>\n",
       "      <td>82</td>\n",
       "      <td>0.015414</td>\n",
       "    </tr>\n",
       "    <tr>\n",
       "      <th>3</th>\n",
       "      <td>Swift</td>\n",
       "      <td>130801.0</td>\n",
       "      <td>59</td>\n",
       "      <td>0.011090</td>\n",
       "    </tr>\n",
       "    <tr>\n",
       "      <th>4</th>\n",
       "      <td>C++</td>\n",
       "      <td>113865.0</td>\n",
       "      <td>305</td>\n",
       "      <td>0.057331</td>\n",
       "    </tr>\n",
       "    <tr>\n",
       "      <th>5</th>\n",
       "      <td>C#</td>\n",
       "      <td>88726.0</td>\n",
       "      <td>333</td>\n",
       "      <td>0.062594</td>\n",
       "    </tr>\n",
       "    <tr>\n",
       "      <th>6</th>\n",
       "      <td>PHP</td>\n",
       "      <td>84727.0</td>\n",
       "      <td>636</td>\n",
       "      <td>0.119549</td>\n",
       "    </tr>\n",
       "    <tr>\n",
       "      <th>7</th>\n",
       "      <td>Go</td>\n",
       "      <td>94082.0</td>\n",
       "      <td>25</td>\n",
       "      <td>0.004699</td>\n",
       "    </tr>\n",
       "  </tbody>\n",
       "</table>\n",
       "</div>"
      ],
      "text/plain": [
       "  Language  Average Annual Salary  Number of Jobs  Proportion_Jobs\n",
       "0   Python               114383.0            1171         0.220113\n",
       "1     Java               101013.0            1108         0.208271\n",
       "2        R                92037.0              82         0.015414\n",
       "3    Swift               130801.0              59         0.011090\n",
       "4      C++               113865.0             305         0.057331\n",
       "5       C#                88726.0             333         0.062594\n",
       "6      PHP                84727.0             636         0.119549\n",
       "7       Go                94082.0              25         0.004699"
      ]
     },
     "execution_count": 97,
     "metadata": {},
     "output_type": "execute_result"
    }
   ],
   "source": [
    "df_merged"
   ]
  },
  {
   "cell_type": "code",
   "execution_count": 98,
   "id": "e9b8e056-f523-408b-93ff-2fe79ce1b24e",
   "metadata": {},
   "outputs": [],
   "source": [
    "# Standardization of variables\n",
    "mean_salary = df_merged['Average Annual Salary'].mean()\n",
    "std_salary = df_merged['Average Annual Salary'].std()\n",
    "\n",
    "mean_jobs = df_merged['Number of Jobs'].mean()\n",
    "std_jobs = df_merged['Number of Jobs'].std()\n",
    "\n",
    "# Apply\n",
    "df_merged['Salary_standardized'] = (df_merged['Average Annual Salary'] - mean_salary) / std_salary\n",
    "df_merged['Jobs_standardized'] = (df_merged['Number of Jobs'] - mean_jobs) / std_jobs"
   ]
  },
  {
   "cell_type": "code",
   "execution_count": 99,
   "id": "f72d7211-830a-4635-971e-8ec1bdc6a40c",
   "metadata": {},
   "outputs": [
    {
     "data": {
      "image/png": "[encoded data removed]",
      "text/plain": [
       "<Figure size 1200x600 with 1 Axes>"
      ]
     },
     "metadata": {},
     "output_type": "display_data"
    }
   ],
   "source": [
    "import numpy as np\n",
    "\n",
    "# Positions des barres sur l'axe X\n",
    "x = np.arange(len(df_merged['Language']))  # Nombre de langages communs\n",
    "width = 0.4  # Largeur des barres\n",
    "\n",
    "# Bar chart groupé\n",
    "fig, ax = plt.subplots(figsize=(12, 6))\n",
    "ax.bar(x - width/2, df_merged['Salary_standardized'], width, label='Average Annual Salary', color='#fbaa6e', edgecolor='#616a6b')\n",
    "ax.bar(x + width/2, df_merged['Jobs_standardized'], width, label='Demand (Jobs)', color='#fa8631', edgecolor='#616a6b')\n",
    "\n",
    "# Ajouter les détails du graphique\n",
    "ax.set_xticks(x)\n",
    "ax.set_xticklabels(df_merged['Language'], ha='right', fontsize=12)\n",
    "ax.set_xlabel('Programming Languages', fontsize=14)\n",
    "ax.set_ylabel('Relative Scale (Normalized Metrics 0 to 1)', fontsize=14)\n",
    "ax.set_title('Comparison of Average Annual Salary vs Demand (Jobs)',fontsize=18)\n",
    "ax.legend(fontsize=12)\n",
    "\n",
    "plt.tight_layout()\n",
    "plt.show()"
   ]
  },
  {
   "cell_type": "markdown",
   "id": "0a147585-3ed8-4d2e-82b8-d51ff50b50fb",
   "metadata": {},
   "source": [
    "✅Bar chart offer (developper skills) vs demand (job market)"
   ]
  },
  {
   "cell_type": "code",
   "execution_count": 49,
   "id": "88f4f680-72eb-4654-be07-90c762e5a9ae",
   "metadata": {},
   "outputs": [],
   "source": [
    "#filter csv1 on USA only\n",
    "df_usa = df_csv1[df_csv1['Country'] == 'United States of America']"
   ]
  },
  {
   "cell_type": "code",
   "execution_count": 50,
   "id": "b4ca5278-a57e-455f-bcf3-63eb58f7e042",
   "metadata": {},
   "outputs": [
    {
     "name": "stdout",
     "output_type": "stream",
     "text": [
      "Language\n",
      "JavaScript                 9819\n",
      "SQL                        8760\n",
      "HTML/CSS                   8107\n",
      "Python                     7381\n",
      "TypeScript                 7012\n",
      "Bash/Shell (all shells)    6377\n",
      "C#                         4384\n",
      "Java                       3944\n",
      "PowerShell                 3071\n",
      "Go                         3041\n",
      "PHP                        2622\n",
      "Rust                       2277\n",
      "C++                        2115\n",
      "C                          1895\n",
      "Ruby                       1837\n",
      "Name: count, dtype: int64\n"
     ]
    }
   ],
   "source": [
    "# Count occurrences of languages\n",
    "top_languages_experience = df_usa['Language'].value_counts().head(15)  # Top 15 langages\n",
    "print(top_languages_experience)"
   ]
  },
  {
   "cell_type": "code",
   "execution_count": 51,
   "id": "986135a9-2285-497e-ac44-2dd8faeb1c2c",
   "metadata": {},
   "outputs": [],
   "source": [
    "#convert top 15 into df\n",
    "df_experience = top_languages_experience.reset_index()\n",
    "df_experience.columns = ['Language', 'Experience']"
   ]
  },
  {
   "cell_type": "code",
   "execution_count": 100,
   "id": "f6a0bef6-b487-4925-bc88-e6892f51466e",
   "metadata": {},
   "outputs": [
    {
     "data": {
      "text/html": [
       "<div>\n",
       "<style scoped>\n",
       "    .dataframe tbody tr th:only-of-type {\n",
       "        vertical-align: middle;\n",
       "    }\n",
       "\n",
       "    .dataframe tbody tr th {\n",
       "        vertical-align: top;\n",
       "    }\n",
       "\n",
       "    .dataframe thead th {\n",
       "        text-align: right;\n",
       "    }\n",
       "</style>\n",
       "<table border=\"1\" class=\"dataframe\">\n",
       "  <thead>\n",
       "    <tr style=\"text-align: right;\">\n",
       "      <th></th>\n",
       "      <th>Language</th>\n",
       "      <th>Experience</th>\n",
       "      <th>Proportion_Experience</th>\n",
       "    </tr>\n",
       "  </thead>\n",
       "  <tbody>\n",
       "    <tr>\n",
       "      <th>0</th>\n",
       "      <td>JavaScript</td>\n",
       "      <td>9819</td>\n",
       "      <td>0.135170</td>\n",
       "    </tr>\n",
       "    <tr>\n",
       "      <th>1</th>\n",
       "      <td>SQL</td>\n",
       "      <td>8760</td>\n",
       "      <td>0.120591</td>\n",
       "    </tr>\n",
       "    <tr>\n",
       "      <th>2</th>\n",
       "      <td>HTML/CSS</td>\n",
       "      <td>8107</td>\n",
       "      <td>0.111602</td>\n",
       "    </tr>\n",
       "    <tr>\n",
       "      <th>3</th>\n",
       "      <td>Python</td>\n",
       "      <td>7381</td>\n",
       "      <td>0.101608</td>\n",
       "    </tr>\n",
       "    <tr>\n",
       "      <th>4</th>\n",
       "      <td>TypeScript</td>\n",
       "      <td>7012</td>\n",
       "      <td>0.096528</td>\n",
       "    </tr>\n",
       "  </tbody>\n",
       "</table>\n",
       "</div>"
      ],
      "text/plain": [
       "     Language  Experience  Proportion_Experience\n",
       "0  JavaScript        9819               0.135170\n",
       "1         SQL        8760               0.120591\n",
       "2    HTML/CSS        8107               0.111602\n",
       "3      Python        7381               0.101608\n",
       "4  TypeScript        7012               0.096528"
      ]
     },
     "execution_count": 100,
     "metadata": {},
     "output_type": "execute_result"
    }
   ],
   "source": [
    "df_experience.head()"
   ]
  },
  {
   "cell_type": "code",
   "execution_count": 57,
   "id": "de9c7ea0-b3bb-4abe-9e52-c877e00ae61f",
   "metadata": {},
   "outputs": [],
   "source": [
    "# Merge df on 'Language'\n",
    "df_merged1 = pd.merge(df_job_lang, df_experience, on='Language', how='inner')"
   ]
  },
  {
   "cell_type": "code",
   "execution_count": 61,
   "id": "5834b31c-942a-4eae-9061-b5d0df450f86",
   "metadata": {},
   "outputs": [],
   "source": [
    "df_experience['Proportion_Experience'] = df_experience['Experience'] / df_experience['Experience'].sum()"
   ]
  },
  {
   "cell_type": "code",
   "execution_count": 62,
   "id": "fd1ddb94-e39e-4c91-ae9b-251b23956709",
   "metadata": {},
   "outputs": [],
   "source": [
    "df_job_lang['Proportion_Jobs'] = df_job_lang['Number of Jobs'] / df_job_lang['Number of Jobs'].sum()"
   ]
  },
  {
   "cell_type": "code",
   "execution_count": 63,
   "id": "e6dc09cc-fb7f-46b0-ad6a-0cea1370861c",
   "metadata": {},
   "outputs": [],
   "source": [
    "df_merged2 = pd.merge(df_experience, df_job_lang, on='Language', how='inner')"
   ]
  },
  {
   "cell_type": "code",
   "execution_count": 79,
   "id": "e90b0df7-ed8d-4345-9d6f-ed6cc76d712e",
   "metadata": {},
   "outputs": [
    {
     "data": {
      "image/png": "[encoded data removed]",
      "text/plain": [
       "<Figure size 1200x600 with 1 Axes>"
      ]
     },
     "metadata": {},
     "output_type": "display_data"
    }
   ],
   "source": [
    "import numpy as np\n",
    "\n",
    "# Positions des barres sur l'axe X\n",
    "x = np.arange(len(df_merged2['Language']))  # Nombre de langages communs\n",
    "width = 0.4  # Largeur des barres\n",
    "\n",
    "# Bar chart groupé\n",
    "fig, ax = plt.subplots(figsize=(12, 6))\n",
    "ax.bar(x - width/2, df_merged2['Proportion_Experience'], width, label='Offer (Experience)', color='#fbaa6e', edgecolor='#616a6b')\n",
    "ax.bar(x + width/2, df_merged2['Proportion_Jobs'], width, label='Demand (Jobs)', color='#fa8631', edgecolor='#616a6b')\n",
    "\n",
    "# Ajouter les détails du graphique\n",
    "ax.set_xticks(x)\n",
    "ax.set_xticklabels(df_merged2['Language'], ha='right', fontsize=12)\n",
    "ax.set_xlabel('Programming Languages', fontsize=14)\n",
    "ax.set_ylabel('Proportion', fontsize=14)\n",
    "ax.set_title('Comparison of Offer (Experience) vs Demand (Jobs)',fontsize=18)\n",
    "ax.legend(fontsize=12)\n",
    "\n",
    "plt.tight_layout()\n",
    "plt.show()"
   ]
  },
  {
   "cell_type": "markdown",
   "id": "8910b3a0-abba-418b-919b-4ea8423649ae",
   "metadata": {},
   "source": [
    "✅Bubble plot salary vs offer (experience) vs demand (jobs)"
   ]
  },
  {
   "cell_type": "code",
   "execution_count": 110,
   "id": "e0e5b1fe-e37d-444f-b308-e13909326efd",
   "metadata": {},
   "outputs": [],
   "source": [
    "# Merge df on 'Language'\n",
    "df_bubble = pd.merge(df_merged, df_experience, on='Language', how='inner')"
   ]
  },
  {
   "cell_type": "code",
   "execution_count": 119,
   "id": "3963ca75-00dc-49d3-b01e-4ab5c6c15ef0",
   "metadata": {},
   "outputs": [
    {
     "data": {
      "text/html": [
       "<div>\n",
       "<style scoped>\n",
       "    .dataframe tbody tr th:only-of-type {\n",
       "        vertical-align: middle;\n",
       "    }\n",
       "\n",
       "    .dataframe tbody tr th {\n",
       "        vertical-align: top;\n",
       "    }\n",
       "\n",
       "    .dataframe thead th {\n",
       "        text-align: right;\n",
       "    }\n",
       "</style>\n",
       "<table border=\"1\" class=\"dataframe\">\n",
       "  <thead>\n",
       "    <tr style=\"text-align: right;\">\n",
       "      <th></th>\n",
       "      <th>Language</th>\n",
       "      <th>Average Annual Salary</th>\n",
       "      <th>Number of Jobs</th>\n",
       "      <th>Proportion_Jobs</th>\n",
       "      <th>Salary_standardized</th>\n",
       "      <th>Jobs_standardized</th>\n",
       "      <th>Experience</th>\n",
       "      <th>Proportion_Experience</th>\n",
       "      <th>Color</th>\n",
       "    </tr>\n",
       "  </thead>\n",
       "  <tbody>\n",
       "    <tr>\n",
       "      <th>0</th>\n",
       "      <td>Python</td>\n",
       "      <td>114383.0</td>\n",
       "      <td>1171</td>\n",
       "      <td>0.220113</td>\n",
       "      <td>0.752412</td>\n",
       "      <td>1.530887</td>\n",
       "      <td>7381</td>\n",
       "      <td>0.101608</td>\n",
       "      <td>#7f2704</td>\n",
       "    </tr>\n",
       "    <tr>\n",
       "      <th>1</th>\n",
       "      <td>Java</td>\n",
       "      <td>101013.0</td>\n",
       "      <td>1108</td>\n",
       "      <td>0.208271</td>\n",
       "      <td>-0.090908</td>\n",
       "      <td>1.394302</td>\n",
       "      <td>3944</td>\n",
       "      <td>0.054294</td>\n",
       "      <td>#fdb678</td>\n",
       "    </tr>\n",
       "    <tr>\n",
       "      <th>2</th>\n",
       "      <td>C++</td>\n",
       "      <td>113865.0</td>\n",
       "      <td>305</td>\n",
       "      <td>0.057331</td>\n",
       "      <td>0.719739</td>\n",
       "      <td>-0.346611</td>\n",
       "      <td>2115</td>\n",
       "      <td>0.029115</td>\n",
       "      <td>#fff5eb</td>\n",
       "    </tr>\n",
       "    <tr>\n",
       "      <th>3</th>\n",
       "      <td>C#</td>\n",
       "      <td>88726.0</td>\n",
       "      <td>333</td>\n",
       "      <td>0.062594</td>\n",
       "      <td>-0.865916</td>\n",
       "      <td>-0.285907</td>\n",
       "      <td>4384</td>\n",
       "      <td>0.060351</td>\n",
       "      <td>#fd9f56</td>\n",
       "    </tr>\n",
       "    <tr>\n",
       "      <th>4</th>\n",
       "      <td>PHP</td>\n",
       "      <td>84727.0</td>\n",
       "      <td>636</td>\n",
       "      <td>0.119549</td>\n",
       "      <td>-1.118155</td>\n",
       "      <td>0.371001</td>\n",
       "      <td>2622</td>\n",
       "      <td>0.036095</td>\n",
       "      <td>#feead5</td>\n",
       "    </tr>\n",
       "    <tr>\n",
       "      <th>5</th>\n",
       "      <td>Go</td>\n",
       "      <td>94082.0</td>\n",
       "      <td>25</td>\n",
       "      <td>0.004699</td>\n",
       "      <td>-0.528084</td>\n",
       "      <td>-0.953654</td>\n",
       "      <td>3041</td>\n",
       "      <td>0.041863</td>\n",
       "      <td>#feddbc</td>\n",
       "    </tr>\n",
       "  </tbody>\n",
       "</table>\n",
       "</div>"
      ],
      "text/plain": [
       "  Language  Average Annual Salary  Number of Jobs  Proportion_Jobs  \\\n",
       "0   Python               114383.0            1171         0.220113   \n",
       "1     Java               101013.0            1108         0.208271   \n",
       "2      C++               113865.0             305         0.057331   \n",
       "3       C#                88726.0             333         0.062594   \n",
       "4      PHP                84727.0             636         0.119549   \n",
       "5       Go                94082.0              25         0.004699   \n",
       "\n",
       "   Salary_standardized  Jobs_standardized  Experience  Proportion_Experience  \\\n",
       "0             0.752412           1.530887        7381               0.101608   \n",
       "1            -0.090908           1.394302        3944               0.054294   \n",
       "2             0.719739          -0.346611        2115               0.029115   \n",
       "3            -0.865916          -0.285907        4384               0.060351   \n",
       "4            -1.118155           0.371001        2622               0.036095   \n",
       "5            -0.528084          -0.953654        3041               0.041863   \n",
       "\n",
       "     Color  \n",
       "0  #7f2704  \n",
       "1  #fdb678  \n",
       "2  #fff5eb  \n",
       "3  #fd9f56  \n",
       "4  #feead5  \n",
       "5  #feddbc  "
      ]
     },
     "execution_count": 119,
     "metadata": {},
     "output_type": "execute_result"
    }
   ],
   "source": [
    "df_bubble"
   ]
  },
  {
   "cell_type": "code",
   "execution_count": 134,
   "id": "472ae6eb-3140-4f82-b071-25c1a84eeef5",
   "metadata": {},
   "outputs": [
    {
     "data": {
      "image/png": "[encoded data removed]",
      "text/plain": [
       "<Figure size 1000x600 with 1 Axes>"
      ]
     },
     "metadata": {},
     "output_type": "display_data"
    }
   ],
   "source": [
    "import matplotlib.pyplot as plt\n",
    "\n",
    "# Définir des codes HEX pour les couleurs\n",
    "colors_hex = ['#fa7105', '#f17d28', '#fc7b1c', '#fa7105', '#fba456', '#faa345']  # 6 couleurs\n",
    "# python,java ,C++ ,C# , php ,Go\n",
    "df_bubble['Color'] = colors_hex  #Add color to DataFrame  \n",
    "\n",
    "# Bubble Plot\n",
    "plt.figure(figsize=(10, 6))\n",
    "bubble = plt.scatter(\n",
    "    df_bubble['Number of Jobs'],       # Axe X : Demande\n",
    "    df_bubble['Average Annual Salary'],  # Axe Y : Salaire\n",
    "    s=df_bubble['Experience'] * 5,     # Taille des bulles (offre)\n",
    "    alpha=0.7,                          # Transparence des bulles\n",
    "    color=df_bubble['Color']            # Couleur personnalisée HEX\n",
    ")\n",
    "\n",
    "# Ajouter des annotations pour les langages\n",
    "for i, lang in enumerate(df_bubble['Language']):\n",
    "    plt.annotate(lang, (df_bubble['Number of Jobs'][i], df_bubble['Average Annual Salary'][i]), fontsize=8, ha='center')\n",
    "\n",
    "# Détails du graphique\n",
    "plt.title('Bubble Plot: Salary vs Demand, Bubble Size Reflects Offer', fontsize=16)\n",
    "plt.xlabel('Number of Jobs (Demand)', fontsize=12)\n",
    "plt.ylabel('Average Annual Salary',fontsize=12)\n",
    "plt.grid(True)\n",
    "plt.tight_layout()\n",
    "plt.show()\n"
   ]
  },
  {
   "cell_type": "markdown",
   "id": "86bcf384-227a-4d64-ad66-5fa748830dfe",
   "metadata": {},
   "source": [
    "✅Choropleth for US cities Leading the IT Job Market"
   ]
  },
  {
   "cell_type": "code",
   "execution_count": 16,
   "id": "a45cc9bb-0653-4995-bec7-f76e4b554fe7",
   "metadata": {},
   "outputs": [],
   "source": [
    "import folium\n",
    "from folium.plugins import MarkerCluster"
   ]
  },
  {
   "cell_type": "code",
   "execution_count": 18,
   "id": "bcbdb353-60e6-4ee5-a566-06745408214c",
   "metadata": {},
   "outputs": [
    {
     "data": {
      "text/html": [
       "<div style=\"width:100%;\"><div style=\"position:relative;width:100%;height:0;padding-bottom:60%;\"><span style=\"color:#565656\">Make this Notebook Trusted to load map: File -> Trust Notebook</span><iframe srcdoc=\"&lt;!DOCTYPE html&gt;\n",
       "&lt;html&gt;\n",
       "&lt;head&gt;\n",
       "    \n",
       "    &lt;meta http-equiv=&quot;content-type&quot; content=&quot;text/html; charset=UTF-8&quot; /&gt;\n",
       "    \n",
       "        &lt;script&gt;\n",
       "            L_NO_TOUCH = false;\n",
       "            L_DISABLE_3D = false;\n",
       "        &lt;/script&gt;\n",
       "    \n",
       "    &lt;style&gt;html, body {width: 100%;height: 100%;margin: 0;padding: 0;}&lt;/style&gt;\n",
       "    &lt;style&gt;#map {position:absolute;top:0;bottom:0;right:0;left:0;}&lt;/style&gt;\n",
       "    &lt;script src=&quot;https://cdn.jsdelivr.net/npm/leaflet@1.9.3/dist/leaflet.js&quot;&gt;&lt;/script&gt;\n",
       "    &lt;script src=&quot;https://code.jquery.com/jquery-3.7.1.min.js&quot;&gt;&lt;/script&gt;\n",
       "    &lt;script src=&quot;https://cdn.jsdelivr.net/npm/bootstrap@5.2.2/dist/js/bootstrap.bundle.min.js&quot;&gt;&lt;/script&gt;\n",
       "    &lt;script src=&quot;https://cdnjs.cloudflare.com/ajax/libs/Leaflet.awesome-markers/2.0.2/leaflet.awesome-markers.js&quot;&gt;&lt;/script&gt;\n",
       "    &lt;link rel=&quot;stylesheet&quot; href=&quot;https://cdn.jsdelivr.net/npm/leaflet@1.9.3/dist/leaflet.css&quot;/&gt;\n",
       "    &lt;link rel=&quot;stylesheet&quot; href=&quot;https://cdn.jsdelivr.net/npm/bootstrap@5.2.2/dist/css/bootstrap.min.css&quot;/&gt;\n",
       "    &lt;link rel=&quot;stylesheet&quot; href=&quot;https://netdna.bootstrapcdn.com/bootstrap/3.0.0/css/bootstrap-glyphicons.css&quot;/&gt;\n",
       "    &lt;link rel=&quot;stylesheet&quot; href=&quot;https://cdn.jsdelivr.net/npm/@fortawesome/fontawesome-free@6.2.0/css/all.min.css&quot;/&gt;\n",
       "    &lt;link rel=&quot;stylesheet&quot; href=&quot;https://cdnjs.cloudflare.com/ajax/libs/Leaflet.awesome-markers/2.0.2/leaflet.awesome-markers.css&quot;/&gt;\n",
       "    &lt;link rel=&quot;stylesheet&quot; href=&quot;https://cdn.jsdelivr.net/gh/python-visualization/folium/folium/templates/leaflet.awesome.rotate.min.css&quot;/&gt;\n",
       "    \n",
       "            &lt;meta name=&quot;viewport&quot; content=&quot;width=device-width,\n",
       "                initial-scale=1.0, maximum-scale=1.0, user-scalable=no&quot; /&gt;\n",
       "            &lt;style&gt;\n",
       "                #map_6f8503deed31ced9340936f56e6b52ec {\n",
       "                    position: relative;\n",
       "                    width: 100.0%;\n",
       "                    height: 100.0%;\n",
       "                    left: 0.0%;\n",
       "                    top: 0.0%;\n",
       "                }\n",
       "                .leaflet-container { font-size: 1rem; }\n",
       "            &lt;/style&gt;\n",
       "        \n",
       "&lt;/head&gt;\n",
       "&lt;body&gt;\n",
       "    \n",
       "    \n",
       "            &lt;div class=&quot;folium-map&quot; id=&quot;map_6f8503deed31ced9340936f56e6b52ec&quot; &gt;&lt;/div&gt;\n",
       "        \n",
       "&lt;/body&gt;\n",
       "&lt;script&gt;\n",
       "    \n",
       "    \n",
       "            var map_6f8503deed31ced9340936f56e6b52ec = L.map(\n",
       "                &quot;map_6f8503deed31ced9340936f56e6b52ec&quot;,\n",
       "                {\n",
       "                    center: [37.0902, -95.7129],\n",
       "                    crs: L.CRS.EPSG3857,\n",
       "                    ...{\n",
       "  &quot;zoom&quot;: 4,\n",
       "  &quot;zoomControl&quot;: true,\n",
       "  &quot;preferCanvas&quot;: false,\n",
       "}\n",
       "\n",
       "                }\n",
       "            );\n",
       "\n",
       "            \n",
       "\n",
       "        \n",
       "    \n",
       "            var tile_layer_7665552b45d2f52833021a05d212a4e5 = L.tileLayer(\n",
       "                &quot;https://tile.openstreetmap.org/{z}/{x}/{y}.png&quot;,\n",
       "                {\n",
       "  &quot;minZoom&quot;: 0,\n",
       "  &quot;maxZoom&quot;: 19,\n",
       "  &quot;maxNativeZoom&quot;: 19,\n",
       "  &quot;noWrap&quot;: false,\n",
       "  &quot;attribution&quot;: &quot;\\u0026copy; \\u003ca href=\\&quot;https://www.openstreetmap.org/copyright\\&quot;\\u003eOpenStreetMap\\u003c/a\\u003e contributors&quot;,\n",
       "  &quot;subdomains&quot;: &quot;abc&quot;,\n",
       "  &quot;detectRetina&quot;: false,\n",
       "  &quot;tms&quot;: false,\n",
       "  &quot;opacity&quot;: 1,\n",
       "}\n",
       "\n",
       "            );\n",
       "        \n",
       "    \n",
       "            tile_layer_7665552b45d2f52833021a05d212a4e5.addTo(map_6f8503deed31ced9340936f56e6b52ec);\n",
       "        \n",
       "    \n",
       "            var circle_marker_c50cf15dc47c43f2683690f878cf535e = L.circleMarker(\n",
       "                [34.03, -118.15],\n",
       "                {&quot;bubblingMouseEvents&quot;: true, &quot;color&quot;: &quot;#fa8631&quot;, &quot;dashArray&quot;: null, &quot;dashOffset&quot;: null, &quot;fill&quot;: true, &quot;fillColor&quot;: &quot;#fa8631&quot;, &quot;fillOpacity&quot;: 0.6, &quot;fillRule&quot;: &quot;evenodd&quot;, &quot;lineCap&quot;: &quot;round&quot;, &quot;lineJoin&quot;: &quot;round&quot;, &quot;opacity&quot;: 1.0, &quot;radius&quot;: 6.4, &quot;stroke&quot;: true, &quot;weight&quot;: 3}\n",
       "            ).addTo(map_6f8503deed31ced9340936f56e6b52ec);\n",
       "        \n",
       "    \n",
       "        var popup_6f5a8c0720cbfce09ef384062444ff41 = L.popup({\n",
       "  &quot;maxWidth&quot;: &quot;100%&quot;,\n",
       "});\n",
       "\n",
       "        \n",
       "            \n",
       "                var html_8db9ce558f4a551bc43840ab421ff7c4 = $(`&lt;div id=&quot;html_8db9ce558f4a551bc43840ab421ff7c4&quot; style=&quot;width: 100.0%; height: 100.0%;&quot;&gt;Los Angeles: 640 jobs&lt;/div&gt;`)[0];\n",
       "                popup_6f5a8c0720cbfce09ef384062444ff41.setContent(html_8db9ce558f4a551bc43840ab421ff7c4);\n",
       "            \n",
       "        \n",
       "\n",
       "        circle_marker_c50cf15dc47c43f2683690f878cf535e.bindPopup(popup_6f5a8c0720cbfce09ef384062444ff41)\n",
       "        ;\n",
       "\n",
       "        \n",
       "    \n",
       "    \n",
       "            var circle_marker_0193abde454a0c3f7c44b7a4f9cd0414 = L.circleMarker(\n",
       "                [40.7128, -74.006],\n",
       "                {&quot;bubblingMouseEvents&quot;: true, &quot;color&quot;: &quot;#fa8631&quot;, &quot;dashArray&quot;: null, &quot;dashOffset&quot;: null, &quot;fill&quot;: true, &quot;fillColor&quot;: &quot;#fa8631&quot;, &quot;fillOpacity&quot;: 0.6, &quot;fillRule&quot;: &quot;evenodd&quot;, &quot;lineCap&quot;: &quot;round&quot;, &quot;lineJoin&quot;: &quot;round&quot;, &quot;opacity&quot;: 1.0, &quot;radius&quot;: 32.26, &quot;stroke&quot;: true, &quot;weight&quot;: 3}\n",
       "            ).addTo(map_6f8503deed31ced9340936f56e6b52ec);\n",
       "        \n",
       "    \n",
       "        var popup_8b7c8b13fdec0b7ca5d97abb73e2a83e = L.popup({\n",
       "  &quot;maxWidth&quot;: &quot;100%&quot;,\n",
       "});\n",
       "\n",
       "        \n",
       "            \n",
       "                var html_bbfcf8af1e29f5649c66594b4083a641 = $(`&lt;div id=&quot;html_bbfcf8af1e29f5649c66594b4083a641&quot; style=&quot;width: 100.0%; height: 100.0%;&quot;&gt;New York: 3226 jobs&lt;/div&gt;`)[0];\n",
       "                popup_8b7c8b13fdec0b7ca5d97abb73e2a83e.setContent(html_bbfcf8af1e29f5649c66594b4083a641);\n",
       "            \n",
       "        \n",
       "\n",
       "        circle_marker_0193abde454a0c3f7c44b7a4f9cd0414.bindPopup(popup_8b7c8b13fdec0b7ca5d97abb73e2a83e)\n",
       "        ;\n",
       "\n",
       "        \n",
       "    \n",
       "    \n",
       "            var circle_marker_288e5d04102d5f13cd1b0ba45d8a7647 = L.circleMarker(\n",
       "                [37.7749, -122.4194],\n",
       "                {&quot;bubblingMouseEvents&quot;: true, &quot;color&quot;: &quot;#fa8631&quot;, &quot;dashArray&quot;: null, &quot;dashOffset&quot;: null, &quot;fill&quot;: true, &quot;fillColor&quot;: &quot;#fa8631&quot;, &quot;fillOpacity&quot;: 0.6, &quot;fillRule&quot;: &quot;evenodd&quot;, &quot;lineCap&quot;: &quot;round&quot;, &quot;lineJoin&quot;: &quot;round&quot;, &quot;opacity&quot;: 1.0, &quot;radius&quot;: 4.35, &quot;stroke&quot;: true, &quot;weight&quot;: 3}\n",
       "            ).addTo(map_6f8503deed31ced9340936f56e6b52ec);\n",
       "        \n",
       "    \n",
       "        var popup_96d7e1a49415a23aa0cd3b62852ab8f1 = L.popup({\n",
       "  &quot;maxWidth&quot;: &quot;100%&quot;,\n",
       "});\n",
       "\n",
       "        \n",
       "            \n",
       "                var html_6df5cdbaab078c80d48c096fc2850c5c = $(`&lt;div id=&quot;html_6df5cdbaab078c80d48c096fc2850c5c&quot; style=&quot;width: 100.0%; height: 100.0%;&quot;&gt;San Francisco: 435 jobs&lt;/div&gt;`)[0];\n",
       "                popup_96d7e1a49415a23aa0cd3b62852ab8f1.setContent(html_6df5cdbaab078c80d48c096fc2850c5c);\n",
       "            \n",
       "        \n",
       "\n",
       "        circle_marker_288e5d04102d5f13cd1b0ba45d8a7647.bindPopup(popup_96d7e1a49415a23aa0cd3b62852ab8f1)\n",
       "        ;\n",
       "\n",
       "        \n",
       "    \n",
       "    \n",
       "            var circle_marker_cd3099919a93f805b6fab5395b42ea37 = L.circleMarker(\n",
       "                [38.5417, -770059.0],\n",
       "                {&quot;bubblingMouseEvents&quot;: true, &quot;color&quot;: &quot;#fa8631&quot;, &quot;dashArray&quot;: null, &quot;dashOffset&quot;: null, &quot;fill&quot;: true, &quot;fillColor&quot;: &quot;#fa8631&quot;, &quot;fillOpacity&quot;: 0.6, &quot;fillRule&quot;: &quot;evenodd&quot;, &quot;lineCap&quot;: &quot;round&quot;, &quot;lineJoin&quot;: &quot;round&quot;, &quot;opacity&quot;: 1.0, &quot;radius&quot;: 53.16, &quot;stroke&quot;: true, &quot;weight&quot;: 3}\n",
       "            ).addTo(map_6f8503deed31ced9340936f56e6b52ec);\n",
       "        \n",
       "    \n",
       "        var popup_1cf228f1d543bcf8f7e4665e401e6fd8 = L.popup({\n",
       "  &quot;maxWidth&quot;: &quot;100%&quot;,\n",
       "});\n",
       "\n",
       "        \n",
       "            \n",
       "                var html_e44c00cdf627883a0558bc08e2216283 = $(`&lt;div id=&quot;html_e44c00cdf627883a0558bc08e2216283&quot; style=&quot;width: 100.0%; height: 100.0%;&quot;&gt;Washington DC: 5316 jobs&lt;/div&gt;`)[0];\n",
       "                popup_1cf228f1d543bcf8f7e4665e401e6fd8.setContent(html_e44c00cdf627883a0558bc08e2216283);\n",
       "            \n",
       "        \n",
       "\n",
       "        circle_marker_cd3099919a93f805b6fab5395b42ea37.bindPopup(popup_1cf228f1d543bcf8f7e4665e401e6fd8)\n",
       "        ;\n",
       "\n",
       "        \n",
       "    \n",
       "    \n",
       "            var circle_marker_ed232f7029fa249fb793af5049ae4b25 = L.circleMarker(\n",
       "                [42.2137, -71.328],\n",
       "                {&quot;bubblingMouseEvents&quot;: true, &quot;color&quot;: &quot;#fa8631&quot;, &quot;dashArray&quot;: null, &quot;dashOffset&quot;: null, &quot;fill&quot;: true, &quot;fillColor&quot;: &quot;#fa8631&quot;, &quot;fillOpacity&quot;: 0.6, &quot;fillRule&quot;: &quot;evenodd&quot;, &quot;lineCap&quot;: &quot;round&quot;, &quot;lineJoin&quot;: &quot;round&quot;, &quot;opacity&quot;: 1.0, &quot;radius&quot;: 29.66, &quot;stroke&quot;: true, &quot;weight&quot;: 3}\n",
       "            ).addTo(map_6f8503deed31ced9340936f56e6b52ec);\n",
       "        \n",
       "    \n",
       "        var popup_ceeadf53465c04dd58aebd34cf5ccd1d = L.popup({\n",
       "  &quot;maxWidth&quot;: &quot;100%&quot;,\n",
       "});\n",
       "\n",
       "        \n",
       "            \n",
       "                var html_631e3eb10ff4a15262f32ae0ae32007c = $(`&lt;div id=&quot;html_631e3eb10ff4a15262f32ae0ae32007c&quot; style=&quot;width: 100.0%; height: 100.0%;&quot;&gt;Boston: 2966 jobs&lt;/div&gt;`)[0];\n",
       "                popup_ceeadf53465c04dd58aebd34cf5ccd1d.setContent(html_631e3eb10ff4a15262f32ae0ae32007c);\n",
       "            \n",
       "        \n",
       "\n",
       "        circle_marker_ed232f7029fa249fb793af5049ae4b25.bindPopup(popup_ceeadf53465c04dd58aebd34cf5ccd1d)\n",
       "        ;\n",
       "\n",
       "        \n",
       "    \n",
       "    \n",
       "            var circle_marker_ab2abd33a61fab2f9a0d1e17d0a16ab6 = L.circleMarker(\n",
       "                [47.6062, -122.3321],\n",
       "                {&quot;bubblingMouseEvents&quot;: true, &quot;color&quot;: &quot;#fa8631&quot;, &quot;dashArray&quot;: null, &quot;dashOffset&quot;: null, &quot;fill&quot;: true, &quot;fillColor&quot;: &quot;#fa8631&quot;, &quot;fillOpacity&quot;: 0.6, &quot;fillRule&quot;: &quot;evenodd&quot;, &quot;lineCap&quot;: &quot;round&quot;, &quot;lineJoin&quot;: &quot;round&quot;, &quot;opacity&quot;: 1.0, &quot;radius&quot;: 33.75, &quot;stroke&quot;: true, &quot;weight&quot;: 3}\n",
       "            ).addTo(map_6f8503deed31ced9340936f56e6b52ec);\n",
       "        \n",
       "    \n",
       "        var popup_e58f9ebaf98e383b10abab9934743603 = L.popup({\n",
       "  &quot;maxWidth&quot;: &quot;100%&quot;,\n",
       "});\n",
       "\n",
       "        \n",
       "            \n",
       "                var html_c23c100c4ba0305dc8bbbf4eec8d2db4 = $(`&lt;div id=&quot;html_c23c100c4ba0305dc8bbbf4eec8d2db4&quot; style=&quot;width: 100.0%; height: 100.0%;&quot;&gt;Seattle: 3375 jobs&lt;/div&gt;`)[0];\n",
       "                popup_e58f9ebaf98e383b10abab9934743603.setContent(html_c23c100c4ba0305dc8bbbf4eec8d2db4);\n",
       "            \n",
       "        \n",
       "\n",
       "        circle_marker_ab2abd33a61fab2f9a0d1e17d0a16ab6.bindPopup(popup_e58f9ebaf98e383b10abab9934743603)\n",
       "        ;\n",
       "\n",
       "        \n",
       "    \n",
       "    \n",
       "            var circle_marker_7e728b148e7f888026a5cc08bd94dac0 = L.circleMarker(\n",
       "                [42.2, -83.03],\n",
       "                {&quot;bubblingMouseEvents&quot;: true, &quot;color&quot;: &quot;#fa8631&quot;, &quot;dashArray&quot;: null, &quot;dashOffset&quot;: null, &quot;fill&quot;: true, &quot;fillColor&quot;: &quot;#fa8631&quot;, &quot;fillOpacity&quot;: 0.6, &quot;fillRule&quot;: &quot;evenodd&quot;, &quot;lineCap&quot;: &quot;round&quot;, &quot;lineJoin&quot;: &quot;round&quot;, &quot;opacity&quot;: 1.0, &quot;radius&quot;: 39.45, &quot;stroke&quot;: true, &quot;weight&quot;: 3}\n",
       "            ).addTo(map_6f8503deed31ced9340936f56e6b52ec);\n",
       "        \n",
       "    \n",
       "        var popup_dd6db972b4ee8f726b472e38859b7ae7 = L.popup({\n",
       "  &quot;maxWidth&quot;: &quot;100%&quot;,\n",
       "});\n",
       "\n",
       "        \n",
       "            \n",
       "                var html_bc89c42dbc64f9bdfb9bdad28b7c0e23 = $(`&lt;div id=&quot;html_bc89c42dbc64f9bdfb9bdad28b7c0e23&quot; style=&quot;width: 100.0%; height: 100.0%;&quot;&gt;Detroit: 3945 jobs&lt;/div&gt;`)[0];\n",
       "                popup_dd6db972b4ee8f726b472e38859b7ae7.setContent(html_bc89c42dbc64f9bdfb9bdad28b7c0e23);\n",
       "            \n",
       "        \n",
       "\n",
       "        circle_marker_7e728b148e7f888026a5cc08bd94dac0.bindPopup(popup_dd6db972b4ee8f726b472e38859b7ae7)\n",
       "        ;\n",
       "\n",
       "        \n",
       "    \n",
       "    \n",
       "            var circle_marker_43987c76a73937a8cf32da0198ac402f = L.circleMarker(\n",
       "                [30.2672, -97.7431],\n",
       "                {&quot;bubblingMouseEvents&quot;: true, &quot;color&quot;: &quot;#fa8631&quot;, &quot;dashArray&quot;: null, &quot;dashOffset&quot;: null, &quot;fill&quot;: true, &quot;fillColor&quot;: &quot;#fa8631&quot;, &quot;fillOpacity&quot;: 0.6, &quot;fillRule&quot;: &quot;evenodd&quot;, &quot;lineCap&quot;: &quot;round&quot;, &quot;lineJoin&quot;: &quot;round&quot;, &quot;opacity&quot;: 1.0, &quot;radius&quot;: 4.34, &quot;stroke&quot;: true, &quot;weight&quot;: 3}\n",
       "            ).addTo(map_6f8503deed31ced9340936f56e6b52ec);\n",
       "        \n",
       "    \n",
       "        var popup_b927d96c0c98c0be604bff8ac68f5de5 = L.popup({\n",
       "  &quot;maxWidth&quot;: &quot;100%&quot;,\n",
       "});\n",
       "\n",
       "        \n",
       "            \n",
       "                var html_0a5db17c23447b1630066cf9296e2413 = $(`&lt;div id=&quot;html_0a5db17c23447b1630066cf9296e2413&quot; style=&quot;width: 100.0%; height: 100.0%;&quot;&gt;Austin: 434 jobs&lt;/div&gt;`)[0];\n",
       "                popup_b927d96c0c98c0be604bff8ac68f5de5.setContent(html_0a5db17c23447b1630066cf9296e2413);\n",
       "            \n",
       "        \n",
       "\n",
       "        circle_marker_43987c76a73937a8cf32da0198ac402f.bindPopup(popup_b927d96c0c98c0be604bff8ac68f5de5)\n",
       "        ;\n",
       "\n",
       "        \n",
       "    \n",
       "    \n",
       "            var circle_marker_5d6ad5b6d31d3820ea539bc78a13c324 = L.circleMarker(\n",
       "                [29.4546, -95.2259],\n",
       "                {&quot;bubblingMouseEvents&quot;: true, &quot;color&quot;: &quot;#fa8631&quot;, &quot;dashArray&quot;: null, &quot;dashOffset&quot;: null, &quot;fill&quot;: true, &quot;fillColor&quot;: &quot;#fa8631&quot;, &quot;fillOpacity&quot;: 0.6, &quot;fillRule&quot;: &quot;evenodd&quot;, &quot;lineCap&quot;: &quot;round&quot;, &quot;lineJoin&quot;: &quot;round&quot;, &quot;opacity&quot;: 1.0, &quot;radius&quot;: 33.39, &quot;stroke&quot;: true, &quot;weight&quot;: 3}\n",
       "            ).addTo(map_6f8503deed31ced9340936f56e6b52ec);\n",
       "        \n",
       "    \n",
       "        var popup_f56b3ed37f2aba4fcfa505c2e3179737 = L.popup({\n",
       "  &quot;maxWidth&quot;: &quot;100%&quot;,\n",
       "});\n",
       "\n",
       "        \n",
       "            \n",
       "                var html_a1a366963196887305789acfdea4b54d = $(`&lt;div id=&quot;html_a1a366963196887305789acfdea4b54d&quot; style=&quot;width: 100.0%; height: 100.0%;&quot;&gt;Houston: 3339 jobs&lt;/div&gt;`)[0];\n",
       "                popup_f56b3ed37f2aba4fcfa505c2e3179737.setContent(html_a1a366963196887305789acfdea4b54d);\n",
       "            \n",
       "        \n",
       "\n",
       "        circle_marker_5d6ad5b6d31d3820ea539bc78a13c324.bindPopup(popup_f56b3ed37f2aba4fcfa505c2e3179737)\n",
       "        ;\n",
       "\n",
       "        \n",
       "    \n",
       "    \n",
       "            var circle_marker_9652f5a32ed49463b2bd8ecf68b1c98d = L.circleMarker(\n",
       "                [39.571, -75.949],\n",
       "                {&quot;bubblingMouseEvents&quot;: true, &quot;color&quot;: &quot;#fa8631&quot;, &quot;dashArray&quot;: null, &quot;dashOffset&quot;: null, &quot;fill&quot;: true, &quot;fillColor&quot;: &quot;#fa8631&quot;, &quot;fillOpacity&quot;: 0.6, &quot;fillRule&quot;: &quot;evenodd&quot;, &quot;lineCap&quot;: &quot;round&quot;, &quot;lineJoin&quot;: &quot;round&quot;, &quot;opacity&quot;: 1.0, &quot;radius&quot;: 0.41, &quot;stroke&quot;: true, &quot;weight&quot;: 3}\n",
       "            ).addTo(map_6f8503deed31ced9340936f56e6b52ec);\n",
       "        \n",
       "    \n",
       "        var popup_9b4cf396fc8c2751a53bc6512d98dc87 = L.popup({\n",
       "  &quot;maxWidth&quot;: &quot;100%&quot;,\n",
       "});\n",
       "\n",
       "        \n",
       "            \n",
       "                var html_282c37b1ce03971956e8f01e7677a5dd = $(`&lt;div id=&quot;html_282c37b1ce03971956e8f01e7677a5dd&quot; style=&quot;width: 100.0%; height: 100.0%;&quot;&gt;Philadelphia: 41 jobs&lt;/div&gt;`)[0];\n",
       "                popup_9b4cf396fc8c2751a53bc6512d98dc87.setContent(html_282c37b1ce03971956e8f01e7677a5dd);\n",
       "            \n",
       "        \n",
       "\n",
       "        circle_marker_9652f5a32ed49463b2bd8ecf68b1c98d.bindPopup(popup_9b4cf396fc8c2751a53bc6512d98dc87)\n",
       "        ;\n",
       "\n",
       "        \n",
       "    \n",
       "    \n",
       "            var circle_marker_8970c4c133855cdedd9674660c5d7514 = L.circleMarker(\n",
       "                [29.5834, -90.442],\n",
       "                {&quot;bubblingMouseEvents&quot;: true, &quot;color&quot;: &quot;#fa8631&quot;, &quot;dashArray&quot;: null, &quot;dashOffset&quot;: null, &quot;fill&quot;: true, &quot;fillColor&quot;: &quot;#fa8631&quot;, &quot;fillOpacity&quot;: 0.6, &quot;fillRule&quot;: &quot;evenodd&quot;, &quot;lineCap&quot;: &quot;round&quot;, &quot;lineJoin&quot;: &quot;round&quot;, &quot;opacity&quot;: 1.0, &quot;radius&quot;: 8.17, &quot;stroke&quot;: true, &quot;weight&quot;: 3}\n",
       "            ).addTo(map_6f8503deed31ced9340936f56e6b52ec);\n",
       "        \n",
       "    \n",
       "        var popup_75e615396f7aaa010823686764920c7f = L.popup({\n",
       "  &quot;maxWidth&quot;: &quot;100%&quot;,\n",
       "});\n",
       "\n",
       "        \n",
       "            \n",
       "                var html_30cbe2049106de35f47b92994a8b5eab = $(`&lt;div id=&quot;html_30cbe2049106de35f47b92994a8b5eab&quot; style=&quot;width: 100.0%; height: 100.0%;&quot;&gt;New Orleons: 817 jobs&lt;/div&gt;`)[0];\n",
       "                popup_75e615396f7aaa010823686764920c7f.setContent(html_30cbe2049106de35f47b92994a8b5eab);\n",
       "            \n",
       "        \n",
       "\n",
       "        circle_marker_8970c4c133855cdedd9674660c5d7514.bindPopup(popup_75e615396f7aaa010823686764920c7f)\n",
       "        ;\n",
       "\n",
       "        \n",
       "    \n",
       "    \n",
       "            var circle_marker_26acafd14d8b6de3f2dafa58ef51377f = L.circleMarker(\n",
       "                [39.1722, -76.3655],\n",
       "                {&quot;bubblingMouseEvents&quot;: true, &quot;color&quot;: &quot;#fa8631&quot;, &quot;dashArray&quot;: null, &quot;dashOffset&quot;: null, &quot;fill&quot;: true, &quot;fillColor&quot;: &quot;#fa8631&quot;, &quot;fillOpacity&quot;: 0.6, &quot;fillRule&quot;: &quot;evenodd&quot;, &quot;lineCap&quot;: &quot;round&quot;, &quot;lineJoin&quot;: &quot;round&quot;, &quot;opacity&quot;: 1.0, &quot;radius&quot;: 12.63, &quot;stroke&quot;: true, &quot;weight&quot;: 3}\n",
       "            ).addTo(map_6f8503deed31ced9340936f56e6b52ec);\n",
       "        \n",
       "    \n",
       "        var popup_4d393ef11b32267ce2eb9ad00d6f2076 = L.popup({\n",
       "  &quot;maxWidth&quot;: &quot;100%&quot;,\n",
       "});\n",
       "\n",
       "        \n",
       "            \n",
       "                var html_718381329eca2bd0b261525ee411c8b7 = $(`&lt;div id=&quot;html_718381329eca2bd0b261525ee411c8b7&quot; style=&quot;width: 100.0%; height: 100.0%;&quot;&gt;Baltimore: 1263 jobs&lt;/div&gt;`)[0];\n",
       "                popup_4d393ef11b32267ce2eb9ad00d6f2076.setContent(html_718381329eca2bd0b261525ee411c8b7);\n",
       "            \n",
       "        \n",
       "\n",
       "        circle_marker_26acafd14d8b6de3f2dafa58ef51377f.bindPopup(popup_4d393ef11b32267ce2eb9ad00d6f2076)\n",
       "        ;\n",
       "\n",
       "        \n",
       "    \n",
       "    \n",
       "            var circle_marker_3e1eb0654c2b6e2eee29d74e4c7878fa = L.circleMarker(\n",
       "                [32.4645, -96.4832],\n",
       "                {&quot;bubblingMouseEvents&quot;: true, &quot;color&quot;: &quot;#fa8631&quot;, &quot;dashArray&quot;: null, &quot;dashOffset&quot;: null, &quot;fill&quot;: true, &quot;fillColor&quot;: &quot;#fa8631&quot;, &quot;fillOpacity&quot;: 0.6, &quot;fillRule&quot;: &quot;evenodd&quot;, &quot;lineCap&quot;: &quot;round&quot;, &quot;lineJoin&quot;: &quot;round&quot;, &quot;opacity&quot;: 1.0, &quot;radius&quot;: 12.08, &quot;stroke&quot;: true, &quot;weight&quot;: 3}\n",
       "            ).addTo(map_6f8503deed31ced9340936f56e6b52ec);\n",
       "        \n",
       "    \n",
       "        var popup_d941f91d44c1234105977bd7f143ea63 = L.popup({\n",
       "  &quot;maxWidth&quot;: &quot;100%&quot;,\n",
       "});\n",
       "\n",
       "        \n",
       "            \n",
       "                var html_36c7274371fc385cef8c4ce3799a5362 = $(`&lt;div id=&quot;html_36c7274371fc385cef8c4ce3799a5362&quot; style=&quot;width: 100.0%; height: 100.0%;&quot;&gt;Dallas: 1208 jobs&lt;/div&gt;`)[0];\n",
       "                popup_d941f91d44c1234105977bd7f143ea63.setContent(html_36c7274371fc385cef8c4ce3799a5362);\n",
       "            \n",
       "        \n",
       "\n",
       "        circle_marker_3e1eb0654c2b6e2eee29d74e4c7878fa.bindPopup(popup_d941f91d44c1234105977bd7f143ea63)\n",
       "        ;\n",
       "\n",
       "        \n",
       "    \n",
       "    \n",
       "            tile_layer_7665552b45d2f52833021a05d212a4e5.addTo(map_6f8503deed31ced9340936f56e6b52ec);\n",
       "        \n",
       "&lt;/script&gt;\n",
       "&lt;/html&gt;\" style=\"position:absolute;width:100%;height:100%;left:0;top:0;border:none !important;\" allowfullscreen webkitallowfullscreen mozallowfullscreen></iframe></div></div>"
      ],
      "text/plain": [
       "<folium.folium.Map at 0x7f9eb575cd40>"
      ]
     },
     "execution_count": 18,
     "metadata": {},
     "output_type": "execute_result"
    }
   ],
   "source": [
    "# Coordinates for all cities\n",
    "\n",
    "coordinates = {\n",
    "    'New York': [40.7128, -74.0060],\n",
    "    'San Francisco': [37.7749, -122.4194],\n",
    "    'Los Angeles': [34.03, -118.15],\n",
    "    'Washington DC': [38.5417,-770059],\n",
    "    'Detroit': [42.20,-83.03],\n",
    "    'Boston': [42.2137,-71.328],\n",
    "    'Austin': [30.2672, -97.7431],\n",
    "    'Seattle': [47.6062, -122.3321],\n",
    "    'Houston': [29.4546,-95.2259],\n",
    "    'Philadelphia':[39.571,-75.949],\n",
    "    'New Orleons':[29.5834,-90.442], \n",
    "    'Baltimore':[39.1722,-76.3655], \n",
    "    'Dallas':[32.4645,-96.4832]\n",
    "}\n",
    "df_job_locations['Latitude'] = df_job_locations['Location'].map(lambda x: coordinates[x][0])\n",
    "df_job_locations['Longitude'] = df_job_locations['Location'].map(lambda x: coordinates[x][1])\n",
    "\n",
    "# Create a map center on the USA\n",
    "usa_map = folium.Map(location=[37.0902, -95.7129], zoom_start=4)\n",
    "\n",
    "# Add cities with a proportional circle related to the number of jobs\n",
    "for index, row in df_job_locations.iterrows():\n",
    "    folium.CircleMarker(\n",
    "        location=[row['Latitude'], row['Longitude']],\n",
    "        radius=row['Number of Jobs'] / 100,  # Adjust circle size\n",
    "        color='#fa8631',\n",
    "        fill=True,\n",
    "        fill_color='#fa8631',\n",
    "        fill_opacity=0.6,\n",
    "        popup=f\"{row['Location']}: {row['Number of Jobs']} jobs\"\n",
    "    ).add_to(usa_map)\n",
    "\n",
    "# Save the html map\n",
    "usa_map.save('usa_jobs_map.html')\n",
    "\n",
    "# Display into the notebook\n",
    "usa_map"
   ]
  },
  {
   "cell_type": "code",
   "execution_count": null,
   "id": "9e095fc2-8fe4-4748-b339-37b7cec1d832",
   "metadata": {},
   "outputs": [],
   "source": []
  }
 ],
 "metadata": {
  "kernelspec": {
   "display_name": "Python 3 (ipykernel)",
   "language": "python",
   "name": "python3"
  },
  "language_info": {
   "codemirror_mode": {
    "name": "ipython",
    "version": 3
   },
   "file_extension": ".py",
   "mimetype": "text/x-python",
   "name": "python",
   "nbconvert_exporter": "python",
   "pygments_lexer": "ipython3",
   "version": "3.12.8"
  }
 },
 "nbformat": 4,
 "nbformat_minor": 5
}
